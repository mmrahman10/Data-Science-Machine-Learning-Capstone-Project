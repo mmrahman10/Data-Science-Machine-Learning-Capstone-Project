{
 "cells": [
  {
   "cell_type": "markdown",
   "metadata": {},
   "source": [
    "<h1 align=center><font size=5>Data Science and Machine Learning Capstone Project</font></h1>\n",
    "<h2 align=center><font size=3; color=blue> Copyright &#169; Mustafizur Rahman</font></h2>"
   ]
  },
  {
   "cell_type": "markdown",
   "metadata": {},
   "source": [
    "<p><b>MULTI CLASS CLASSIFICATION MODEL FOR BROOKLYN TOP FIVE COMPLAINTS:</b> In this section, I will DEVELOP a classification model using features to predict future Complaint of top five complaint Type</p>"
   ]
  },
  {
   "cell_type": "markdown",
   "metadata": {},
   "source": [
    "<h4>Import pandas</h4> "
   ]
  },
  {
   "cell_type": "code",
   "execution_count": 1,
   "metadata": {},
   "outputs": [],
   "source": [
    "import pandas as pd\n",
    "import numpy as np\n",
    "import matplotlib.pylab as plt\n",
    "import seaborn as sn\n",
    "%matplotlib inline \n",
    "# importing necessary libraries \n",
    "from sklearn.metrics import confusion_matrix \n",
    "from sklearn.model_selection import train_test_split"
   ]
  },
  {
   "cell_type": "markdown",
   "metadata": {},
   "source": [
    "<h2>Import data from previous model where I save Clean data for analysis, visualization and Modeling.</h2>"
   ]
  },
  {
   "cell_type": "code",
   "execution_count": 2,
   "metadata": {},
   "outputs": [],
   "source": [
    "filename='C:\\\\Users\\\\TOPU\\Documents\\\\GitHub\\\\5. Data Science and Machine Learning Capstone Project\\\\Manhattan_Merged_top5_df.csv'"
   ]
  },
  {
   "cell_type": "markdown",
   "metadata": {},
   "source": [
    "Use the Pandas method <b>read_csv()</b> to load the data from local drive."
   ]
  },
  {
   "cell_type": "code",
   "execution_count": 3,
   "metadata": {
    "jupyter": {
     "outputs_hidden": false
    }
   },
   "outputs": [
    {
     "data": {
      "text/html": [
       "<div>\n",
       "<style scoped>\n",
       "    .dataframe tbody tr th:only-of-type {\n",
       "        vertical-align: middle;\n",
       "    }\n",
       "\n",
       "    .dataframe tbody tr th {\n",
       "        vertical-align: top;\n",
       "    }\n",
       "\n",
       "    .dataframe thead th {\n",
       "        text-align: right;\n",
       "    }\n",
       "</style>\n",
       "<table border=\"1\" class=\"dataframe\">\n",
       "  <thead>\n",
       "    <tr style=\"text-align: right;\">\n",
       "      <th></th>\n",
       "      <th>Complaint Type</th>\n",
       "      <th>Address</th>\n",
       "      <th>Borough</th>\n",
       "      <th>BldgArea</th>\n",
       "      <th>BldgDepth</th>\n",
       "      <th>BuiltFAR</th>\n",
       "      <th>CommFAR</th>\n",
       "      <th>FacilFAR</th>\n",
       "      <th>Lot</th>\n",
       "      <th>LotArea</th>\n",
       "      <th>...</th>\n",
       "      <th>NumFloors</th>\n",
       "      <th>OfficeArea</th>\n",
       "      <th>ResArea</th>\n",
       "      <th>ResidFAR</th>\n",
       "      <th>RetailArea</th>\n",
       "      <th>YearBuilt</th>\n",
       "      <th>YearAlter1</th>\n",
       "      <th>ZipCode</th>\n",
       "      <th>BldAge</th>\n",
       "      <th>RenvAge</th>\n",
       "    </tr>\n",
       "  </thead>\n",
       "  <tbody>\n",
       "    <tr>\n",
       "      <td>0</td>\n",
       "      <td>1</td>\n",
       "      <td>225 CENTRAL PARK NORTH</td>\n",
       "      <td>MN</td>\n",
       "      <td>0.003952</td>\n",
       "      <td>0.009374</td>\n",
       "      <td>0.010667</td>\n",
       "      <td>0.0</td>\n",
       "      <td>0.4</td>\n",
       "      <td>13</td>\n",
       "      <td>0.000342</td>\n",
       "      <td>...</td>\n",
       "      <td>0.057692</td>\n",
       "      <td>0.0</td>\n",
       "      <td>0.006345</td>\n",
       "      <td>0.5</td>\n",
       "      <td>0.0</td>\n",
       "      <td>1926</td>\n",
       "      <td>0</td>\n",
       "      <td>10026.0</td>\n",
       "      <td>0.368627</td>\n",
       "      <td>0.0</td>\n",
       "    </tr>\n",
       "    <tr>\n",
       "      <td>1</td>\n",
       "      <td>1</td>\n",
       "      <td>225 CENTRAL PARK NORTH</td>\n",
       "      <td>MN</td>\n",
       "      <td>0.003952</td>\n",
       "      <td>0.009374</td>\n",
       "      <td>0.010667</td>\n",
       "      <td>0.0</td>\n",
       "      <td>0.4</td>\n",
       "      <td>13</td>\n",
       "      <td>0.000342</td>\n",
       "      <td>...</td>\n",
       "      <td>0.057692</td>\n",
       "      <td>0.0</td>\n",
       "      <td>0.006345</td>\n",
       "      <td>0.5</td>\n",
       "      <td>0.0</td>\n",
       "      <td>1926</td>\n",
       "      <td>0</td>\n",
       "      <td>10026.0</td>\n",
       "      <td>0.368627</td>\n",
       "      <td>0.0</td>\n",
       "    </tr>\n",
       "    <tr>\n",
       "      <td>2</td>\n",
       "      <td>1</td>\n",
       "      <td>225 CENTRAL PARK NORTH</td>\n",
       "      <td>MN</td>\n",
       "      <td>0.003952</td>\n",
       "      <td>0.009374</td>\n",
       "      <td>0.010667</td>\n",
       "      <td>0.0</td>\n",
       "      <td>0.4</td>\n",
       "      <td>13</td>\n",
       "      <td>0.000342</td>\n",
       "      <td>...</td>\n",
       "      <td>0.057692</td>\n",
       "      <td>0.0</td>\n",
       "      <td>0.006345</td>\n",
       "      <td>0.5</td>\n",
       "      <td>0.0</td>\n",
       "      <td>1926</td>\n",
       "      <td>0</td>\n",
       "      <td>10026.0</td>\n",
       "      <td>0.368627</td>\n",
       "      <td>0.0</td>\n",
       "    </tr>\n",
       "    <tr>\n",
       "      <td>3</td>\n",
       "      <td>1</td>\n",
       "      <td>225 CENTRAL PARK NORTH</td>\n",
       "      <td>MN</td>\n",
       "      <td>0.003952</td>\n",
       "      <td>0.009374</td>\n",
       "      <td>0.010667</td>\n",
       "      <td>0.0</td>\n",
       "      <td>0.4</td>\n",
       "      <td>13</td>\n",
       "      <td>0.000342</td>\n",
       "      <td>...</td>\n",
       "      <td>0.057692</td>\n",
       "      <td>0.0</td>\n",
       "      <td>0.006345</td>\n",
       "      <td>0.5</td>\n",
       "      <td>0.0</td>\n",
       "      <td>1926</td>\n",
       "      <td>0</td>\n",
       "      <td>10026.0</td>\n",
       "      <td>0.368627</td>\n",
       "      <td>0.0</td>\n",
       "    </tr>\n",
       "    <tr>\n",
       "      <td>4</td>\n",
       "      <td>1</td>\n",
       "      <td>225 CENTRAL PARK NORTH</td>\n",
       "      <td>MN</td>\n",
       "      <td>0.003952</td>\n",
       "      <td>0.009374</td>\n",
       "      <td>0.010667</td>\n",
       "      <td>0.0</td>\n",
       "      <td>0.4</td>\n",
       "      <td>13</td>\n",
       "      <td>0.000342</td>\n",
       "      <td>...</td>\n",
       "      <td>0.057692</td>\n",
       "      <td>0.0</td>\n",
       "      <td>0.006345</td>\n",
       "      <td>0.5</td>\n",
       "      <td>0.0</td>\n",
       "      <td>1926</td>\n",
       "      <td>0</td>\n",
       "      <td>10026.0</td>\n",
       "      <td>0.368627</td>\n",
       "      <td>0.0</td>\n",
       "    </tr>\n",
       "  </tbody>\n",
       "</table>\n",
       "<p>5 rows × 22 columns</p>\n",
       "</div>"
      ],
      "text/plain": [
       "   Complaint Type                 Address Borough  BldgArea  BldgDepth  \\\n",
       "0               1  225 CENTRAL PARK NORTH      MN  0.003952   0.009374   \n",
       "1               1  225 CENTRAL PARK NORTH      MN  0.003952   0.009374   \n",
       "2               1  225 CENTRAL PARK NORTH      MN  0.003952   0.009374   \n",
       "3               1  225 CENTRAL PARK NORTH      MN  0.003952   0.009374   \n",
       "4               1  225 CENTRAL PARK NORTH      MN  0.003952   0.009374   \n",
       "\n",
       "   BuiltFAR  CommFAR  FacilFAR  Lot   LotArea  ...  NumFloors  OfficeArea  \\\n",
       "0  0.010667      0.0       0.4   13  0.000342  ...   0.057692         0.0   \n",
       "1  0.010667      0.0       0.4   13  0.000342  ...   0.057692         0.0   \n",
       "2  0.010667      0.0       0.4   13  0.000342  ...   0.057692         0.0   \n",
       "3  0.010667      0.0       0.4   13  0.000342  ...   0.057692         0.0   \n",
       "4  0.010667      0.0       0.4   13  0.000342  ...   0.057692         0.0   \n",
       "\n",
       "    ResArea  ResidFAR  RetailArea  YearBuilt  YearAlter1  ZipCode    BldAge  \\\n",
       "0  0.006345       0.5         0.0       1926           0  10026.0  0.368627   \n",
       "1  0.006345       0.5         0.0       1926           0  10026.0  0.368627   \n",
       "2  0.006345       0.5         0.0       1926           0  10026.0  0.368627   \n",
       "3  0.006345       0.5         0.0       1926           0  10026.0  0.368627   \n",
       "4  0.006345       0.5         0.0       1926           0  10026.0  0.368627   \n",
       "\n",
       "   RenvAge  \n",
       "0      0.0  \n",
       "1      0.0  \n",
       "2      0.0  \n",
       "3      0.0  \n",
       "4      0.0  \n",
       "\n",
       "[5 rows x 22 columns]"
      ]
     },
     "execution_count": 3,
     "metadata": {},
     "output_type": "execute_result"
    }
   ],
   "source": [
    "df= pd.read_csv(filename)\n",
    "df.head()"
   ]
  },
  {
   "cell_type": "code",
   "execution_count": 4,
   "metadata": {},
   "outputs": [
    {
     "name": "stdout",
     "output_type": "stream",
     "text": [
      "Index(['Complaint Type', 'Address', 'Borough', 'BldgArea', 'BldgDepth',\n",
      "       'BuiltFAR', 'CommFAR', 'FacilFAR', 'Lot', 'LotArea', 'LotDepth',\n",
      "       'NumBldgs', 'NumFloors', 'OfficeArea', 'ResArea', 'ResidFAR',\n",
      "       'RetailArea', 'YearBuilt', 'YearAlter1', 'ZipCode', 'BldAge',\n",
      "       'RenvAge'],\n",
      "      dtype='object')\n"
     ]
    },
    {
     "data": {
      "text/html": [
       "<div>\n",
       "<style scoped>\n",
       "    .dataframe tbody tr th:only-of-type {\n",
       "        vertical-align: middle;\n",
       "    }\n",
       "\n",
       "    .dataframe tbody tr th {\n",
       "        vertical-align: top;\n",
       "    }\n",
       "\n",
       "    .dataframe thead th {\n",
       "        text-align: right;\n",
       "    }\n",
       "</style>\n",
       "<table border=\"1\" class=\"dataframe\">\n",
       "  <thead>\n",
       "    <tr style=\"text-align: right;\">\n",
       "      <th></th>\n",
       "      <th>Address</th>\n",
       "      <th>Borough</th>\n",
       "    </tr>\n",
       "  </thead>\n",
       "  <tbody>\n",
       "    <tr>\n",
       "      <td>count</td>\n",
       "      <td>434917</td>\n",
       "      <td>434917</td>\n",
       "    </tr>\n",
       "    <tr>\n",
       "      <td>unique</td>\n",
       "      <td>15731</td>\n",
       "      <td>1</td>\n",
       "    </tr>\n",
       "    <tr>\n",
       "      <td>top</td>\n",
       "      <td>34 ARDEN STREET</td>\n",
       "      <td>MN</td>\n",
       "    </tr>\n",
       "    <tr>\n",
       "      <td>freq</td>\n",
       "      <td>12340</td>\n",
       "      <td>434917</td>\n",
       "    </tr>\n",
       "  </tbody>\n",
       "</table>\n",
       "</div>"
      ],
      "text/plain": [
       "                Address Borough\n",
       "count            434917  434917\n",
       "unique            15731       1\n",
       "top     34 ARDEN STREET      MN\n",
       "freq              12340  434917"
      ]
     },
     "execution_count": 4,
     "metadata": {},
     "output_type": "execute_result"
    }
   ],
   "source": [
    "print(df.columns)\n",
    "df.describe(include=['object'])"
   ]
  },
  {
   "cell_type": "markdown",
   "metadata": {},
   "source": [
    "Use the Pandas method <b>read_csv()</b> to load the data from local drive."
   ]
  },
  {
   "cell_type": "code",
   "execution_count": 33,
   "metadata": {},
   "outputs": [
    {
     "name": "stdout",
     "output_type": "stream",
     "text": [
      "sklearn: 0.21.3\n"
     ]
    }
   ],
   "source": [
    "# print('sklearn: {}'.format(sklearn.__version__))\n",
    "# df = df.apply(pd.to_numeric, errors='coerce')"
   ]
  },
  {
   "cell_type": "code",
   "execution_count": 5,
   "metadata": {},
   "outputs": [
    {
     "data": {
      "text/plain": [
       "1    150461\n",
       "2    117398\n",
       "3     73844\n",
       "0     52445\n",
       "4     40769\n",
       "Name: Complaint Type, dtype: int64"
      ]
     },
     "execution_count": 5,
     "metadata": {},
     "output_type": "execute_result"
    }
   ],
   "source": [
    "df['Complaint Type'].value_counts()"
   ]
  },
  {
   "cell_type": "markdown",
   "metadata": {},
   "source": [
    "<p>\n",
    "\n",
    "Select all features for the modeling. Also check the target data type (should be integer, as it is a requirement  by the skitlearn algorithm)</p>\n",
    "<b>FEATURE SETS:BldgArea\tBldgDepth\tBuiltFAR\tCommFAR\tFacilFAR\tLotArea\tLotDepth\tNumBldgs\tNumFloors\tOfficeArea\tResArea\tResidFAR\tRetailArea\tBldAge and\tRenvAge</b>\n"
   ]
  },
  {
   "cell_type": "code",
   "execution_count": 6,
   "metadata": {},
   "outputs": [
    {
     "name": "stdout",
     "output_type": "stream",
     "text": [
      "   BldgDepth  BuiltFAR  LotDepth  NumFloors   ResArea    BldAge\n",
      "0   0.009374  0.010667      0.02   0.057692  0.006345  0.368627\n",
      "1   0.009374  0.010667      0.02   0.057692  0.006345  0.368627\n",
      "2   0.009374  0.010667      0.02   0.057692  0.006345  0.368627\n",
      "3   0.009374  0.010667      0.02   0.057692  0.006345  0.368627\n",
      "4   0.009374  0.010667      0.02   0.057692  0.006345  0.368627\n",
      "0     1\n",
      "1     1\n",
      "2     1\n",
      "3     1\n",
      "4     1\n",
      "5     1\n",
      "6     1\n",
      "7     1\n",
      "8     1\n",
      "9     1\n",
      "10    1\n",
      "11    1\n",
      "12    1\n",
      "13    1\n",
      "14    1\n",
      "15    1\n",
      "16    1\n",
      "17    1\n",
      "18    1\n",
      "19    1\n",
      "20    1\n",
      "21    1\n",
      "22    1\n",
      "23    1\n",
      "24    1\n",
      "Name: Complaint Type, dtype: int64\n",
      "Feature Set: (434917, 6)\n",
      "Label set: (434917,)\n"
     ]
    }
   ],
   "source": [
    "feature_cols = ['BldgDepth','BuiltFAR', 'LotDepth', 'NumFloors', 'ResArea', 'BldAge']\n",
    "#feature_cols = ['BldgDepth','BuiltFAR', 'NumFloors', 'ResArea', 'BldAge']\n",
    "X=df[feature_cols]\n",
    "y=df['Complaint Type']\n",
    "print(X[0:5])\n",
    "print(y [0:25])\n",
    "print ('Feature Set:', X.shape)\n",
    "print ('Label set:', y.shape)"
   ]
  },
  {
   "cell_type": "markdown",
   "metadata": {},
   "source": [
    "## Train/Test split"
   ]
  },
  {
   "cell_type": "code",
   "execution_count": 7,
   "metadata": {},
   "outputs": [
    {
     "name": "stdout",
     "output_type": "stream",
     "text": [
      "Train set: (391425, 6) (391425,)\n",
      "Test set: (43492, 6) (43492,)\n",
      "(434917,)\n"
     ]
    }
   ],
   "source": [
    "import sklearn\n",
    "from sklearn.model_selection import train_test_split\n",
    "#print('sklearn: {}'.format(sklearn.__version__))\n",
    "# split X and y into training and testing sets\n",
    "#X_train, X_test, y_train, y_test = train_test_split(X, y, random_state=0)\n",
    "X_train, X_test, y_train, y_test = train_test_split( X, y, test_size=0.1, random_state=7)\n",
    "print ('Train set:', X_train.shape,  y_train.shape)\n",
    "print ('Test set:', X_test.shape,  y_test.shape)\n",
    "print(y.shape)"
   ]
  },
  {
   "cell_type": "markdown",
   "metadata": {},
   "source": [
    "<h2 id=\"pattern_visualization\"> XGBoost Multiclass classifier</h2>\n",
    "\n",
    "Decision tree classifier is a systematic approach for multiclass classification. It poses a set of questions to the dataset (related to its attributes/features). The decision tree classification algorithm can be visualized on a binary tree. On the root and each of the internal nodes, a question is posed and the data on that node is further split into separate records that have different characteristics. The leaves of the tree refer to the classes in which the dataset is split. In the following code snippet, I train a decision tree classifier in scikit-learn.Although XGBoost is among many solutions in machine learning problems, one could find it less trivial to implement its booster for multiclass or multilabel classification as it’s not directly implemented to the Python API XGBClassifier.\n",
    "\n",
    "<b>To use XGBoost main module for a multiclass classification problem, it is needed to change the value of two parameters: objective and num_class.</b>\n"
   ]
  },
  {
   "cell_type": "code",
   "execution_count": 8,
   "metadata": {},
   "outputs": [],
   "source": [
    "import xgboost as xgb\n",
    "#Split data for the train and test sets and get our dmatrices.\n",
    "#DMatrix, it is a data interface commonly used as input in XGBoost models, \n",
    "#it works well with Pandas dataframes, Numpy arrays, SciPy arrays, CSV files, etc.\n",
    "\n",
    "dtrain = xgb.DMatrix(data=X_train, label=y_train)\n",
    "dtest = xgb.DMatrix(data=X_test)\n",
    "\n",
    "# from xgboost.sklearn import  XGBClassifier\n",
    "# from sklearn.preprocessing import LabelEncoder\n",
    "# from sklearn import cross_validation, metrics\n",
    "# from sklearn.grid_search import GridSearchCV\n",
    "# n_classes_ = len(np.unique(y_train))\n",
    "# xgb_model = xgb.XGBClassifier(objective='multi:softmax')\n",
    "# xgb_params = [{'num_class': n_classes_}]\n",
    "# xgb_params  = [\n",
    "#     {    \n",
    "#     \"n_estimators\": range(50, 501, 50),\n",
    "#     }\n",
    "# ]\n",
    "# #cv\n",
    "# cv = cross_validation.StratifiedShuffleSplit(y_train, n_iter=5, test_size=0.3, random_state=42)\n",
    "\n",
    "# xgb_grid = grid_search.GridSearchCV(xgb_model, xgb_params,cv=cv, n_jobs=-1, verbose=3)\n",
    "# xgb_grid.fit(X_train, y_train)"
   ]
  },
  {
   "cell_type": "markdown",
   "metadata": {},
   "source": [
    "Time to set our XGBoost parameters to perform multiclass predictions!"
   ]
  },
  {
   "cell_type": "code",
   "execution_count": 9,
   "metadata": {},
   "outputs": [],
   "source": [
    "# xgb_params = [{'num_class': n_classes_}]\n",
    "# xgb_params  = [\n",
    "#     {    \n",
    "#     \"n_estimators\": range(50, 501, 50),\n",
    "#     }\n",
    "# ]\n",
    "\n",
    "params = {\n",
    "    'max_depth': 20,\n",
    "    'objective': 'multi:softmax',  # error evaluation for multiclass training\n",
    "    'num_class': 5,\n",
    "    'n_gpus': 0\n",
    "}"
   ]
  },
  {
   "cell_type": "markdown",
   "metadata": {},
   "source": [
    "<b>Now it’s time to train our model and see how it goes.</b>"
   ]
  },
  {
   "cell_type": "code",
   "execution_count": 10,
   "metadata": {},
   "outputs": [
    {
     "name": "stdout",
     "output_type": "stream",
     "text": [
      "[0. 2. 2. 2. 2. 3. 1. 1. 2. 2.]\n",
      "142801    0\n",
      "260971    3\n",
      "111911    2\n",
      "122282    1\n",
      "140336    1\n",
      "88436     0\n",
      "101296    0\n",
      "397672    1\n",
      "378522    2\n",
      "422644    2\n",
      "Name: Complaint Type, dtype: int64\n"
     ]
    }
   ],
   "source": [
    "xgbst = xgb.train(params, dtrain)\n",
    "y_pred_xgbst = xgbst.predict(dtest)\n",
    "print(y_pred_xgbst[0:10])\n",
    "print(y_test[0:10])"
   ]
  },
  {
   "cell_type": "code",
   "execution_count": 11,
   "metadata": {},
   "outputs": [
    {
     "name": "stdout",
     "output_type": "stream",
     "text": [
      "              precision    recall  f1-score   support\n",
      "\n",
      "           0       0.40      0.30      0.34      5279\n",
      "           1       0.56      0.72      0.63     15108\n",
      "           2       0.54      0.62      0.58     11795\n",
      "           3       0.35      0.23      0.28      7210\n",
      "           4       0.45      0.18      0.26      4100\n",
      "\n",
      "    accuracy                           0.51     43492\n",
      "   macro avg       0.46      0.41      0.42     43492\n",
      "weighted avg       0.49      0.51      0.49     43492\n",
      "\n"
     ]
    }
   ],
   "source": [
    "from sklearn.metrics import classification_report\n",
    "print(classification_report(y_test, y_pred_xgbst))"
   ]
  },
  {
   "cell_type": "code",
   "execution_count": 12,
   "metadata": {},
   "outputs": [
    {
     "name": "stdout",
     "output_type": "stream",
     "text": [
      "0.5096109629357123\n"
     ]
    }
   ],
   "source": [
    "from sklearn import metrics\n",
    "print(metrics.accuracy_score(y_test, y_pred_xgbst))"
   ]
  },
  {
   "cell_type": "markdown",
   "metadata": {},
   "source": [
    "<h2 id=\"pattern_visualization\"> Confusion Matrix for XGBoost classifier</h2>"
   ]
  },
  {
   "cell_type": "code",
   "execution_count": 13,
   "metadata": {},
   "outputs": [
    {
     "name": "stdout",
     "output_type": "stream",
     "text": [
      "[[ 1590  1227  1434   892   136]\n",
      " [  472 10837  2718   757   324]\n",
      " [  629  2946  7355   717   148]\n",
      " [ 1050  2584  1623  1633   320]\n",
      " [  228  1902   597   624   749]]\n"
     ]
    },
    {
     "data": {
      "image/png": "[encoded data removed]",
      "text/plain": [
       "<Figure size 432x288 with 2 Axes>"
      ]
     },
     "metadata": {},
     "output_type": "display_data"
    }
   ],
   "source": [
    "# creating a confusion matrix \n",
    "cm_xgboost = confusion_matrix(y_test, y_pred_xgbst)\n",
    "print(cm_xgboost)\n",
    "sn.set(font_scale=2.0) # for label size\n",
    "akws = {\"size\": 15,\"ha\": 'center',\"va\": 'center',\"color\":'red'}\n",
    "# font size, Horizontal position ('center', 'right', 'left'), \n",
    "#Vertical position('top', 'bottom', 'center', 'baseline', 'center_baseline')\n",
    "ax=sn.heatmap(cm_xgboost, linewidths=1.0, linecolor=\"red\",cmap=\"YlGnBu\",center=0, annot=True,fmt=\"d\", annot_kws=akws) \n",
    "plt.ylabel('Actual label', fontsize=15,fontweight=\"bold\",color=\"red\")\n",
    "plt.xlabel('Predicted label', fontsize=15, fontweight=\"bold\",color=\"red\")\n",
    "plt.show()"
   ]
  },
  {
   "cell_type": "markdown",
   "metadata": {},
   "source": [
    "<h2 id=\"pattern_visualization\"> SVM (Support vector machine) Multiclass classifier</h2>\n",
    "SVM (Support vector machine) is an efficient classification method when the feature vector is high dimensional. In sci-kit learn, we can specify the kernel function (here, linear)."
   ]
  },
  {
   "cell_type": "code",
   "execution_count": null,
   "metadata": {},
   "outputs": [],
   "source": [
    "# training a linear SVM classifier \n",
    "from sklearn.svm import SVC \n",
    "#svm_model_linear = SVC(kernel = 'rbf', C = 1,gamma=0.01).fit(X_train, y_train)\n",
    "svm_model_linear = SVC(kernel = 'linear', C = 1,gamma='auto').fit(X_train, y_train)\n",
    "svm_predictions = svm_model_linear.predict(X_test) \n",
    "  \n",
    "# model accuracy for X_test   \n",
    "accuracy = svm_model_linear.score(X_test, y_test) \n",
    "print(accuracy)  \n",
    "# creating a confusion matrix \n",
    "cm_svm = confusion_matrix(y_test, svm_predictions)"
   ]
  },
  {
   "cell_type": "code",
   "execution_count": null,
   "metadata": {},
   "outputs": [],
   "source": [
    "print(classification_report(y_test, svm_predictions))"
   ]
  },
  {
   "cell_type": "code",
   "execution_count": null,
   "metadata": {},
   "outputs": [],
   "source": [
    "sn.set(font_scale=2.0) # for label size\n",
    "akws = {\"size\": 15,\"ha\": 'center',\"va\": 'center',\"color\":'red'}\n",
    "# font size, Horizontal position ('center', 'right', 'left'), \n",
    "#Vertical position('top', 'bottom', 'center', 'baseline', 'center_baseline')\n",
    "ax=sn.heatmap(cm_svm, linewidths=2.0, linecolor=\"red\",cmap=\"YlGnBu\",center=0, annot=True,fmt=\"d\", annot_kws=akws) \n",
    "plt.ylabel('Actual label', fontsize=15,fontweight=\"bold\",color=\"red\")\n",
    "plt.xlabel('Predicted label', fontsize=15, fontweight=\"bold\",color=\"red\")\n",
    "plt.show()"
   ]
  },
  {
   "cell_type": "markdown",
   "metadata": {},
   "source": [
    "<h2 id=\"pattern_visualization\"> KNN (k-nearest neighbours) classifier</h2>\n",
    "KNN or k-nearest neighbours is the simplest classification algorithm. This classification algorithm does not depend on the structure of the data. Whenever a new example is encountered, its k nearest neighbours from the training data are examined. Distance between two examples can be the euclidean distance between their feature vectors. The majority class among the k nearest neighbours is taken to be the class for the encountered example."
   ]
  },
  {
   "cell_type": "code",
   "execution_count": 14,
   "metadata": {},
   "outputs": [
    {
     "name": "stdout",
     "output_type": "stream",
     "text": [
      "0.4710291547870873\n",
      "[[1824 1147 1272  875  161]\n",
      " [ 955 9781 2855 1049  468]\n",
      " [1159 3012 6642  784  198]\n",
      " [1366 2323 1576 1580  365]\n",
      " [ 410 1713  655  663  659]]\n"
     ]
    }
   ],
   "source": [
    "from sklearn.neighbors import KNeighborsClassifier \n",
    "knn = KNeighborsClassifier(n_neighbors = 7).fit(X_train, y_train) \n",
    "  \n",
    "# accuracy on X_test \n",
    "accuracy = knn.score(X_test, y_test) \n",
    "print(accuracy) \n",
    "  \n",
    "# creating a confusion matrix \n",
    "knn_predictions = knn.predict(X_test)  \n",
    "cm_knn = confusion_matrix(y_test, knn_predictions) \n",
    "print(cm_knn)"
   ]
  },
  {
   "cell_type": "code",
   "execution_count": 15,
   "metadata": {},
   "outputs": [
    {
     "name": "stdout",
     "output_type": "stream",
     "text": [
      "              precision    recall  f1-score   support\n",
      "\n",
      "           0       0.32      0.35      0.33      5279\n",
      "           1       0.54      0.65      0.59     15108\n",
      "           2       0.51      0.56      0.54     11795\n",
      "           3       0.32      0.22      0.26      7210\n",
      "           4       0.36      0.16      0.22      4100\n",
      "\n",
      "    accuracy                           0.47     43492\n",
      "   macro avg       0.41      0.39      0.39     43492\n",
      "weighted avg       0.45      0.47      0.45     43492\n",
      "\n"
     ]
    }
   ],
   "source": [
    "from sklearn.metrics import classification_report\n",
    "print(classification_report(y_test, knn_predictions))"
   ]
  },
  {
   "cell_type": "code",
   "execution_count": 16,
   "metadata": {},
   "outputs": [
    {
     "data": {
      "image/png": "[encoded data removed]",
      "text/plain": [
       "<Figure size 432x288 with 2 Axes>"
      ]
     },
     "metadata": {},
     "output_type": "display_data"
    }
   ],
   "source": [
    "sn.set(font_scale=2.0) # for label size\n",
    "akws = {\"size\": 15,\"ha\": 'center',\"va\": 'center',\"color\":'red'}\n",
    "# font size, Horizontal position ('center', 'right', 'left'), \n",
    "#Vertical position('top', 'bottom', 'center', 'baseline', 'center_baseline')\n",
    "ax=sn.heatmap(cm_knn, linewidths=1.0, linecolor=\"red\",cmap=\"YlGnBu\",center=0, annot=True,fmt=\"d\", annot_kws=akws) \n",
    "plt.ylabel('Actual label', fontsize=15,fontweight=\"bold\",color=\"red\")\n",
    "plt.xlabel('Predicted label', fontsize=15, fontweight=\"bold\",color=\"red\")\n",
    "plt.show()"
   ]
  },
  {
   "cell_type": "markdown",
   "metadata": {},
   "source": [
    "<h2 id=\"pattern_visualization\"> Naive Bayes classifier</h2>\n",
    "Naive Bayes classification method is based on Bayes’ theorem. It is termed as ‘Naive’ because it assumes independence between every pair of feature in the data. "
   ]
  },
  {
   "cell_type": "code",
   "execution_count": 17,
   "metadata": {},
   "outputs": [
    {
     "name": "stdout",
     "output_type": "stream",
     "text": [
      "0.281247125908213\n"
     ]
    }
   ],
   "source": [
    "# training a Naive Bayes classifier \n",
    "from sklearn.naive_bayes import GaussianNB \n",
    "gnb = GaussianNB().fit(X_train, y_train) \n",
    "gnb_predictions = gnb.predict(X_test) \n",
    "  \n",
    "# accuracy on X_test \n",
    "accuracy = gnb.score(X_test, y_test) \n",
    "print(accuracy) \n",
    "  \n",
    "# creating a confusion matrix \n",
    "cm_nb = confusion_matrix(y_test, gnb_predictions) "
   ]
  },
  {
   "cell_type": "code",
   "execution_count": 18,
   "metadata": {},
   "outputs": [
    {
     "name": "stdout",
     "output_type": "stream",
     "text": [
      "              precision    recall  f1-score   support\n",
      "\n",
      "           0       0.00      0.00      0.00      5279\n",
      "           1       0.37      0.12      0.18     15108\n",
      "           2       0.28      0.86      0.42     11795\n",
      "           3       0.19      0.01      0.01      7210\n",
      "           4       0.13      0.05      0.07      4100\n",
      "\n",
      "    accuracy                           0.28     43492\n",
      "   macro avg       0.19      0.21      0.14     43492\n",
      "weighted avg       0.25      0.28      0.19     43492\n",
      "\n"
     ]
    },
    {
     "name": "stderr",
     "output_type": "stream",
     "text": [
      "C:\\Users\\TOPU\\Anaconda3\\lib\\site-packages\\sklearn\\metrics\\classification.py:1437: UndefinedMetricWarning: Precision and F-score are ill-defined and being set to 0.0 in labels with no predicted samples.\n",
      "  'precision', 'predicted', average, warn_for)\n"
     ]
    }
   ],
   "source": [
    "from sklearn.metrics import classification_report\n",
    "print(classification_report(y_test, gnb_predictions))"
   ]
  },
  {
   "cell_type": "code",
   "execution_count": 19,
   "metadata": {},
   "outputs": [
    {
     "data": {
      "image/png": "[encoded data removed]",
      "text/plain": [
       "<Figure size 432x288 with 2 Axes>"
      ]
     },
     "metadata": {},
     "output_type": "display_data"
    }
   ],
   "source": [
    "sn.set(font_scale=2.0) # for label size\n",
    "akws = {\"size\": 15,\"ha\": 'center',\"va\": 'center',\"color\":'red'}\n",
    "# font size, Horizontal position ('center', 'right', 'left'), \n",
    "#Vertical position('top', 'bottom', 'center', 'baseline', 'center_baseline')\n",
    "ax=sn.heatmap(cm_nb, linewidths=1.0, linecolor=\"red\",cmap=\"YlGnBu\",center=0, annot=True,fmt=\"d\", annot_kws=akws) \n",
    "plt.ylabel('Actual label', fontsize=15,fontweight=\"bold\",color=\"red\")\n",
    "plt.xlabel('Predicted label', fontsize=15, fontweight=\"bold\",color=\"red\")\n",
    "plt.show()"
   ]
  },
  {
   "cell_type": "markdown",
   "metadata": {},
   "source": [
    "<h2 id=\"pattern_visualization\">Here I use Multi-class classification without a classifier!</h2>\n",
    "Almost all model including XGBoost produces result with only ~40% accuracy \n",
    "\n",
    "Lets try <b>one-vs-rest xgboost classifiers</b>"
   ]
  },
  {
   "cell_type": "code",
   "execution_count": null,
   "metadata": {},
   "outputs": [],
   "source": [
    "# from xgboost import XGBClassifier\n",
    "# from sklearn.multiclass import OneVsRestClassifier\n",
    "# xgb_classifier = OneVsRestClassifier(XGBClassifier())\n",
    "# #xgb_classifier.fit(np.array(training_inputs), training_outputs_labels)\n",
    "# #X_train, X_test, y_train, y_test \n",
    "# xgb_classifier.fit(np.array(X_train), y_train)\n",
    "# xbg_predictions_labels = xgb_classifier.predict(X_test)\n",
    "# print(xbg_predictions_labels[0:30])\n",
    "\n",
    "# SVM for multi-class classification using one-vs-one\n",
    "from sklearn.datasets import make_classification\n",
    "from sklearn.svm import SVC\n",
    "from sklearn.multiclass import OneVsOneClassifier\n",
    "# # define dataset\n",
    "# X, y = make_classification(n_samples=1000, n_features=10, n_informative=5, n_redundant=5, n_classes=3, random_state=1)\n",
    "# define model\n",
    "model = SVC(kernel = 'linear', C = 1,gamma='auto')\n",
    "# define ovo strategy\n",
    "ovo = OneVsOneClassifier(model)\n",
    "# fit model\n",
    "ovo.fit(X_train, y_train)\n",
    "# make predictions\n",
    "yhat_svm = ovo.predict(X_test)"
   ]
  },
  {
   "cell_type": "code",
   "execution_count": null,
   "metadata": {},
   "outputs": [],
   "source": [
    "from sklearn.metrics import classification_report\n",
    "print(classification_report(y_test, yhat_svm))"
   ]
  },
  {
   "cell_type": "code",
   "execution_count": null,
   "metadata": {},
   "outputs": [],
   "source": [
    "# accuracy on X_test \n",
    "accuracy = gnb.score(X_test, y_test) \n",
    "print(accuracy) "
   ]
  },
  {
   "cell_type": "markdown",
   "metadata": {},
   "source": [
    "<hr>\n",
    "<p>Copyright &copy; 2020 Mustafizur Rahman <a href=\"https://www.linkedin.com/in/dr-mohammad-rahman-2434b313/\">LinkedIn</a>.</p>"
   ]
  }
 ],
 "metadata": {
  "anaconda-cloud": {},
  "kernelspec": {
   "display_name": "Python 3",
   "language": "python",
   "name": "python3"
  },
  "language_info": {
   "codemirror_mode": {
    "name": "ipython",
    "version": 3
   },
   "file_extension": ".py",
   "mimetype": "text/x-python",
   "name": "python",
   "nbconvert_exporter": "python",
   "pygments_lexer": "ipython3",
   "version": "3.7.4"
  }
 },
 "nbformat": 4,
 "nbformat_minor": 4
}

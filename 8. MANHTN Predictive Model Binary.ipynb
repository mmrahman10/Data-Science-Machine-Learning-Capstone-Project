{
 "cells": [
  {
   "cell_type": "markdown",
   "metadata": {},
   "source": [
    "<h1 align=center><font size=5>Data Science and Machine Learning Capstone Project</font></h1>\n",
    "<h2 align=center><font size=3; color=blue> Copyright &#169; Mustafizur Rahman</font></h2>"
   ]
  },
  {
   "cell_type": "markdown",
   "metadata": {},
   "source": [
    "<p><b>BINARY CLASSIFICATION MODEL FOR MANHATTAN TOP TWO COMPLAINTS:</b> In this section, I will DEVELOP a classification model using features to predict future Complaint of top two complaint Type</p>"
   ]
  },
  {
   "cell_type": "markdown",
   "metadata": {},
   "source": [
    "<h4>Import pandas</h4> "
   ]
  },
  {
   "cell_type": "code",
   "execution_count": 1,
   "metadata": {},
   "outputs": [],
   "source": [
    "import pandas as pd\n",
    "import numpy as np\n",
    "import matplotlib"
   ]
  },
  {
   "cell_type": "markdown",
   "metadata": {},
   "source": [
    "<h2>Import data from previous model where I save Clean data for analysis, visualization and Modeling.</h2>"
   ]
  },
  {
   "cell_type": "code",
   "execution_count": 2,
   "metadata": {},
   "outputs": [],
   "source": [
    "filename='C:\\\\Users\\\\TOPU\\Documents\\\\GitHub\\\\5. Data Science and Machine Learning Capstone Project\\\\Manhattan_Merged_top5_df_NoDummy.csv'"
   ]
  },
  {
   "cell_type": "markdown",
   "metadata": {},
   "source": [
    "Use the Pandas method <b>read_csv()</b> to load the data from local drive."
   ]
  },
  {
   "cell_type": "code",
   "execution_count": 3,
   "metadata": {
    "jupyter": {
     "outputs_hidden": false
    }
   },
   "outputs": [
    {
     "data": {
      "text/html": [
       "<div>\n",
       "<style scoped>\n",
       "    .dataframe tbody tr th:only-of-type {\n",
       "        vertical-align: middle;\n",
       "    }\n",
       "\n",
       "    .dataframe tbody tr th {\n",
       "        vertical-align: top;\n",
       "    }\n",
       "\n",
       "    .dataframe thead th {\n",
       "        text-align: right;\n",
       "    }\n",
       "</style>\n",
       "<table border=\"1\" class=\"dataframe\">\n",
       "  <thead>\n",
       "    <tr style=\"text-align: right;\">\n",
       "      <th></th>\n",
       "      <th>Complaint Type</th>\n",
       "      <th>Address</th>\n",
       "      <th>Borough</th>\n",
       "      <th>BldgArea</th>\n",
       "      <th>BldgDepth</th>\n",
       "      <th>BuiltFAR</th>\n",
       "      <th>CommFAR</th>\n",
       "      <th>FacilFAR</th>\n",
       "      <th>Lot</th>\n",
       "      <th>LotArea</th>\n",
       "      <th>...</th>\n",
       "      <th>NumFloors</th>\n",
       "      <th>OfficeArea</th>\n",
       "      <th>ResArea</th>\n",
       "      <th>ResidFAR</th>\n",
       "      <th>RetailArea</th>\n",
       "      <th>YearBuilt</th>\n",
       "      <th>YearAlter1</th>\n",
       "      <th>ZipCode</th>\n",
       "      <th>BldAge</th>\n",
       "      <th>RenvAge</th>\n",
       "    </tr>\n",
       "  </thead>\n",
       "  <tbody>\n",
       "    <tr>\n",
       "      <td>0</td>\n",
       "      <td>HEAT/HOT WATER</td>\n",
       "      <td>225 CENTRAL PARK NORTH</td>\n",
       "      <td>MN</td>\n",
       "      <td>0.003952</td>\n",
       "      <td>0.009374</td>\n",
       "      <td>0.010667</td>\n",
       "      <td>0.0</td>\n",
       "      <td>0.4</td>\n",
       "      <td>13</td>\n",
       "      <td>0.000342</td>\n",
       "      <td>...</td>\n",
       "      <td>0.057692</td>\n",
       "      <td>0.0</td>\n",
       "      <td>0.006345</td>\n",
       "      <td>0.5</td>\n",
       "      <td>0.0</td>\n",
       "      <td>1926</td>\n",
       "      <td>0</td>\n",
       "      <td>10026.0</td>\n",
       "      <td>0.368627</td>\n",
       "      <td>0.0</td>\n",
       "    </tr>\n",
       "    <tr>\n",
       "      <td>1</td>\n",
       "      <td>HEAT/HOT WATER</td>\n",
       "      <td>225 CENTRAL PARK NORTH</td>\n",
       "      <td>MN</td>\n",
       "      <td>0.003952</td>\n",
       "      <td>0.009374</td>\n",
       "      <td>0.010667</td>\n",
       "      <td>0.0</td>\n",
       "      <td>0.4</td>\n",
       "      <td>13</td>\n",
       "      <td>0.000342</td>\n",
       "      <td>...</td>\n",
       "      <td>0.057692</td>\n",
       "      <td>0.0</td>\n",
       "      <td>0.006345</td>\n",
       "      <td>0.5</td>\n",
       "      <td>0.0</td>\n",
       "      <td>1926</td>\n",
       "      <td>0</td>\n",
       "      <td>10026.0</td>\n",
       "      <td>0.368627</td>\n",
       "      <td>0.0</td>\n",
       "    </tr>\n",
       "    <tr>\n",
       "      <td>2</td>\n",
       "      <td>HEAT/HOT WATER</td>\n",
       "      <td>225 CENTRAL PARK NORTH</td>\n",
       "      <td>MN</td>\n",
       "      <td>0.003952</td>\n",
       "      <td>0.009374</td>\n",
       "      <td>0.010667</td>\n",
       "      <td>0.0</td>\n",
       "      <td>0.4</td>\n",
       "      <td>13</td>\n",
       "      <td>0.000342</td>\n",
       "      <td>...</td>\n",
       "      <td>0.057692</td>\n",
       "      <td>0.0</td>\n",
       "      <td>0.006345</td>\n",
       "      <td>0.5</td>\n",
       "      <td>0.0</td>\n",
       "      <td>1926</td>\n",
       "      <td>0</td>\n",
       "      <td>10026.0</td>\n",
       "      <td>0.368627</td>\n",
       "      <td>0.0</td>\n",
       "    </tr>\n",
       "    <tr>\n",
       "      <td>3</td>\n",
       "      <td>HEAT/HOT WATER</td>\n",
       "      <td>225 CENTRAL PARK NORTH</td>\n",
       "      <td>MN</td>\n",
       "      <td>0.003952</td>\n",
       "      <td>0.009374</td>\n",
       "      <td>0.010667</td>\n",
       "      <td>0.0</td>\n",
       "      <td>0.4</td>\n",
       "      <td>13</td>\n",
       "      <td>0.000342</td>\n",
       "      <td>...</td>\n",
       "      <td>0.057692</td>\n",
       "      <td>0.0</td>\n",
       "      <td>0.006345</td>\n",
       "      <td>0.5</td>\n",
       "      <td>0.0</td>\n",
       "      <td>1926</td>\n",
       "      <td>0</td>\n",
       "      <td>10026.0</td>\n",
       "      <td>0.368627</td>\n",
       "      <td>0.0</td>\n",
       "    </tr>\n",
       "    <tr>\n",
       "      <td>4</td>\n",
       "      <td>HEAT/HOT WATER</td>\n",
       "      <td>225 CENTRAL PARK NORTH</td>\n",
       "      <td>MN</td>\n",
       "      <td>0.003952</td>\n",
       "      <td>0.009374</td>\n",
       "      <td>0.010667</td>\n",
       "      <td>0.0</td>\n",
       "      <td>0.4</td>\n",
       "      <td>13</td>\n",
       "      <td>0.000342</td>\n",
       "      <td>...</td>\n",
       "      <td>0.057692</td>\n",
       "      <td>0.0</td>\n",
       "      <td>0.006345</td>\n",
       "      <td>0.5</td>\n",
       "      <td>0.0</td>\n",
       "      <td>1926</td>\n",
       "      <td>0</td>\n",
       "      <td>10026.0</td>\n",
       "      <td>0.368627</td>\n",
       "      <td>0.0</td>\n",
       "    </tr>\n",
       "  </tbody>\n",
       "</table>\n",
       "<p>5 rows × 22 columns</p>\n",
       "</div>"
      ],
      "text/plain": [
       "   Complaint Type                 Address Borough  BldgArea  BldgDepth  \\\n",
       "0  HEAT/HOT WATER  225 CENTRAL PARK NORTH      MN  0.003952   0.009374   \n",
       "1  HEAT/HOT WATER  225 CENTRAL PARK NORTH      MN  0.003952   0.009374   \n",
       "2  HEAT/HOT WATER  225 CENTRAL PARK NORTH      MN  0.003952   0.009374   \n",
       "3  HEAT/HOT WATER  225 CENTRAL PARK NORTH      MN  0.003952   0.009374   \n",
       "4  HEAT/HOT WATER  225 CENTRAL PARK NORTH      MN  0.003952   0.009374   \n",
       "\n",
       "   BuiltFAR  CommFAR  FacilFAR  Lot   LotArea  ...  NumFloors  OfficeArea  \\\n",
       "0  0.010667      0.0       0.4   13  0.000342  ...   0.057692         0.0   \n",
       "1  0.010667      0.0       0.4   13  0.000342  ...   0.057692         0.0   \n",
       "2  0.010667      0.0       0.4   13  0.000342  ...   0.057692         0.0   \n",
       "3  0.010667      0.0       0.4   13  0.000342  ...   0.057692         0.0   \n",
       "4  0.010667      0.0       0.4   13  0.000342  ...   0.057692         0.0   \n",
       "\n",
       "    ResArea  ResidFAR  RetailArea  YearBuilt  YearAlter1  ZipCode    BldAge  \\\n",
       "0  0.006345       0.5         0.0       1926           0  10026.0  0.368627   \n",
       "1  0.006345       0.5         0.0       1926           0  10026.0  0.368627   \n",
       "2  0.006345       0.5         0.0       1926           0  10026.0  0.368627   \n",
       "3  0.006345       0.5         0.0       1926           0  10026.0  0.368627   \n",
       "4  0.006345       0.5         0.0       1926           0  10026.0  0.368627   \n",
       "\n",
       "   RenvAge  \n",
       "0      0.0  \n",
       "1      0.0  \n",
       "2      0.0  \n",
       "3      0.0  \n",
       "4      0.0  \n",
       "\n",
       "[5 rows x 22 columns]"
      ]
     },
     "execution_count": 3,
     "metadata": {},
     "output_type": "execute_result"
    }
   ],
   "source": [
    "df= pd.read_csv(filename)\n",
    "df.head()"
   ]
  },
  {
   "cell_type": "code",
   "execution_count": 7,
   "metadata": {},
   "outputs": [
    {
     "name": "stdout",
     "output_type": "stream",
     "text": [
      "Index(['Complaint Type', 'Address', 'Borough', 'BldgArea', 'BldgDepth',\n",
      "       'BuiltFAR', 'CommFAR', 'FacilFAR', 'Lot', 'LotArea', 'LotDepth',\n",
      "       'NumBldgs', 'NumFloors', 'OfficeArea', 'ResArea', 'ResidFAR',\n",
      "       'RetailArea', 'YearBuilt', 'YearAlter1', 'ZipCode', 'BldAge',\n",
      "       'RenvAge'],\n",
      "      dtype='object')\n",
      "matplotlib: 3.1.0\n"
     ]
    }
   ],
   "source": [
    "print(df.columns)\n",
    "#df.describe(include=['object'])\n",
    "#df.corr()\n",
    "print('matplotlib: {}'.format(matplotlib.__version__))"
   ]
  },
  {
   "cell_type": "markdown",
   "metadata": {},
   "source": [
    "<p>\n",
    "\n",
    "select all features for the modeling. Also check the target data type (should be integer, as it is a requirement  by the skitlearn algorithm)</p>\n",
    "<b>FEATURE SETS:BldgArea\tBldgDepth\tBuiltFAR\tCommFAR\tFacilFAR\tLotArea\tLotDepth\tNumBldgs\tNumFloors\tOfficeArea\tResArea\tResidFAR\tRetailArea\tBldAge and\tRenvAge</b>\n"
   ]
  },
  {
   "cell_type": "code",
   "execution_count": 4,
   "metadata": {},
   "outputs": [
    {
     "data": {
      "text/html": [
       "<div>\n",
       "<style scoped>\n",
       "    .dataframe tbody tr th:only-of-type {\n",
       "        vertical-align: middle;\n",
       "    }\n",
       "\n",
       "    .dataframe tbody tr th {\n",
       "        vertical-align: top;\n",
       "    }\n",
       "\n",
       "    .dataframe thead th {\n",
       "        text-align: right;\n",
       "    }\n",
       "</style>\n",
       "<table border=\"1\" class=\"dataframe\">\n",
       "  <thead>\n",
       "    <tr style=\"text-align: right;\">\n",
       "      <th></th>\n",
       "      <th>Complaint Type</th>\n",
       "      <th>Address</th>\n",
       "      <th>Borough</th>\n",
       "      <th>BldgArea</th>\n",
       "      <th>BldgDepth</th>\n",
       "      <th>BuiltFAR</th>\n",
       "      <th>CommFAR</th>\n",
       "      <th>FacilFAR</th>\n",
       "      <th>Lot</th>\n",
       "      <th>LotArea</th>\n",
       "      <th>...</th>\n",
       "      <th>NumFloors</th>\n",
       "      <th>OfficeArea</th>\n",
       "      <th>ResArea</th>\n",
       "      <th>ResidFAR</th>\n",
       "      <th>RetailArea</th>\n",
       "      <th>YearBuilt</th>\n",
       "      <th>YearAlter1</th>\n",
       "      <th>ZipCode</th>\n",
       "      <th>BldAge</th>\n",
       "      <th>RenvAge</th>\n",
       "    </tr>\n",
       "  </thead>\n",
       "  <tbody>\n",
       "    <tr>\n",
       "      <td>0</td>\n",
       "      <td>HEAT/HOT WATER</td>\n",
       "      <td>225 CENTRAL PARK NORTH</td>\n",
       "      <td>MN</td>\n",
       "      <td>0.003952</td>\n",
       "      <td>0.009374</td>\n",
       "      <td>0.010667</td>\n",
       "      <td>0.0</td>\n",
       "      <td>0.4</td>\n",
       "      <td>13</td>\n",
       "      <td>0.000342</td>\n",
       "      <td>...</td>\n",
       "      <td>0.057692</td>\n",
       "      <td>0.0</td>\n",
       "      <td>0.006345</td>\n",
       "      <td>0.5</td>\n",
       "      <td>0.0</td>\n",
       "      <td>1926</td>\n",
       "      <td>0</td>\n",
       "      <td>10026.0</td>\n",
       "      <td>0.368627</td>\n",
       "      <td>0.0</td>\n",
       "    </tr>\n",
       "    <tr>\n",
       "      <td>1</td>\n",
       "      <td>HEAT/HOT WATER</td>\n",
       "      <td>225 CENTRAL PARK NORTH</td>\n",
       "      <td>MN</td>\n",
       "      <td>0.003952</td>\n",
       "      <td>0.009374</td>\n",
       "      <td>0.010667</td>\n",
       "      <td>0.0</td>\n",
       "      <td>0.4</td>\n",
       "      <td>13</td>\n",
       "      <td>0.000342</td>\n",
       "      <td>...</td>\n",
       "      <td>0.057692</td>\n",
       "      <td>0.0</td>\n",
       "      <td>0.006345</td>\n",
       "      <td>0.5</td>\n",
       "      <td>0.0</td>\n",
       "      <td>1926</td>\n",
       "      <td>0</td>\n",
       "      <td>10026.0</td>\n",
       "      <td>0.368627</td>\n",
       "      <td>0.0</td>\n",
       "    </tr>\n",
       "    <tr>\n",
       "      <td>2</td>\n",
       "      <td>HEAT/HOT WATER</td>\n",
       "      <td>225 CENTRAL PARK NORTH</td>\n",
       "      <td>MN</td>\n",
       "      <td>0.003952</td>\n",
       "      <td>0.009374</td>\n",
       "      <td>0.010667</td>\n",
       "      <td>0.0</td>\n",
       "      <td>0.4</td>\n",
       "      <td>13</td>\n",
       "      <td>0.000342</td>\n",
       "      <td>...</td>\n",
       "      <td>0.057692</td>\n",
       "      <td>0.0</td>\n",
       "      <td>0.006345</td>\n",
       "      <td>0.5</td>\n",
       "      <td>0.0</td>\n",
       "      <td>1926</td>\n",
       "      <td>0</td>\n",
       "      <td>10026.0</td>\n",
       "      <td>0.368627</td>\n",
       "      <td>0.0</td>\n",
       "    </tr>\n",
       "    <tr>\n",
       "      <td>3</td>\n",
       "      <td>HEAT/HOT WATER</td>\n",
       "      <td>225 CENTRAL PARK NORTH</td>\n",
       "      <td>MN</td>\n",
       "      <td>0.003952</td>\n",
       "      <td>0.009374</td>\n",
       "      <td>0.010667</td>\n",
       "      <td>0.0</td>\n",
       "      <td>0.4</td>\n",
       "      <td>13</td>\n",
       "      <td>0.000342</td>\n",
       "      <td>...</td>\n",
       "      <td>0.057692</td>\n",
       "      <td>0.0</td>\n",
       "      <td>0.006345</td>\n",
       "      <td>0.5</td>\n",
       "      <td>0.0</td>\n",
       "      <td>1926</td>\n",
       "      <td>0</td>\n",
       "      <td>10026.0</td>\n",
       "      <td>0.368627</td>\n",
       "      <td>0.0</td>\n",
       "    </tr>\n",
       "    <tr>\n",
       "      <td>4</td>\n",
       "      <td>HEAT/HOT WATER</td>\n",
       "      <td>225 CENTRAL PARK NORTH</td>\n",
       "      <td>MN</td>\n",
       "      <td>0.003952</td>\n",
       "      <td>0.009374</td>\n",
       "      <td>0.010667</td>\n",
       "      <td>0.0</td>\n",
       "      <td>0.4</td>\n",
       "      <td>13</td>\n",
       "      <td>0.000342</td>\n",
       "      <td>...</td>\n",
       "      <td>0.057692</td>\n",
       "      <td>0.0</td>\n",
       "      <td>0.006345</td>\n",
       "      <td>0.5</td>\n",
       "      <td>0.0</td>\n",
       "      <td>1926</td>\n",
       "      <td>0</td>\n",
       "      <td>10026.0</td>\n",
       "      <td>0.368627</td>\n",
       "      <td>0.0</td>\n",
       "    </tr>\n",
       "  </tbody>\n",
       "</table>\n",
       "<p>5 rows × 22 columns</p>\n",
       "</div>"
      ],
      "text/plain": [
       "   Complaint Type                 Address Borough  BldgArea  BldgDepth  \\\n",
       "0  HEAT/HOT WATER  225 CENTRAL PARK NORTH      MN  0.003952   0.009374   \n",
       "1  HEAT/HOT WATER  225 CENTRAL PARK NORTH      MN  0.003952   0.009374   \n",
       "2  HEAT/HOT WATER  225 CENTRAL PARK NORTH      MN  0.003952   0.009374   \n",
       "3  HEAT/HOT WATER  225 CENTRAL PARK NORTH      MN  0.003952   0.009374   \n",
       "4  HEAT/HOT WATER  225 CENTRAL PARK NORTH      MN  0.003952   0.009374   \n",
       "\n",
       "   BuiltFAR  CommFAR  FacilFAR  Lot   LotArea  ...  NumFloors  OfficeArea  \\\n",
       "0  0.010667      0.0       0.4   13  0.000342  ...   0.057692         0.0   \n",
       "1  0.010667      0.0       0.4   13  0.000342  ...   0.057692         0.0   \n",
       "2  0.010667      0.0       0.4   13  0.000342  ...   0.057692         0.0   \n",
       "3  0.010667      0.0       0.4   13  0.000342  ...   0.057692         0.0   \n",
       "4  0.010667      0.0       0.4   13  0.000342  ...   0.057692         0.0   \n",
       "\n",
       "    ResArea  ResidFAR  RetailArea  YearBuilt  YearAlter1  ZipCode    BldAge  \\\n",
       "0  0.006345       0.5         0.0       1926           0  10026.0  0.368627   \n",
       "1  0.006345       0.5         0.0       1926           0  10026.0  0.368627   \n",
       "2  0.006345       0.5         0.0       1926           0  10026.0  0.368627   \n",
       "3  0.006345       0.5         0.0       1926           0  10026.0  0.368627   \n",
       "4  0.006345       0.5         0.0       1926           0  10026.0  0.368627   \n",
       "\n",
       "   RenvAge  \n",
       "0      0.0  \n",
       "1      0.0  \n",
       "2      0.0  \n",
       "3      0.0  \n",
       "4      0.0  \n",
       "\n",
       "[5 rows x 22 columns]"
      ]
     },
     "execution_count": 4,
     "metadata": {},
     "output_type": "execute_result"
    }
   ],
   "source": [
    "#df_X1== Top 2 Complaint Type\n",
    "df_X1=df[(df['Complaint Type']==\"HEAT/HOT WATER\") |(df['Complaint Type']==\"HEATING\")]\n",
    "df_X1.reset_index(drop=True, inplace=True)\n",
    "df_X1.head()"
   ]
  },
  {
   "cell_type": "code",
   "execution_count": 5,
   "metadata": {},
   "outputs": [
    {
     "data": {
      "text/plain": [
       "HEAT/HOT WATER    150461\n",
       "HEATING           117398\n",
       "Name: Complaint Type, dtype: int64"
      ]
     },
     "execution_count": 5,
     "metadata": {},
     "output_type": "execute_result"
    }
   ],
   "source": [
    "df_X1['Complaint Type'].value_counts()"
   ]
  },
  {
   "cell_type": "markdown",
   "metadata": {},
   "source": [
    "<p>Get Labeled variable/ indicator variables \"Complaint Type\"and assign it to data frame \"dummy_variable_1\" "
   ]
  },
  {
   "cell_type": "code",
   "execution_count": 6,
   "metadata": {},
   "outputs": [
    {
     "data": {
      "text/html": [
       "<div>\n",
       "<style scoped>\n",
       "    .dataframe tbody tr th:only-of-type {\n",
       "        vertical-align: middle;\n",
       "    }\n",
       "\n",
       "    .dataframe tbody tr th {\n",
       "        vertical-align: top;\n",
       "    }\n",
       "\n",
       "    .dataframe thead th {\n",
       "        text-align: right;\n",
       "    }\n",
       "</style>\n",
       "<table border=\"1\" class=\"dataframe\">\n",
       "  <thead>\n",
       "    <tr style=\"text-align: right;\">\n",
       "      <th></th>\n",
       "      <th>HEAT/HOT WATER</th>\n",
       "      <th>HEATING</th>\n",
       "    </tr>\n",
       "  </thead>\n",
       "  <tbody>\n",
       "    <tr>\n",
       "      <td>267829</td>\n",
       "      <td>1</td>\n",
       "      <td>0</td>\n",
       "    </tr>\n",
       "    <tr>\n",
       "      <td>267830</td>\n",
       "      <td>1</td>\n",
       "      <td>0</td>\n",
       "    </tr>\n",
       "    <tr>\n",
       "      <td>267831</td>\n",
       "      <td>1</td>\n",
       "      <td>0</td>\n",
       "    </tr>\n",
       "    <tr>\n",
       "      <td>267832</td>\n",
       "      <td>1</td>\n",
       "      <td>0</td>\n",
       "    </tr>\n",
       "    <tr>\n",
       "      <td>267833</td>\n",
       "      <td>1</td>\n",
       "      <td>0</td>\n",
       "    </tr>\n",
       "    <tr>\n",
       "      <td>267834</td>\n",
       "      <td>1</td>\n",
       "      <td>0</td>\n",
       "    </tr>\n",
       "    <tr>\n",
       "      <td>267835</td>\n",
       "      <td>1</td>\n",
       "      <td>0</td>\n",
       "    </tr>\n",
       "    <tr>\n",
       "      <td>267836</td>\n",
       "      <td>1</td>\n",
       "      <td>0</td>\n",
       "    </tr>\n",
       "    <tr>\n",
       "      <td>267837</td>\n",
       "      <td>1</td>\n",
       "      <td>0</td>\n",
       "    </tr>\n",
       "    <tr>\n",
       "      <td>267838</td>\n",
       "      <td>1</td>\n",
       "      <td>0</td>\n",
       "    </tr>\n",
       "    <tr>\n",
       "      <td>267839</td>\n",
       "      <td>1</td>\n",
       "      <td>0</td>\n",
       "    </tr>\n",
       "    <tr>\n",
       "      <td>267840</td>\n",
       "      <td>1</td>\n",
       "      <td>0</td>\n",
       "    </tr>\n",
       "    <tr>\n",
       "      <td>267841</td>\n",
       "      <td>1</td>\n",
       "      <td>0</td>\n",
       "    </tr>\n",
       "    <tr>\n",
       "      <td>267842</td>\n",
       "      <td>1</td>\n",
       "      <td>0</td>\n",
       "    </tr>\n",
       "    <tr>\n",
       "      <td>267843</td>\n",
       "      <td>1</td>\n",
       "      <td>0</td>\n",
       "    </tr>\n",
       "    <tr>\n",
       "      <td>267844</td>\n",
       "      <td>1</td>\n",
       "      <td>0</td>\n",
       "    </tr>\n",
       "    <tr>\n",
       "      <td>267845</td>\n",
       "      <td>1</td>\n",
       "      <td>0</td>\n",
       "    </tr>\n",
       "    <tr>\n",
       "      <td>267846</td>\n",
       "      <td>1</td>\n",
       "      <td>0</td>\n",
       "    </tr>\n",
       "    <tr>\n",
       "      <td>267847</td>\n",
       "      <td>1</td>\n",
       "      <td>0</td>\n",
       "    </tr>\n",
       "    <tr>\n",
       "      <td>267848</td>\n",
       "      <td>1</td>\n",
       "      <td>0</td>\n",
       "    </tr>\n",
       "    <tr>\n",
       "      <td>267849</td>\n",
       "      <td>1</td>\n",
       "      <td>0</td>\n",
       "    </tr>\n",
       "    <tr>\n",
       "      <td>267850</td>\n",
       "      <td>1</td>\n",
       "      <td>0</td>\n",
       "    </tr>\n",
       "    <tr>\n",
       "      <td>267851</td>\n",
       "      <td>1</td>\n",
       "      <td>0</td>\n",
       "    </tr>\n",
       "    <tr>\n",
       "      <td>267852</td>\n",
       "      <td>1</td>\n",
       "      <td>0</td>\n",
       "    </tr>\n",
       "    <tr>\n",
       "      <td>267853</td>\n",
       "      <td>1</td>\n",
       "      <td>0</td>\n",
       "    </tr>\n",
       "    <tr>\n",
       "      <td>267854</td>\n",
       "      <td>1</td>\n",
       "      <td>0</td>\n",
       "    </tr>\n",
       "    <tr>\n",
       "      <td>267855</td>\n",
       "      <td>1</td>\n",
       "      <td>0</td>\n",
       "    </tr>\n",
       "    <tr>\n",
       "      <td>267856</td>\n",
       "      <td>1</td>\n",
       "      <td>0</td>\n",
       "    </tr>\n",
       "    <tr>\n",
       "      <td>267857</td>\n",
       "      <td>1</td>\n",
       "      <td>0</td>\n",
       "    </tr>\n",
       "    <tr>\n",
       "      <td>267858</td>\n",
       "      <td>1</td>\n",
       "      <td>0</td>\n",
       "    </tr>\n",
       "  </tbody>\n",
       "</table>\n",
       "</div>"
      ],
      "text/plain": [
       "        HEAT/HOT WATER  HEATING\n",
       "267829               1        0\n",
       "267830               1        0\n",
       "267831               1        0\n",
       "267832               1        0\n",
       "267833               1        0\n",
       "267834               1        0\n",
       "267835               1        0\n",
       "267836               1        0\n",
       "267837               1        0\n",
       "267838               1        0\n",
       "267839               1        0\n",
       "267840               1        0\n",
       "267841               1        0\n",
       "267842               1        0\n",
       "267843               1        0\n",
       "267844               1        0\n",
       "267845               1        0\n",
       "267846               1        0\n",
       "267847               1        0\n",
       "267848               1        0\n",
       "267849               1        0\n",
       "267850               1        0\n",
       "267851               1        0\n",
       "267852               1        0\n",
       "267853               1        0\n",
       "267854               1        0\n",
       "267855               1        0\n",
       "267856               1        0\n",
       "267857               1        0\n",
       "267858               1        0"
      ]
     },
     "execution_count": 6,
     "metadata": {},
     "output_type": "execute_result"
    }
   ],
   "source": [
    "dummy_variable_1 = pd.get_dummies(df_X1['Complaint Type'])\n",
    "dummy_variable_1.tail(30)"
   ]
  },
  {
   "cell_type": "markdown",
   "metadata": {},
   "source": [
    "<p>We now have the value 0 to represent \"HEAT/HOT WATER\" and 1 to represent \"HEATING\" in the column \"HEATING\". We will now insert this column back into our original dataset and rename it as a </b>Compaint_type_lebel</b>.</p>"
   ]
  },
  {
   "cell_type": "code",
   "execution_count": 7,
   "metadata": {},
   "outputs": [
    {
     "data": {
      "text/html": [
       "<div>\n",
       "<style scoped>\n",
       "    .dataframe tbody tr th:only-of-type {\n",
       "        vertical-align: middle;\n",
       "    }\n",
       "\n",
       "    .dataframe tbody tr th {\n",
       "        vertical-align: top;\n",
       "    }\n",
       "\n",
       "    .dataframe thead th {\n",
       "        text-align: right;\n",
       "    }\n",
       "</style>\n",
       "<table border=\"1\" class=\"dataframe\">\n",
       "  <thead>\n",
       "    <tr style=\"text-align: right;\">\n",
       "      <th></th>\n",
       "      <th>Complaint Type</th>\n",
       "      <th>Address</th>\n",
       "      <th>Borough</th>\n",
       "      <th>BldgArea</th>\n",
       "      <th>BldgDepth</th>\n",
       "      <th>BuiltFAR</th>\n",
       "      <th>CommFAR</th>\n",
       "      <th>FacilFAR</th>\n",
       "      <th>Lot</th>\n",
       "      <th>LotArea</th>\n",
       "      <th>...</th>\n",
       "      <th>OfficeArea</th>\n",
       "      <th>ResArea</th>\n",
       "      <th>ResidFAR</th>\n",
       "      <th>RetailArea</th>\n",
       "      <th>YearBuilt</th>\n",
       "      <th>YearAlter1</th>\n",
       "      <th>ZipCode</th>\n",
       "      <th>BldAge</th>\n",
       "      <th>RenvAge</th>\n",
       "      <th>Compaint_type_lebel</th>\n",
       "    </tr>\n",
       "  </thead>\n",
       "  <tbody>\n",
       "    <tr>\n",
       "      <td>0</td>\n",
       "      <td>HEAT/HOT WATER</td>\n",
       "      <td>225 CENTRAL PARK NORTH</td>\n",
       "      <td>MN</td>\n",
       "      <td>0.003952</td>\n",
       "      <td>0.009374</td>\n",
       "      <td>0.010667</td>\n",
       "      <td>0.0</td>\n",
       "      <td>0.4</td>\n",
       "      <td>13</td>\n",
       "      <td>0.000342</td>\n",
       "      <td>...</td>\n",
       "      <td>0.0</td>\n",
       "      <td>0.006345</td>\n",
       "      <td>0.5</td>\n",
       "      <td>0.0</td>\n",
       "      <td>1926</td>\n",
       "      <td>0</td>\n",
       "      <td>10026.0</td>\n",
       "      <td>0.368627</td>\n",
       "      <td>0.0</td>\n",
       "      <td>0</td>\n",
       "    </tr>\n",
       "    <tr>\n",
       "      <td>1</td>\n",
       "      <td>HEAT/HOT WATER</td>\n",
       "      <td>225 CENTRAL PARK NORTH</td>\n",
       "      <td>MN</td>\n",
       "      <td>0.003952</td>\n",
       "      <td>0.009374</td>\n",
       "      <td>0.010667</td>\n",
       "      <td>0.0</td>\n",
       "      <td>0.4</td>\n",
       "      <td>13</td>\n",
       "      <td>0.000342</td>\n",
       "      <td>...</td>\n",
       "      <td>0.0</td>\n",
       "      <td>0.006345</td>\n",
       "      <td>0.5</td>\n",
       "      <td>0.0</td>\n",
       "      <td>1926</td>\n",
       "      <td>0</td>\n",
       "      <td>10026.0</td>\n",
       "      <td>0.368627</td>\n",
       "      <td>0.0</td>\n",
       "      <td>0</td>\n",
       "    </tr>\n",
       "    <tr>\n",
       "      <td>2</td>\n",
       "      <td>HEAT/HOT WATER</td>\n",
       "      <td>225 CENTRAL PARK NORTH</td>\n",
       "      <td>MN</td>\n",
       "      <td>0.003952</td>\n",
       "      <td>0.009374</td>\n",
       "      <td>0.010667</td>\n",
       "      <td>0.0</td>\n",
       "      <td>0.4</td>\n",
       "      <td>13</td>\n",
       "      <td>0.000342</td>\n",
       "      <td>...</td>\n",
       "      <td>0.0</td>\n",
       "      <td>0.006345</td>\n",
       "      <td>0.5</td>\n",
       "      <td>0.0</td>\n",
       "      <td>1926</td>\n",
       "      <td>0</td>\n",
       "      <td>10026.0</td>\n",
       "      <td>0.368627</td>\n",
       "      <td>0.0</td>\n",
       "      <td>0</td>\n",
       "    </tr>\n",
       "    <tr>\n",
       "      <td>3</td>\n",
       "      <td>HEAT/HOT WATER</td>\n",
       "      <td>225 CENTRAL PARK NORTH</td>\n",
       "      <td>MN</td>\n",
       "      <td>0.003952</td>\n",
       "      <td>0.009374</td>\n",
       "      <td>0.010667</td>\n",
       "      <td>0.0</td>\n",
       "      <td>0.4</td>\n",
       "      <td>13</td>\n",
       "      <td>0.000342</td>\n",
       "      <td>...</td>\n",
       "      <td>0.0</td>\n",
       "      <td>0.006345</td>\n",
       "      <td>0.5</td>\n",
       "      <td>0.0</td>\n",
       "      <td>1926</td>\n",
       "      <td>0</td>\n",
       "      <td>10026.0</td>\n",
       "      <td>0.368627</td>\n",
       "      <td>0.0</td>\n",
       "      <td>0</td>\n",
       "    </tr>\n",
       "    <tr>\n",
       "      <td>4</td>\n",
       "      <td>HEAT/HOT WATER</td>\n",
       "      <td>225 CENTRAL PARK NORTH</td>\n",
       "      <td>MN</td>\n",
       "      <td>0.003952</td>\n",
       "      <td>0.009374</td>\n",
       "      <td>0.010667</td>\n",
       "      <td>0.0</td>\n",
       "      <td>0.4</td>\n",
       "      <td>13</td>\n",
       "      <td>0.000342</td>\n",
       "      <td>...</td>\n",
       "      <td>0.0</td>\n",
       "      <td>0.006345</td>\n",
       "      <td>0.5</td>\n",
       "      <td>0.0</td>\n",
       "      <td>1926</td>\n",
       "      <td>0</td>\n",
       "      <td>10026.0</td>\n",
       "      <td>0.368627</td>\n",
       "      <td>0.0</td>\n",
       "      <td>0</td>\n",
       "    </tr>\n",
       "  </tbody>\n",
       "</table>\n",
       "<p>5 rows × 23 columns</p>\n",
       "</div>"
      ],
      "text/plain": [
       "   Complaint Type                 Address Borough  BldgArea  BldgDepth  \\\n",
       "0  HEAT/HOT WATER  225 CENTRAL PARK NORTH      MN  0.003952   0.009374   \n",
       "1  HEAT/HOT WATER  225 CENTRAL PARK NORTH      MN  0.003952   0.009374   \n",
       "2  HEAT/HOT WATER  225 CENTRAL PARK NORTH      MN  0.003952   0.009374   \n",
       "3  HEAT/HOT WATER  225 CENTRAL PARK NORTH      MN  0.003952   0.009374   \n",
       "4  HEAT/HOT WATER  225 CENTRAL PARK NORTH      MN  0.003952   0.009374   \n",
       "\n",
       "   BuiltFAR  CommFAR  FacilFAR  Lot   LotArea  ...  OfficeArea   ResArea  \\\n",
       "0  0.010667      0.0       0.4   13  0.000342  ...         0.0  0.006345   \n",
       "1  0.010667      0.0       0.4   13  0.000342  ...         0.0  0.006345   \n",
       "2  0.010667      0.0       0.4   13  0.000342  ...         0.0  0.006345   \n",
       "3  0.010667      0.0       0.4   13  0.000342  ...         0.0  0.006345   \n",
       "4  0.010667      0.0       0.4   13  0.000342  ...         0.0  0.006345   \n",
       "\n",
       "   ResidFAR  RetailArea  YearBuilt  YearAlter1  ZipCode    BldAge  RenvAge  \\\n",
       "0       0.5         0.0       1926           0  10026.0  0.368627      0.0   \n",
       "1       0.5         0.0       1926           0  10026.0  0.368627      0.0   \n",
       "2       0.5         0.0       1926           0  10026.0  0.368627      0.0   \n",
       "3       0.5         0.0       1926           0  10026.0  0.368627      0.0   \n",
       "4       0.5         0.0       1926           0  10026.0  0.368627      0.0   \n",
       "\n",
       "   Compaint_type_lebel  \n",
       "0                    0  \n",
       "1                    0  \n",
       "2                    0  \n",
       "3                    0  \n",
       "4                    0  \n",
       "\n",
       "[5 rows x 23 columns]"
      ]
     },
     "execution_count": 7,
     "metadata": {},
     "output_type": "execute_result"
    }
   ],
   "source": [
    "# merge data frame \"df\" and \"dummy_variable_1\" \n",
    "df = pd.concat([df_X1, dummy_variable_1['HEATING']], axis=1)\n",
    "#change column names for clarity\n",
    "df.rename(columns={'HEATING':'Compaint_type_lebel'}, inplace=True)\n",
    "df.head()"
   ]
  },
  {
   "cell_type": "markdown",
   "metadata": {},
   "source": [
    "<p>Check the true <b>\"Complaint Type\"</b> and  0, 1 coded label <b>\"Complaint_Type_lebel\" </b> values are same.</p>"
   ]
  },
  {
   "cell_type": "code",
   "execution_count": 8,
   "metadata": {},
   "outputs": [
    {
     "name": "stdout",
     "output_type": "stream",
     "text": [
      "True: ['HEAT/HOT WATER' 'HEAT/HOT WATER' 'HEAT/HOT WATER' 'HEAT/HOT WATER'\n",
      " 'HEAT/HOT WATER' 'HEAT/HOT WATER' 'HEAT/HOT WATER' 'HEAT/HOT WATER'\n",
      " 'HEAT/HOT WATER' 'HEAT/HOT WATER']\n",
      "Lebel: [0 0 0 0 0 0 0 0 0 0]\n",
      "HEAT/HOT WATER    150461\n",
      "HEATING           117398\n",
      "Name: Complaint Type, dtype: int64\n",
      "0    150461\n",
      "1    117398\n",
      "Name: Compaint_type_lebel, dtype: int64\n"
     ]
    }
   ],
   "source": [
    "# print the first 25 Values\n",
    "print('True:', df['Complaint Type'].values[0:10])\n",
    "print('Lebel:', df['Compaint_type_lebel'].values[0:10])\n",
    "print(df['Complaint Type'].value_counts())\n",
    "print(df['Compaint_type_lebel'].value_counts())"
   ]
  },
  {
   "cell_type": "markdown",
   "metadata": {},
   "source": [
    "<h2 id=\"pattern_visualization\"> Analyzing Individual Feature Patterns using Visualization</h2>"
   ]
  },
  {
   "cell_type": "code",
   "execution_count": 7,
   "metadata": {},
   "outputs": [],
   "source": [
    "%%capture\n",
    "!pip install seaborn"
   ]
  },
  {
   "cell_type": "markdown",
   "metadata": {},
   "source": [
    "<p>Import visualization packages \"Matplotlib\" and \"Seaborn\", also \"%matplotlib inline\" to plot in a Jupyter notebook.</p>"
   ]
  },
  {
   "cell_type": "code",
   "execution_count": 12,
   "metadata": {
    "jupyter": {
     "outputs_hidden": false
    }
   },
   "outputs": [],
   "source": [
    "import matplotlib.pyplot as plt\n",
    "import seaborn as sns\n",
    "%matplotlib inline "
   ]
  },
  {
   "cell_type": "markdown",
   "metadata": {},
   "source": [
    "<b>This is a classification problem\"</b> Lets start define feature sets X, and y for our dataset and start Train/Test Split:"
   ]
  },
  {
   "cell_type": "code",
   "execution_count": 9,
   "metadata": {
    "jupyter": {
     "outputs_hidden": false
    }
   },
   "outputs": [
    {
     "name": "stdout",
     "output_type": "stream",
     "text": [
      "   BldgDepth  BuiltFAR  LotDepth  NumFloors   ResArea    BldAge\n",
      "0   0.009374  0.010667      0.02   0.057692  0.006345  0.368627\n",
      "1   0.009374  0.010667      0.02   0.057692  0.006345  0.368627\n",
      "2   0.009374  0.010667      0.02   0.057692  0.006345  0.368627\n",
      "3   0.009374  0.010667      0.02   0.057692  0.006345  0.368627\n",
      "4   0.009374  0.010667      0.02   0.057692  0.006345  0.368627\n",
      "0     0\n",
      "1     0\n",
      "2     0\n",
      "3     0\n",
      "4     0\n",
      "5     0\n",
      "6     0\n",
      "7     0\n",
      "8     0\n",
      "9     0\n",
      "10    0\n",
      "11    0\n",
      "12    0\n",
      "13    0\n",
      "14    0\n",
      "15    0\n",
      "16    0\n",
      "17    0\n",
      "18    0\n",
      "19    0\n",
      "20    0\n",
      "21    0\n",
      "22    0\n",
      "23    0\n",
      "24    0\n",
      "Name: Compaint_type_lebel, dtype: uint8\n",
      "Feature Set: (267859, 6)\n",
      "Label set: (267859,)\n"
     ]
    }
   ],
   "source": [
    "feature_cols = ['BldgDepth','BuiltFAR', 'LotDepth', 'NumFloors', 'ResArea', 'BldAge']\n",
    "X=df[feature_cols]\n",
    "y=df['Compaint_type_lebel']\n",
    "print(X[0:5])\n",
    "print(y [0:25])\n",
    "print ('Feature Set:', X.shape)\n",
    "print ('Label set:', y.shape)"
   ]
  },
  {
   "cell_type": "markdown",
   "metadata": {},
   "source": [
    "## Train/Test dataset"
   ]
  },
  {
   "cell_type": "code",
   "execution_count": 10,
   "metadata": {
    "jupyter": {
     "outputs_hidden": false
    }
   },
   "outputs": [
    {
     "name": "stdout",
     "output_type": "stream",
     "text": [
      "sklearn: 0.21.3\n",
      "Train set: (200894, 6) (200894,)\n",
      "Test set: (66965, 6) (66965,)\n",
      "(267859,)\n"
     ]
    }
   ],
   "source": [
    "import sklearn\n",
    "from sklearn.model_selection import train_test_split\n",
    "print('sklearn: {}'.format(sklearn.__version__))\n",
    "# split X and y into training and testing sets\n",
    "X_train, X_test, y_train, y_test = train_test_split(X, y, random_state=0)\n",
    "#X_train, X_test, y_train, y_test = train_test_split( X, y, test_size=0.33, random_state=7)\n",
    "print ('Train set:', X_train.shape,  y_train.shape)\n",
    "print ('Test set:', X_test.shape,  y_test.shape)\n",
    "print(y.shape)"
   ]
  },
  {
   "cell_type": "code",
   "execution_count": 11,
   "metadata": {},
   "outputs": [
    {
     "data": {
      "text/plain": [
       "LogisticRegression(C=0.01, class_weight=None, dual=False, fit_intercept=True,\n",
       "                   intercept_scaling=1, l1_ratio=None, max_iter=100,\n",
       "                   multi_class='warn', n_jobs=None, penalty='l2',\n",
       "                   random_state=None, solver='liblinear', tol=0.0001, verbose=0,\n",
       "                   warm_start=False)"
      ]
     },
     "execution_count": 11,
     "metadata": {},
     "output_type": "execute_result"
    }
   ],
   "source": [
    "from sklearn.linear_model import LogisticRegression\n",
    "from sklearn.metrics import confusion_matrix\n",
    "LR = LogisticRegression(C=0.01, solver='liblinear').fit(X_train,np.ravel(y_train,order='C'))\n",
    "LR"
   ]
  },
  {
   "cell_type": "code",
   "execution_count": 12,
   "metadata": {},
   "outputs": [
    {
     "data": {
      "text/plain": [
       "array([0, 0, 0, ..., 0, 0, 0], dtype=uint8)"
      ]
     },
     "execution_count": 12,
     "metadata": {},
     "output_type": "execute_result"
    }
   ],
   "source": [
    "#Now we can predict using our test set:\n",
    "y_pred_class = LR.predict(X_test)\n",
    "y_pred_class"
   ]
  },
  {
   "cell_type": "markdown",
   "metadata": {},
   "source": [
    "predict_proba returns estimates for all classes, ordered by the label of classes. So, the first column is the probability of class 1, P(Y=1|X), and second column is probability of class 0, P(Y=0|X):"
   ]
  },
  {
   "cell_type": "code",
   "execution_count": 13,
   "metadata": {},
   "outputs": [
    {
     "data": {
      "text/plain": [
       "array([[0.55857902, 0.44142098],\n",
       "       [0.55767314, 0.44232686],\n",
       "       [0.56296786, 0.43703214],\n",
       "       ...,\n",
       "       [0.55546075, 0.44453925],\n",
       "       [0.55895864, 0.44104136],\n",
       "       [0.55483802, 0.44516198]])"
      ]
     },
     "execution_count": 13,
     "metadata": {},
     "output_type": "execute_result"
    }
   ],
   "source": [
    "yhat_prob = LR.predict_proba(X_test)\n",
    "yhat_prob"
   ]
  },
  {
   "cell_type": "markdown",
   "metadata": {},
   "source": [
    "<h2 id=\"evaluation\">Evaluation/ Classification Accuracy For Logistic REgression</h2>\n",
    "\n",
    "Using jaccard index for accuracy evaluation. we can define jaccard as the size of the intersection divided by the size of the union of two label sets. If the entire set of predicted labels for a sample strictly match with the true set of labels, then the subset accuracy is 1.0; otherwise it is 0.0."
   ]
  },
  {
   "cell_type": "code",
   "execution_count": 14,
   "metadata": {},
   "outputs": [
    {
     "data": {
      "text/plain": [
       "0.0"
      ]
     },
     "execution_count": 14,
     "metadata": {},
     "output_type": "execute_result"
    }
   ],
   "source": [
    "from sklearn.metrics import jaccard_score\n",
    "jaccard_score(y_test, y_pred_class)"
   ]
  },
  {
   "cell_type": "markdown",
   "metadata": {},
   "source": [
    "<h2 id=\"evaluation\">Classification Accuracy: Percentage of correct predication</h2>\n",
    "\n",
    "Using accuracy score."
   ]
  },
  {
   "cell_type": "code",
   "execution_count": 15,
   "metadata": {},
   "outputs": [
    {
     "name": "stdout",
     "output_type": "stream",
     "text": [
      "0.5604121556036735\n"
     ]
    }
   ],
   "source": [
    "from sklearn import metrics\n",
    "print(metrics.accuracy_score(y_test, y_pred_class))"
   ]
  },
  {
   "cell_type": "markdown",
   "metadata": {},
   "source": [
    "### Null Accuracy:\n",
    " accuracy that could be achieved by always predicting the most frequent class"
   ]
  },
  {
   "cell_type": "code",
   "execution_count": 16,
   "metadata": {},
   "outputs": [
    {
     "data": {
      "text/plain": [
       "0    37528\n",
       "1    29437\n",
       "Name: Compaint_type_lebel, dtype: int64"
      ]
     },
     "execution_count": 16,
     "metadata": {},
     "output_type": "execute_result"
    }
   ],
   "source": [
    "# examine the class distribution of the testing set (using a Pandas Series method)\n",
    "y_test.value_counts()"
   ]
  },
  {
   "cell_type": "code",
   "execution_count": 17,
   "metadata": {},
   "outputs": [
    {
     "data": {
      "text/plain": [
       "0.4395878443963264"
      ]
     },
     "execution_count": 17,
     "metadata": {},
     "output_type": "execute_result"
    }
   ],
   "source": [
    "# calculate the percentage of ones\n",
    "y_test.mean()"
   ]
  },
  {
   "cell_type": "code",
   "execution_count": 18,
   "metadata": {},
   "outputs": [
    {
     "data": {
      "text/plain": [
       "0.5604121556036736"
      ]
     },
     "execution_count": 18,
     "metadata": {},
     "output_type": "execute_result"
    }
   ],
   "source": [
    "# calculate the percentage of zeros\n",
    "1 - y_test.mean()"
   ]
  },
  {
   "cell_type": "code",
   "execution_count": 19,
   "metadata": {},
   "outputs": [
    {
     "data": {
      "text/plain": [
       "0.5604121556036736"
      ]
     },
     "execution_count": 19,
     "metadata": {},
     "output_type": "execute_result"
    }
   ],
   "source": [
    "# calculate null accuracy (for binary classification problems coded as 0/1)\n",
    "max(y_test.mean(), 1 - y_test.mean())"
   ]
  },
  {
   "cell_type": "code",
   "execution_count": 115,
   "metadata": {},
   "outputs": [],
   "source": [
    "# # calculate null accuracy (for binary classification problems coded as 0/1)\n",
    "# max(y_test.mean(), 1 - y_test.mean())\n",
    "# calculate null accuracy (for multi-class classification problems)\n",
    "#! HERE my Binary classification's labels are 1 & 2, if it is not coded as 0 & 1 # max(y_test.mean(), 1 - y_test.mean()) will not work\n",
    "#y_test.value_counts().head(1) / len(y_test)"
   ]
  },
  {
   "cell_type": "markdown",
   "metadata": {},
   "source": [
    "<b>Comparing the true and predicted response values</b>"
   ]
  },
  {
   "cell_type": "code",
   "execution_count": 20,
   "metadata": {},
   "outputs": [
    {
     "name": "stdout",
     "output_type": "stream",
     "text": [
      "True: [0 0 0 0 0 0 0 1 1 0 1 1 1 1 0 1 0 1 1 1 0 0 0 0 1 1 1 0 1 1 1 0 0 1 0]\n",
      "Pred: [0 0 0 0 0 0 0 0 0 0 0 0 0 0 0 0 0 0 0 0 0 0 0 0 0 0 0 0 0 0 0 0 0 0 0]\n"
     ]
    }
   ],
   "source": [
    "# print the first 25 true and predicted responses\n",
    "print('True:', y_test.values[35:70])\n",
    "print('Pred:', y_pred_class[35:70])"
   ]
  },
  {
   "cell_type": "markdown",
   "metadata": {},
   "source": [
    "### Conclusion:\n",
    "\n",
    "<ul>\n",
    "    <li>Classification accuracy is the easiest classification metric to understand</li>\n",
    "    <li>But, it does not tell you the underlying distribution of response values</li>\n",
    "    <li>And, it does not tell you what \"types\" of errors your classifier is making</li>\n",
    "</ul>"
   ]
  },
  {
   "cell_type": "markdown",
   "metadata": {},
   "source": [
    "### Confusion matrix\n",
    "Table that describes the performance of a classification model"
   ]
  },
  {
   "cell_type": "code",
   "execution_count": 21,
   "metadata": {},
   "outputs": [
    {
     "name": "stdout",
     "output_type": "stream",
     "text": [
      "[[37528     0]\n",
      " [29437     0]]\n"
     ]
    }
   ],
   "source": [
    "# IMPORTANT: first argument is true values, second argument is predicted values\n",
    "print(metrics.confusion_matrix(y_test, y_pred_class))"
   ]
  },
  {
   "cell_type": "code",
   "execution_count": 22,
   "metadata": {},
   "outputs": [],
   "source": [
    "# save confusion matrix and slice into four pieces\n",
    "confusion = metrics.confusion_matrix(y_test, y_pred_class)\n",
    "TP = confusion[1, 1]\n",
    "TN = confusion[0, 0]\n",
    "FP = confusion[0, 1]\n",
    "FN = confusion[1, 0]"
   ]
  },
  {
   "cell_type": "markdown",
   "metadata": {},
   "source": [
    "### Metrics computed from a confusion matrix\n",
    "Classification Accuracy: Overall, how often is the classifier correct?"
   ]
  },
  {
   "cell_type": "code",
   "execution_count": 23,
   "metadata": {},
   "outputs": [
    {
     "name": "stdout",
     "output_type": "stream",
     "text": [
      "0.5604121556036735\n",
      "0.5604121556036735\n"
     ]
    }
   ],
   "source": [
    "print((TP + TN) / float(TP + TN + FP + FN))\n",
    "print(metrics.accuracy_score(y_test, y_pred_class))"
   ]
  },
  {
   "cell_type": "markdown",
   "metadata": {},
   "source": [
    "Classification Error: Overall, how often is the classifier incorrect?\n",
    "<ul>\n",
    "    <li>Also known as \"Misclassification Rate\"</li>\n",
    "</ul>"
   ]
  },
  {
   "cell_type": "code",
   "execution_count": 24,
   "metadata": {},
   "outputs": [
    {
     "name": "stdout",
     "output_type": "stream",
     "text": [
      "0.4395878443963264\n",
      "0.4395878443963265\n"
     ]
    }
   ],
   "source": [
    "print((FP + FN) / float(TP + TN + FP + FN))\n",
    "print(1 - metrics.accuracy_score(y_test, y_pred_class))"
   ]
  },
  {
   "cell_type": "markdown",
   "metadata": {},
   "source": [
    "Sensitivity: When the actual value is positive, how often is the prediction correct?\n",
    "<ul>\n",
    "    <li>How \"sensitive\" is the classifier to detecting positive instances?</li>\n",
    "    <li>Also known as \"True Positive Rate\" or \"Recall\"</li>\n",
    "</ul>"
   ]
  },
  {
   "cell_type": "code",
   "execution_count": 25,
   "metadata": {},
   "outputs": [
    {
     "name": "stdout",
     "output_type": "stream",
     "text": [
      "0.0\n",
      "0.0\n"
     ]
    }
   ],
   "source": [
    "print(TP / float(TP + FN))\n",
    "print(metrics.recall_score(y_test, y_pred_class))"
   ]
  },
  {
   "cell_type": "markdown",
   "metadata": {},
   "source": [
    "### confusion matrix\n",
    "Another way of looking at accuracy of classifier is to look at __confusion matrix__."
   ]
  },
  {
   "cell_type": "code",
   "execution_count": 26,
   "metadata": {},
   "outputs": [
    {
     "data": {
      "image/png": "[encoded data removed]",
      "text/plain": [
       "<Figure size 432x288 with 2 Axes>"
      ]
     },
     "metadata": {},
     "output_type": "display_data"
    }
   ],
   "source": [
    "import matplotlib.pyplot as plt\n",
    "import seaborn as sn\n",
    "%matplotlib inline \n",
    "\n",
    "# Compute confusion matrix\n",
    "cnf_matrix = confusion_matrix(y_test, y_pred_class, labels=[0,1])\n",
    "\n",
    "sn.set(font_scale=2.0) # for label size\n",
    "akws = {\"size\": 20,\"ha\": 'center',\"va\": 'center',\"color\":'red'}\n",
    "# font size, Horizontal position ('center', 'right', 'left'), \n",
    "#Vertical position('top', 'bottom', 'center', 'baseline', 'center_baseline')\n",
    "ax=sn.heatmap(cnf_matrix, linewidths=1.0, linecolor=\"red\",cmap=\"YlGnBu\",center=0, annot=True,fmt=\"d\", annot_kws=akws) \n",
    "plt.show()\n",
    "#ax.figure.savefig('BrookLyn_Binary.png')"
   ]
  },
  {
   "cell_type": "markdown",
   "metadata": {},
   "source": [
    "<h4>Lets try another solver</h4>"
   ]
  },
  {
   "cell_type": "markdown",
   "metadata": {},
   "source": [
    "Using lbfgs"
   ]
  },
  {
   "cell_type": "code",
   "execution_count": 27,
   "metadata": {},
   "outputs": [
    {
     "data": {
      "text/plain": [
       "LogisticRegression(C=1, class_weight=None, dual=False, fit_intercept=True,\n",
       "                   intercept_scaling=1, l1_ratio=None, max_iter=100,\n",
       "                   multi_class='auto', n_jobs=-1, penalty='l2', random_state=34,\n",
       "                   solver='lbfgs', tol=0.0001, verbose=0, warm_start=False)"
      ]
     },
     "execution_count": 27,
     "metadata": {},
     "output_type": "execute_result"
    }
   ],
   "source": [
    "LR1= LogisticRegression(random_state=34, solver='lbfgs', multi_class=\"auto\", n_jobs=-1, C=1).fit(X_train, np.ravel(y_train,order='C'))\n",
    "LR1"
   ]
  },
  {
   "cell_type": "code",
   "execution_count": 28,
   "metadata": {
    "jupyter": {
     "outputs_hidden": false
    }
   },
   "outputs": [
    {
     "data": {
      "text/plain": [
       "array([0, 0, 0, ..., 0, 0, 0], dtype=uint8)"
      ]
     },
     "execution_count": 28,
     "metadata": {},
     "output_type": "execute_result"
    }
   ],
   "source": [
    "# yhat_saga = LR1.predict(X_test)\n",
    "# yhat_saga\n",
    "yhat_lbfgs = LR1.predict(X_test)\n",
    "yhat_lbfgs"
   ]
  },
  {
   "cell_type": "code",
   "execution_count": 29,
   "metadata": {},
   "outputs": [
    {
     "name": "stdout",
     "output_type": "stream",
     "text": [
      "0.0\n",
      "0.0004754788751528325\n"
     ]
    }
   ],
   "source": [
    "from sklearn.metrics import jaccard_score\n",
    "J_saga=jaccard_score(y_test, y_pred_class)\n",
    "J_lbfgs=jaccard_score(y_test, yhat_lbfgs)\n",
    "print(J_saga)\n",
    "print(J_lbfgs)"
   ]
  },
  {
   "cell_type": "code",
   "execution_count": 30,
   "metadata": {},
   "outputs": [
    {
     "name": "stdout",
     "output_type": "stream",
     "text": [
      "Accuracy: 56.05%\n"
     ]
    }
   ],
   "source": [
    "# evaluate predictions\n",
    "from sklearn import metrics\n",
    "accur_lbfgs = metrics.accuracy_score(y_test, yhat_lbfgs)\n",
    "print(\"Accuracy: %.2f%%\" % (accur_lbfgs * 100.0))"
   ]
  },
  {
   "cell_type": "code",
   "execution_count": 31,
   "metadata": {},
   "outputs": [
    {
     "name": "stdout",
     "output_type": "stream",
     "text": [
      "0.00047559194211366647\n"
     ]
    }
   ],
   "source": [
    "#True Positive rate\n",
    "print(metrics.recall_score(y_test, yhat_lbfgs))"
   ]
  },
  {
   "cell_type": "markdown",
   "metadata": {},
   "source": [
    "So in both solver (saga and lbfgs)we get lower value of Jacardian Index, 0 True positve rate. <b>So Logistc Regression's performance not up to the mark</b>"
   ]
  },
  {
   "cell_type": "markdown",
   "metadata": {},
   "source": [
    "<h3 id=\"correct_data_format\">Logistic Regression is not an appropriate Model for this problem.\n",
    "Lets Try with XGBOOST MODEL</h3>"
   ]
  },
  {
   "cell_type": "code",
   "execution_count": 32,
   "metadata": {},
   "outputs": [],
   "source": [
    "from numpy import loadtxt\n",
    "from xgboost import XGBClassifier\n",
    "#from sklearn.model_selection import train_test_split\n",
    "from sklearn.metrics import accuracy_score"
   ]
  },
  {
   "cell_type": "code",
   "execution_count": 33,
   "metadata": {},
   "outputs": [
    {
     "name": "stdout",
     "output_type": "stream",
     "text": [
      "Train set: (88394, 6) (179465,)\n",
      "Test set: (88394, 6) (88394,)\n",
      "(267859,)\n"
     ]
    }
   ],
   "source": [
    "# split data into train and test sets\n",
    "seed = 7\n",
    "test_size = 0.33\n",
    "X_train1, X_test1, y_train1, y_test1 = train_test_split( X, y, test_size=test_size, random_state=seed)\n",
    "print ('Train set:', X_test1.shape,  y_train1.shape)\n",
    "print ('Test set:', X_test1.shape,  y_test1.shape)\n",
    "print(y.shape)"
   ]
  },
  {
   "cell_type": "code",
   "execution_count": 34,
   "metadata": {},
   "outputs": [
    {
     "data": {
      "text/plain": [
       "XGBClassifier(base_score=0.5, booster='gbtree', colsample_bylevel=1,\n",
       "              colsample_bynode=1, colsample_bytree=1, gamma=0, gpu_id=-1,\n",
       "              importance_type='gain', interaction_constraints='',\n",
       "              learning_rate=0.300000012, max_delta_step=0, max_depth=6,\n",
       "              min_child_weight=1, missing=nan, monotone_constraints='()',\n",
       "              n_estimators=100, n_jobs=0, num_parallel_tree=1,\n",
       "              objective='binary:logistic', random_state=0, reg_alpha=0,\n",
       "              reg_lambda=1, scale_pos_weight=1, subsample=1,\n",
       "              tree_method='exact', validate_parameters=1, verbosity=None)"
      ]
     },
     "execution_count": 34,
     "metadata": {},
     "output_type": "execute_result"
    }
   ],
   "source": [
    "mXGBC = XGBClassifier()\n",
    "mXGBC.fit(X_train1, np.ravel(y_train1,order='C'))"
   ]
  },
  {
   "cell_type": "code",
   "execution_count": 35,
   "metadata": {},
   "outputs": [
    {
     "data": {
      "text/plain": [
       "array([0, 1, 0, ..., 1, 0, 1], dtype=uint8)"
      ]
     },
     "execution_count": 35,
     "metadata": {},
     "output_type": "execute_result"
    }
   ],
   "source": [
    "#Now we can predict using our test set:\n",
    "yhat_XGB = mXGBC.predict(X_test1)\n",
    "yhat_XGB"
   ]
  },
  {
   "cell_type": "markdown",
   "metadata": {},
   "source": [
    "<h2 id=\"evaluation\">Evaluation/ Classification Accuracy For XGBOOST MODEL</h2>\n",
    "\n",
    "Using jaccard index for accuracy evaluation. we can define jaccard as the size of the intersection divided by the size of the union of two label sets. If the entire set of predicted labels for a sample strictly match with the true set of labels, then the subset accuracy is 1.0; otherwise it is 0.0."
   ]
  },
  {
   "cell_type": "code",
   "execution_count": 36,
   "metadata": {},
   "outputs": [
    {
     "data": {
      "text/plain": [
       "0.5075861512388024"
      ]
     },
     "execution_count": 36,
     "metadata": {},
     "output_type": "execute_result"
    }
   ],
   "source": [
    "from sklearn.metrics import jaccard_score\n",
    "jaccard_score(y_test1, yhat_XGB)"
   ]
  },
  {
   "cell_type": "markdown",
   "metadata": {},
   "source": [
    "<h2 id=\"evaluation\">Classification Accuracy: Percentage of correct predication</h2>\n",
    "\n",
    "Using accuracy score."
   ]
  },
  {
   "cell_type": "code",
   "execution_count": 37,
   "metadata": {},
   "outputs": [
    {
     "name": "stdout",
     "output_type": "stream",
     "text": [
      "Accuracy: 72.39%\n"
     ]
    }
   ],
   "source": [
    "# evaluate predictions\n",
    "accuracy = accuracy_score(y_test1, yhat_XGB)\n",
    "print(\"Accuracy: %.2f%%\" % (accuracy * 100.0))"
   ]
  },
  {
   "cell_type": "markdown",
   "metadata": {},
   "source": [
    "### Null Accuracy:\n",
    " accuracy that could be achieved by always predicting the most frequent class"
   ]
  },
  {
   "cell_type": "code",
   "execution_count": 38,
   "metadata": {},
   "outputs": [
    {
     "data": {
      "text/plain": [
       "0    49737\n",
       "1    38657\n",
       "Name: Compaint_type_lebel, dtype: int64"
      ]
     },
     "execution_count": 38,
     "metadata": {},
     "output_type": "execute_result"
    }
   ],
   "source": [
    "# examine the class distribution of the testing set (using a Pandas Series method)\n",
    "y_test1.value_counts()"
   ]
  },
  {
   "cell_type": "code",
   "execution_count": 39,
   "metadata": {},
   "outputs": [
    {
     "data": {
      "text/plain": [
       "0.4373260628549449"
      ]
     },
     "execution_count": 39,
     "metadata": {},
     "output_type": "execute_result"
    }
   ],
   "source": [
    "# calculate the percentage of ones\n",
    "y_test1.mean()"
   ]
  },
  {
   "cell_type": "code",
   "execution_count": 40,
   "metadata": {},
   "outputs": [
    {
     "data": {
      "text/plain": [
       "0.5604121556036736"
      ]
     },
     "execution_count": 40,
     "metadata": {},
     "output_type": "execute_result"
    }
   ],
   "source": [
    "# calculate the percentage of zeros\n",
    "1 - y_test.mean()"
   ]
  },
  {
   "cell_type": "code",
   "execution_count": 41,
   "metadata": {},
   "outputs": [
    {
     "data": {
      "text/plain": [
       "0.5626739371450551"
      ]
     },
     "execution_count": 41,
     "metadata": {},
     "output_type": "execute_result"
    }
   ],
   "source": [
    "# calculate null accuracy (for binary classification problems coded as 0/1)\n",
    "max(y_test1.mean(), 1 - y_test1.mean())"
   ]
  },
  {
   "cell_type": "markdown",
   "metadata": {},
   "source": [
    "<b>Comparing the true and predicted response values</b>"
   ]
  },
  {
   "cell_type": "code",
   "execution_count": 42,
   "metadata": {},
   "outputs": [
    {
     "name": "stdout",
     "output_type": "stream",
     "text": [
      "True: [1 1 1 0 0 0 1 0 0 0 0 1 0 0 1 0 0 1 0 0 0 0 1 0 0 1 0 1 0 1 0 1 0 1 0]\n",
      "Pred: [0 1 1 0 0 0 1 1 0 0 0 0 0 1 1 0 0 1 0 0 0 0 0 1 0 1 0 0 0 0 0 0 0 0 0]\n"
     ]
    }
   ],
   "source": [
    "# print the first 25 true and predicted responses\n",
    "print('True:', y_test1.values[35:70])\n",
    "print('Pred:', yhat_XGB[35:70])"
   ]
  },
  {
   "cell_type": "code",
   "execution_count": 44,
   "metadata": {},
   "outputs": [
    {
     "data": {
      "image/png": "[encoded data removed]",
      "text/plain": [
       "<Figure size 432x288 with 2 Axes>"
      ]
     },
     "metadata": {},
     "output_type": "display_data"
    }
   ],
   "source": [
    "# Compute confusion matrix\n",
    "cnf_matXGB = confusion_matrix(y_test1, yhat_XGB, labels=[0,1])\n",
    "#plot_confusion_matrix(cnf_matXGB, classes=['HEAT/HOT WATER=0','HEATING=1'],normalize= False,  title='Confusion matrix')\n",
    "# Compute confusion matrix\n",
    "\n",
    "sn.set(font_scale=2.0) # for label size\n",
    "akws = {\"size\": 20,\"ha\": 'center',\"va\": 'center',\"color\":'red'}\n",
    "# font size, Horizontal position ('center', 'right', 'left'), \n",
    "#Vertical position('top', 'bottom', 'center', 'baseline', 'center_baseline')\n",
    "ax=sn.heatmap(cnf_matXGB, linewidths=1.0, linecolor=\"red\",cmap=\"YlGnBu\",center=0, annot=True,fmt=\"d\", annot_kws=akws) \n",
    "plt.show()\n",
    "#saving the plot for report purposes\n",
    "ax.figure.savefig('Manhattan_Binary.png')"
   ]
  },
  {
   "cell_type": "markdown",
   "metadata": {},
   "source": [
    "<h2 id=\"evaluation\">Metrics computed from a confusion matrix</h2>"
   ]
  },
  {
   "cell_type": "code",
   "execution_count": 45,
   "metadata": {},
   "outputs": [
    {
     "name": "stdout",
     "output_type": "stream",
     "text": [
      "25158\n"
     ]
    }
   ],
   "source": [
    "# save confusion matrix and slice into four pieces\n",
    "TP = cnf_matXGB[1, 1]\n",
    "TN = cnf_matXGB[0, 0]\n",
    "FP = cnf_matXGB[0, 1]\n",
    "FN = cnf_matXGB[1, 0]\n",
    "print(TP)"
   ]
  },
  {
   "cell_type": "markdown",
   "metadata": {},
   "source": [
    "Classification Accuracy: Overall, how often is the classifier correct?"
   ]
  },
  {
   "cell_type": "code",
   "execution_count": 46,
   "metadata": {},
   "outputs": [
    {
     "name": "stdout",
     "output_type": "stream",
     "text": [
      "0.7238952870104306\n",
      "0.7238952870104306\n"
     ]
    }
   ],
   "source": [
    "print((TP + TN) / float(TP + TN + FP + FN))\n",
    "print(metrics.accuracy_score(y_test1, yhat_XGB))"
   ]
  },
  {
   "cell_type": "markdown",
   "metadata": {},
   "source": [
    "<b>Classification Error:</b> Overall, how often is the classifier incorrect?\n",
    "<uo>\n",
    "    <li>Also known as \"Misclassification Rate\"</li>\n",
    "</uo>"
   ]
  },
  {
   "cell_type": "code",
   "execution_count": 47,
   "metadata": {},
   "outputs": [
    {
     "name": "stdout",
     "output_type": "stream",
     "text": [
      "0.2761047129895694\n",
      "0.2761047129895694\n"
     ]
    }
   ],
   "source": [
    "print((FP + FN) / float(TP + TN + FP + FN))\n",
    "print(1 - metrics.accuracy_score(y_test1, yhat_XGB))"
   ]
  },
  {
   "cell_type": "markdown",
   "metadata": {},
   "source": [
    "<b>Sensitivity/\"True Positive Rate\":</b> When the actual value is positive, how often is the prediction correct?\n",
    "<uo>\n",
    "    <li>How \"sensitive\" is the classifier to detecting positive instances?</li>\n",
    "    <li>Also known as \"True Positive Rate\" or \"Recall\"?</li>\n",
    "</uo>"
   ]
  },
  {
   "cell_type": "code",
   "execution_count": 48,
   "metadata": {},
   "outputs": [
    {
     "name": "stdout",
     "output_type": "stream",
     "text": [
      "0.6508006311922808\n",
      "0.6508006311922808\n"
     ]
    }
   ],
   "source": [
    "print(TP / float(TP + FN))\n",
    "print(metrics.recall_score(y_test1, yhat_XGB))"
   ]
  },
  {
   "cell_type": "markdown",
   "metadata": {},
   "source": [
    "<b>Specificity:</b> When the actual value is negative, how often is the prediction correct?\n",
    "<uo>\n",
    "    <li>How \"specific\" (or \"selective\") is the classifier in predicting negative instances?</li>\n",
    "</uo>"
   ]
  },
  {
   "cell_type": "code",
   "execution_count": 49,
   "metadata": {},
   "outputs": [
    {
     "name": "stdout",
     "output_type": "stream",
     "text": [
      "0.7807065162756097\n"
     ]
    }
   ],
   "source": [
    "print(TN / float(TN + FP))"
   ]
  },
  {
   "cell_type": "markdown",
   "metadata": {},
   "source": [
    "<b>False Positive Rate:</b> When the actual value is negative, how often is the prediction incorrect?\n"
   ]
  },
  {
   "cell_type": "code",
   "execution_count": 50,
   "metadata": {},
   "outputs": [
    {
     "name": "stdout",
     "output_type": "stream",
     "text": [
      "0.21929348372439028\n"
     ]
    }
   ],
   "source": [
    "print(FP / float(TN + FP))"
   ]
  },
  {
   "cell_type": "markdown",
   "metadata": {},
   "source": [
    "<b>Precision:</b> When a positive value is predicted, how often is the prediction correct?\n",
    "<uo>\n",
    "    <li>How \"precise\" is the classifier when predicting positive instances?</li>\n",
    "</uo>"
   ]
  },
  {
   "cell_type": "code",
   "execution_count": 51,
   "metadata": {},
   "outputs": [
    {
     "name": "stdout",
     "output_type": "stream",
     "text": [
      "0.6975738250381256\n",
      "0.6975738250381256\n"
     ]
    }
   ],
   "source": [
    "print(TP / float(TP + FP))\n",
    "print(metrics.precision_score(y_test1, yhat_XGB))"
   ]
  },
  {
   "cell_type": "markdown",
   "metadata": {},
   "source": [
    "Many other metrics can be computed: F1 score, Matthews correlation coefficient, etc.\n",
    "<b>Conclusion:</b>\n",
    "<uo>\n",
    "    <li>Confusion matrix for <b>XGBOOST MODEL</b> provide better performance than <b> Regression Model</b></li>\n",
    "    <li>We can calculate Various classification metrics, and these metrics can guide usour model selection</li>\n",
    "</uo>\n",
    "\n",
    "<b>Which metrics should we focus on?</b>\n",
    "<uo>\n",
    "    <li><b>Choice of metric depends on our business objective</b> </li>\n",
    "    <li><b>Spam filter (positive class is \"spam\"):</b> Optimize for precision or specificity because false negatives (spam goes to the inbox) are more acceptable than false positives (non-spam is caught by the spam filter)</li>\n",
    "    <li><b>Fraudulent transaction detector (positive class is \"fraud\"):</b> Optimize for sensitivity because false positives (normal transactions that are flagged as possible fraud) are more acceptable than false negatives (fraudulent transactions that are not detected)</li>\n",
    "</uo>\n",
    "\n",
    " \n"
   ]
  },
  {
   "cell_type": "markdown",
   "metadata": {},
   "source": [
    "<hr>\n",
    "<p>Copyright &copy; 2020 Mustafizur Rahman <a href=\"https://www.linkedin.com/in/dr-mohammad-rahman-2434b313/\">LinkedIn</a>.</p>"
   ]
  }
 ],
 "metadata": {
  "anaconda-cloud": {},
  "kernelspec": {
   "display_name": "Python 3",
   "language": "python",
   "name": "python3"
  },
  "language_info": {
   "codemirror_mode": {
    "name": "ipython",
    "version": 3
   },
   "file_extension": ".py",
   "mimetype": "text/x-python",
   "name": "python",
   "nbconvert_exporter": "python",
   "pygments_lexer": "ipython3",
   "version": "3.7.4"
  }
 },
 "nbformat": 4,
 "nbformat_minor": 4
}

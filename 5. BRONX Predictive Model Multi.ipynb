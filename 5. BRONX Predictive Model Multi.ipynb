{
 "cells": [
  {
   "cell_type": "markdown",
   "metadata": {},
   "source": [
    "<h1 align=center><font size=5>Data Science and Machine Learning Capstone Project</font></h1>\n",
    "<h2 align=center><font size=3; color=blue> Copyright &#169; Mustafizur Rahman</font></h2>"
   ]
  },
  {
   "cell_type": "markdown",
   "metadata": {},
   "source": [
    "<p><b>MULTI CLASS CLASSIFICATION MODEL FOR BRONX TOP FIVE COMPLAINTS:</b> In this section, I will DEVELOP a classification model using features to predict future Complaint of top five complaint Type</p>"
   ]
  },
  {
   "cell_type": "markdown",
   "metadata": {},
   "source": [
    "<h4>Import pandas</h4> "
   ]
  },
  {
   "cell_type": "code",
   "execution_count": 1,
   "metadata": {},
   "outputs": [],
   "source": [
    "import pandas as pd\n",
    "import numpy as np\n",
    "import matplotlib.pylab as plt\n",
    "import seaborn as sn\n",
    "%matplotlib inline \n",
    "# importing necessary libraries \n",
    "from sklearn.metrics import confusion_matrix \n",
    "from sklearn.model_selection import train_test_split\n"
   ]
  },
  {
   "cell_type": "markdown",
   "metadata": {},
   "source": [
    "<h2>Import data from previous model where I save Clean data for analysis, visualization and Modeling.</h2>"
   ]
  },
  {
   "cell_type": "code",
   "execution_count": 2,
   "metadata": {},
   "outputs": [],
   "source": [
    "filename='C:\\\\Users\\\\TOPU\\Documents\\\\GitHub\\\\5. Data Science and Machine Learning Capstone Project\\\\Bronx_Merged_top5_df.csv'"
   ]
  },
  {
   "cell_type": "markdown",
   "metadata": {},
   "source": [
    "Use the Pandas method <b>read_csv()</b> to load the data from local drive."
   ]
  },
  {
   "cell_type": "code",
   "execution_count": 3,
   "metadata": {
    "jupyter": {
     "outputs_hidden": false
    }
   },
   "outputs": [
    {
     "data": {
      "text/html": [
       "<div>\n",
       "<style scoped>\n",
       "    .dataframe tbody tr th:only-of-type {\n",
       "        vertical-align: middle;\n",
       "    }\n",
       "\n",
       "    .dataframe tbody tr th {\n",
       "        vertical-align: top;\n",
       "    }\n",
       "\n",
       "    .dataframe thead th {\n",
       "        text-align: right;\n",
       "    }\n",
       "</style>\n",
       "<table border=\"1\" class=\"dataframe\">\n",
       "  <thead>\n",
       "    <tr style=\"text-align: right;\">\n",
       "      <th></th>\n",
       "      <th>Complaint Type</th>\n",
       "      <th>Address</th>\n",
       "      <th>Borough</th>\n",
       "      <th>BldgArea</th>\n",
       "      <th>BldgDepth</th>\n",
       "      <th>BuiltFAR</th>\n",
       "      <th>CommFAR</th>\n",
       "      <th>FacilFAR</th>\n",
       "      <th>Lot</th>\n",
       "      <th>LotArea</th>\n",
       "      <th>...</th>\n",
       "      <th>NumFloors</th>\n",
       "      <th>OfficeArea</th>\n",
       "      <th>ResArea</th>\n",
       "      <th>ResidFAR</th>\n",
       "      <th>RetailArea</th>\n",
       "      <th>YearBuilt</th>\n",
       "      <th>YearAlter1</th>\n",
       "      <th>ZipCode</th>\n",
       "      <th>BldAge</th>\n",
       "      <th>RenvAge</th>\n",
       "    </tr>\n",
       "  </thead>\n",
       "  <tbody>\n",
       "    <tr>\n",
       "      <td>0</td>\n",
       "      <td>1</td>\n",
       "      <td>2405 SOUTHERN BOULEVARD</td>\n",
       "      <td>BX</td>\n",
       "      <td>0.009237</td>\n",
       "      <td>0.092308</td>\n",
       "      <td>0.017513</td>\n",
       "      <td>0.0</td>\n",
       "      <td>0.48</td>\n",
       "      <td>5</td>\n",
       "      <td>0.00037</td>\n",
       "      <td>...</td>\n",
       "      <td>0.386364</td>\n",
       "      <td>0.0</td>\n",
       "      <td>0.009467</td>\n",
       "      <td>0.344</td>\n",
       "      <td>0.0</td>\n",
       "      <td>1970</td>\n",
       "      <td>0</td>\n",
       "      <td>10458.0</td>\n",
       "      <td>0.208333</td>\n",
       "      <td>0.0</td>\n",
       "    </tr>\n",
       "    <tr>\n",
       "      <td>1</td>\n",
       "      <td>4</td>\n",
       "      <td>2405 SOUTHERN BOULEVARD</td>\n",
       "      <td>BX</td>\n",
       "      <td>0.009237</td>\n",
       "      <td>0.092308</td>\n",
       "      <td>0.017513</td>\n",
       "      <td>0.0</td>\n",
       "      <td>0.48</td>\n",
       "      <td>5</td>\n",
       "      <td>0.00037</td>\n",
       "      <td>...</td>\n",
       "      <td>0.386364</td>\n",
       "      <td>0.0</td>\n",
       "      <td>0.009467</td>\n",
       "      <td>0.344</td>\n",
       "      <td>0.0</td>\n",
       "      <td>1970</td>\n",
       "      <td>0</td>\n",
       "      <td>10458.0</td>\n",
       "      <td>0.208333</td>\n",
       "      <td>0.0</td>\n",
       "    </tr>\n",
       "    <tr>\n",
       "      <td>2</td>\n",
       "      <td>1</td>\n",
       "      <td>2405 SOUTHERN BOULEVARD</td>\n",
       "      <td>BX</td>\n",
       "      <td>0.009237</td>\n",
       "      <td>0.092308</td>\n",
       "      <td>0.017513</td>\n",
       "      <td>0.0</td>\n",
       "      <td>0.48</td>\n",
       "      <td>5</td>\n",
       "      <td>0.00037</td>\n",
       "      <td>...</td>\n",
       "      <td>0.386364</td>\n",
       "      <td>0.0</td>\n",
       "      <td>0.009467</td>\n",
       "      <td>0.344</td>\n",
       "      <td>0.0</td>\n",
       "      <td>1970</td>\n",
       "      <td>0</td>\n",
       "      <td>10458.0</td>\n",
       "      <td>0.208333</td>\n",
       "      <td>0.0</td>\n",
       "    </tr>\n",
       "    <tr>\n",
       "      <td>3</td>\n",
       "      <td>1</td>\n",
       "      <td>2405 SOUTHERN BOULEVARD</td>\n",
       "      <td>BX</td>\n",
       "      <td>0.009237</td>\n",
       "      <td>0.092308</td>\n",
       "      <td>0.017513</td>\n",
       "      <td>0.0</td>\n",
       "      <td>0.48</td>\n",
       "      <td>5</td>\n",
       "      <td>0.00037</td>\n",
       "      <td>...</td>\n",
       "      <td>0.386364</td>\n",
       "      <td>0.0</td>\n",
       "      <td>0.009467</td>\n",
       "      <td>0.344</td>\n",
       "      <td>0.0</td>\n",
       "      <td>1970</td>\n",
       "      <td>0</td>\n",
       "      <td>10458.0</td>\n",
       "      <td>0.208333</td>\n",
       "      <td>0.0</td>\n",
       "    </tr>\n",
       "    <tr>\n",
       "      <td>4</td>\n",
       "      <td>0</td>\n",
       "      <td>2405 SOUTHERN BOULEVARD</td>\n",
       "      <td>BX</td>\n",
       "      <td>0.009237</td>\n",
       "      <td>0.092308</td>\n",
       "      <td>0.017513</td>\n",
       "      <td>0.0</td>\n",
       "      <td>0.48</td>\n",
       "      <td>5</td>\n",
       "      <td>0.00037</td>\n",
       "      <td>...</td>\n",
       "      <td>0.386364</td>\n",
       "      <td>0.0</td>\n",
       "      <td>0.009467</td>\n",
       "      <td>0.344</td>\n",
       "      <td>0.0</td>\n",
       "      <td>1970</td>\n",
       "      <td>0</td>\n",
       "      <td>10458.0</td>\n",
       "      <td>0.208333</td>\n",
       "      <td>0.0</td>\n",
       "    </tr>\n",
       "  </tbody>\n",
       "</table>\n",
       "<p>5 rows × 22 columns</p>\n",
       "</div>"
      ],
      "text/plain": [
       "   Complaint Type                  Address Borough  BldgArea  BldgDepth  \\\n",
       "0               1  2405 SOUTHERN BOULEVARD      BX  0.009237   0.092308   \n",
       "1               4  2405 SOUTHERN BOULEVARD      BX  0.009237   0.092308   \n",
       "2               1  2405 SOUTHERN BOULEVARD      BX  0.009237   0.092308   \n",
       "3               1  2405 SOUTHERN BOULEVARD      BX  0.009237   0.092308   \n",
       "4               0  2405 SOUTHERN BOULEVARD      BX  0.009237   0.092308   \n",
       "\n",
       "   BuiltFAR  CommFAR  FacilFAR  Lot  LotArea  ...  NumFloors  OfficeArea  \\\n",
       "0  0.017513      0.0      0.48    5  0.00037  ...   0.386364         0.0   \n",
       "1  0.017513      0.0      0.48    5  0.00037  ...   0.386364         0.0   \n",
       "2  0.017513      0.0      0.48    5  0.00037  ...   0.386364         0.0   \n",
       "3  0.017513      0.0      0.48    5  0.00037  ...   0.386364         0.0   \n",
       "4  0.017513      0.0      0.48    5  0.00037  ...   0.386364         0.0   \n",
       "\n",
       "    ResArea  ResidFAR  RetailArea  YearBuilt  YearAlter1  ZipCode    BldAge  \\\n",
       "0  0.009467     0.344         0.0       1970           0  10458.0  0.208333   \n",
       "1  0.009467     0.344         0.0       1970           0  10458.0  0.208333   \n",
       "2  0.009467     0.344         0.0       1970           0  10458.0  0.208333   \n",
       "3  0.009467     0.344         0.0       1970           0  10458.0  0.208333   \n",
       "4  0.009467     0.344         0.0       1970           0  10458.0  0.208333   \n",
       "\n",
       "   RenvAge  \n",
       "0      0.0  \n",
       "1      0.0  \n",
       "2      0.0  \n",
       "3      0.0  \n",
       "4      0.0  \n",
       "\n",
       "[5 rows x 22 columns]"
      ]
     },
     "execution_count": 3,
     "metadata": {},
     "output_type": "execute_result"
    }
   ],
   "source": [
    "df= pd.read_csv(filename)\n",
    "df.head()"
   ]
  },
  {
   "cell_type": "code",
   "execution_count": 5,
   "metadata": {},
   "outputs": [
    {
     "name": "stdout",
     "output_type": "stream",
     "text": [
      "Index(['Complaint Type', 'Address', 'Borough', 'BldgArea', 'BldgDepth',\n",
      "       'BuiltFAR', 'CommFAR', 'FacilFAR', 'Lot', 'LotArea', 'LotDepth',\n",
      "       'NumBldgs', 'NumFloors', 'OfficeArea', 'ResArea', 'ResidFAR',\n",
      "       'RetailArea', 'YearBuilt', 'YearAlter1', 'ZipCode', 'BldAge',\n",
      "       'RenvAge'],\n",
      "      dtype='object')\n"
     ]
    },
    {
     "data": {
      "text/html": [
       "<div>\n",
       "<style scoped>\n",
       "    .dataframe tbody tr th:only-of-type {\n",
       "        vertical-align: middle;\n",
       "    }\n",
       "\n",
       "    .dataframe tbody tr th {\n",
       "        vertical-align: top;\n",
       "    }\n",
       "\n",
       "    .dataframe thead th {\n",
       "        text-align: right;\n",
       "    }\n",
       "</style>\n",
       "<table border=\"1\" class=\"dataframe\">\n",
       "  <thead>\n",
       "    <tr style=\"text-align: right;\">\n",
       "      <th></th>\n",
       "      <th>Complaint Type</th>\n",
       "      <th>BldgArea</th>\n",
       "      <th>BldgDepth</th>\n",
       "      <th>BuiltFAR</th>\n",
       "      <th>CommFAR</th>\n",
       "      <th>FacilFAR</th>\n",
       "      <th>Lot</th>\n",
       "      <th>LotArea</th>\n",
       "      <th>LotDepth</th>\n",
       "      <th>NumBldgs</th>\n",
       "      <th>NumFloors</th>\n",
       "      <th>OfficeArea</th>\n",
       "      <th>ResArea</th>\n",
       "      <th>ResidFAR</th>\n",
       "      <th>RetailArea</th>\n",
       "      <th>YearBuilt</th>\n",
       "      <th>YearAlter1</th>\n",
       "      <th>ZipCode</th>\n",
       "      <th>BldAge</th>\n",
       "      <th>RenvAge</th>\n",
       "    </tr>\n",
       "  </thead>\n",
       "  <tbody>\n",
       "    <tr>\n",
       "      <td>Complaint Type</td>\n",
       "      <td>1.000000</td>\n",
       "      <td>-0.009860</td>\n",
       "      <td>-0.023631</td>\n",
       "      <td>-0.012431</td>\n",
       "      <td>0.004921</td>\n",
       "      <td>-0.002066</td>\n",
       "      <td>0.007687</td>\n",
       "      <td>-0.007166</td>\n",
       "      <td>-0.016218</td>\n",
       "      <td>-0.002594</td>\n",
       "      <td>-0.013960</td>\n",
       "      <td>-0.005033</td>\n",
       "      <td>-0.009869</td>\n",
       "      <td>-0.005655</td>\n",
       "      <td>-0.006678</td>\n",
       "      <td>-0.005798</td>\n",
       "      <td>-0.006287</td>\n",
       "      <td>-0.013278</td>\n",
       "      <td>-0.016749</td>\n",
       "      <td>-0.007924</td>\n",
       "    </tr>\n",
       "    <tr>\n",
       "      <td>BldgArea</td>\n",
       "      <td>-0.009860</td>\n",
       "      <td>1.000000</td>\n",
       "      <td>0.398412</td>\n",
       "      <td>0.407002</td>\n",
       "      <td>-0.014423</td>\n",
       "      <td>0.193757</td>\n",
       "      <td>0.150495</td>\n",
       "      <td>0.715538</td>\n",
       "      <td>0.565613</td>\n",
       "      <td>0.407043</td>\n",
       "      <td>0.634931</td>\n",
       "      <td>0.131638</td>\n",
       "      <td>0.986428</td>\n",
       "      <td>0.175338</td>\n",
       "      <td>0.186937</td>\n",
       "      <td>0.082384</td>\n",
       "      <td>0.085739</td>\n",
       "      <td>-0.052596</td>\n",
       "      <td>-0.233461</td>\n",
       "      <td>0.090100</td>\n",
       "    </tr>\n",
       "    <tr>\n",
       "      <td>BldgDepth</td>\n",
       "      <td>-0.023631</td>\n",
       "      <td>0.398412</td>\n",
       "      <td>1.000000</td>\n",
       "      <td>0.157845</td>\n",
       "      <td>-0.024740</td>\n",
       "      <td>0.218130</td>\n",
       "      <td>-0.059454</td>\n",
       "      <td>0.276162</td>\n",
       "      <td>0.532468</td>\n",
       "      <td>0.045406</td>\n",
       "      <td>0.259628</td>\n",
       "      <td>0.065057</td>\n",
       "      <td>0.397719</td>\n",
       "      <td>0.219689</td>\n",
       "      <td>0.150603</td>\n",
       "      <td>0.109747</td>\n",
       "      <td>0.093119</td>\n",
       "      <td>-0.085157</td>\n",
       "      <td>0.050450</td>\n",
       "      <td>0.115903</td>\n",
       "    </tr>\n",
       "    <tr>\n",
       "      <td>BuiltFAR</td>\n",
       "      <td>-0.012431</td>\n",
       "      <td>0.407002</td>\n",
       "      <td>0.157845</td>\n",
       "      <td>1.000000</td>\n",
       "      <td>0.002353</td>\n",
       "      <td>0.233140</td>\n",
       "      <td>0.112703</td>\n",
       "      <td>-0.009456</td>\n",
       "      <td>-0.027964</td>\n",
       "      <td>0.243716</td>\n",
       "      <td>0.322825</td>\n",
       "      <td>-0.004585</td>\n",
       "      <td>0.417153</td>\n",
       "      <td>0.225061</td>\n",
       "      <td>0.107389</td>\n",
       "      <td>0.067334</td>\n",
       "      <td>0.076620</td>\n",
       "      <td>-0.113729</td>\n",
       "      <td>0.004089</td>\n",
       "      <td>0.074820</td>\n",
       "    </tr>\n",
       "    <tr>\n",
       "      <td>CommFAR</td>\n",
       "      <td>0.004921</td>\n",
       "      <td>-0.014423</td>\n",
       "      <td>-0.024740</td>\n",
       "      <td>0.002353</td>\n",
       "      <td>1.000000</td>\n",
       "      <td>0.120859</td>\n",
       "      <td>0.050419</td>\n",
       "      <td>-0.015441</td>\n",
       "      <td>-0.022537</td>\n",
       "      <td>0.007928</td>\n",
       "      <td>-0.005474</td>\n",
       "      <td>0.008308</td>\n",
       "      <td>-0.022239</td>\n",
       "      <td>0.004354</td>\n",
       "      <td>0.085839</td>\n",
       "      <td>-0.017201</td>\n",
       "      <td>0.048140</td>\n",
       "      <td>-0.035584</td>\n",
       "      <td>0.052092</td>\n",
       "      <td>0.044448</td>\n",
       "    </tr>\n",
       "    <tr>\n",
       "      <td>FacilFAR</td>\n",
       "      <td>-0.002066</td>\n",
       "      <td>0.193757</td>\n",
       "      <td>0.218130</td>\n",
       "      <td>0.233140</td>\n",
       "      <td>0.120859</td>\n",
       "      <td>1.000000</td>\n",
       "      <td>0.021211</td>\n",
       "      <td>0.051074</td>\n",
       "      <td>0.057212</td>\n",
       "      <td>-0.056492</td>\n",
       "      <td>0.262145</td>\n",
       "      <td>0.017539</td>\n",
       "      <td>0.197443</td>\n",
       "      <td>0.846442</td>\n",
       "      <td>0.098455</td>\n",
       "      <td>0.003250</td>\n",
       "      <td>0.092772</td>\n",
       "      <td>-0.389442</td>\n",
       "      <td>0.069010</td>\n",
       "      <td>0.089054</td>\n",
       "    </tr>\n",
       "    <tr>\n",
       "      <td>Lot</td>\n",
       "      <td>0.007687</td>\n",
       "      <td>0.150495</td>\n",
       "      <td>-0.059454</td>\n",
       "      <td>0.112703</td>\n",
       "      <td>0.050419</td>\n",
       "      <td>0.021211</td>\n",
       "      <td>1.000000</td>\n",
       "      <td>0.097245</td>\n",
       "      <td>0.003995</td>\n",
       "      <td>0.122408</td>\n",
       "      <td>0.079608</td>\n",
       "      <td>0.008754</td>\n",
       "      <td>0.131088</td>\n",
       "      <td>-0.012018</td>\n",
       "      <td>0.279969</td>\n",
       "      <td>0.029162</td>\n",
       "      <td>-0.045596</td>\n",
       "      <td>0.010776</td>\n",
       "      <td>-0.220905</td>\n",
       "      <td>-0.044098</td>\n",
       "    </tr>\n",
       "    <tr>\n",
       "      <td>LotArea</td>\n",
       "      <td>-0.007166</td>\n",
       "      <td>0.715538</td>\n",
       "      <td>0.276162</td>\n",
       "      <td>-0.009456</td>\n",
       "      <td>-0.015441</td>\n",
       "      <td>0.051074</td>\n",
       "      <td>0.097245</td>\n",
       "      <td>1.000000</td>\n",
       "      <td>0.601011</td>\n",
       "      <td>0.421076</td>\n",
       "      <td>0.384238</td>\n",
       "      <td>0.338650</td>\n",
       "      <td>0.686655</td>\n",
       "      <td>0.032177</td>\n",
       "      <td>0.098702</td>\n",
       "      <td>0.021934</td>\n",
       "      <td>0.040321</td>\n",
       "      <td>0.021403</td>\n",
       "      <td>-0.190611</td>\n",
       "      <td>0.034445</td>\n",
       "    </tr>\n",
       "    <tr>\n",
       "      <td>LotDepth</td>\n",
       "      <td>-0.016218</td>\n",
       "      <td>0.565613</td>\n",
       "      <td>0.532468</td>\n",
       "      <td>-0.027964</td>\n",
       "      <td>-0.022537</td>\n",
       "      <td>0.057212</td>\n",
       "      <td>0.003995</td>\n",
       "      <td>0.601011</td>\n",
       "      <td>1.000000</td>\n",
       "      <td>0.204672</td>\n",
       "      <td>0.368911</td>\n",
       "      <td>0.101466</td>\n",
       "      <td>0.562351</td>\n",
       "      <td>0.038582</td>\n",
       "      <td>0.103598</td>\n",
       "      <td>0.038148</td>\n",
       "      <td>0.008610</td>\n",
       "      <td>0.023932</td>\n",
       "      <td>-0.173728</td>\n",
       "      <td>0.021961</td>\n",
       "    </tr>\n",
       "    <tr>\n",
       "      <td>NumBldgs</td>\n",
       "      <td>-0.002594</td>\n",
       "      <td>0.407043</td>\n",
       "      <td>0.045406</td>\n",
       "      <td>0.243716</td>\n",
       "      <td>0.007928</td>\n",
       "      <td>-0.056492</td>\n",
       "      <td>0.122408</td>\n",
       "      <td>0.421076</td>\n",
       "      <td>0.204672</td>\n",
       "      <td>1.000000</td>\n",
       "      <td>0.031754</td>\n",
       "      <td>0.100986</td>\n",
       "      <td>0.402923</td>\n",
       "      <td>-0.060183</td>\n",
       "      <td>0.036176</td>\n",
       "      <td>0.066478</td>\n",
       "      <td>0.011212</td>\n",
       "      <td>0.036603</td>\n",
       "      <td>-0.051630</td>\n",
       "      <td>0.020807</td>\n",
       "    </tr>\n",
       "    <tr>\n",
       "      <td>NumFloors</td>\n",
       "      <td>-0.013960</td>\n",
       "      <td>0.634931</td>\n",
       "      <td>0.259628</td>\n",
       "      <td>0.322825</td>\n",
       "      <td>-0.005474</td>\n",
       "      <td>0.262145</td>\n",
       "      <td>0.079608</td>\n",
       "      <td>0.384238</td>\n",
       "      <td>0.368911</td>\n",
       "      <td>0.031754</td>\n",
       "      <td>1.000000</td>\n",
       "      <td>0.025214</td>\n",
       "      <td>0.624911</td>\n",
       "      <td>0.214203</td>\n",
       "      <td>0.097734</td>\n",
       "      <td>0.177236</td>\n",
       "      <td>0.085418</td>\n",
       "      <td>-0.121914</td>\n",
       "      <td>-0.298263</td>\n",
       "      <td>0.066394</td>\n",
       "    </tr>\n",
       "    <tr>\n",
       "      <td>OfficeArea</td>\n",
       "      <td>-0.005033</td>\n",
       "      <td>0.131638</td>\n",
       "      <td>0.065057</td>\n",
       "      <td>-0.004585</td>\n",
       "      <td>0.008308</td>\n",
       "      <td>0.017539</td>\n",
       "      <td>0.008754</td>\n",
       "      <td>0.338650</td>\n",
       "      <td>0.101466</td>\n",
       "      <td>0.100986</td>\n",
       "      <td>0.025214</td>\n",
       "      <td>1.000000</td>\n",
       "      <td>0.047390</td>\n",
       "      <td>0.021595</td>\n",
       "      <td>0.043603</td>\n",
       "      <td>-0.005248</td>\n",
       "      <td>0.014978</td>\n",
       "      <td>-0.019904</td>\n",
       "      <td>-0.037824</td>\n",
       "      <td>0.010520</td>\n",
       "    </tr>\n",
       "    <tr>\n",
       "      <td>ResArea</td>\n",
       "      <td>-0.009869</td>\n",
       "      <td>0.986428</td>\n",
       "      <td>0.397719</td>\n",
       "      <td>0.417153</td>\n",
       "      <td>-0.022239</td>\n",
       "      <td>0.197443</td>\n",
       "      <td>0.131088</td>\n",
       "      <td>0.686655</td>\n",
       "      <td>0.562351</td>\n",
       "      <td>0.402923</td>\n",
       "      <td>0.624911</td>\n",
       "      <td>0.047390</td>\n",
       "      <td>1.000000</td>\n",
       "      <td>0.180635</td>\n",
       "      <td>0.144716</td>\n",
       "      <td>0.080736</td>\n",
       "      <td>0.088169</td>\n",
       "      <td>-0.050204</td>\n",
       "      <td>-0.217630</td>\n",
       "      <td>0.093224</td>\n",
       "    </tr>\n",
       "    <tr>\n",
       "      <td>ResidFAR</td>\n",
       "      <td>-0.005655</td>\n",
       "      <td>0.175338</td>\n",
       "      <td>0.219689</td>\n",
       "      <td>0.225061</td>\n",
       "      <td>0.004354</td>\n",
       "      <td>0.846442</td>\n",
       "      <td>-0.012018</td>\n",
       "      <td>0.032177</td>\n",
       "      <td>0.038582</td>\n",
       "      <td>-0.060183</td>\n",
       "      <td>0.214203</td>\n",
       "      <td>0.021595</td>\n",
       "      <td>0.180635</td>\n",
       "      <td>1.000000</td>\n",
       "      <td>0.078663</td>\n",
       "      <td>0.004775</td>\n",
       "      <td>0.066478</td>\n",
       "      <td>-0.448104</td>\n",
       "      <td>0.058460</td>\n",
       "      <td>0.065362</td>\n",
       "    </tr>\n",
       "    <tr>\n",
       "      <td>RetailArea</td>\n",
       "      <td>-0.006678</td>\n",
       "      <td>0.186937</td>\n",
       "      <td>0.150603</td>\n",
       "      <td>0.107389</td>\n",
       "      <td>0.085839</td>\n",
       "      <td>0.098455</td>\n",
       "      <td>0.279969</td>\n",
       "      <td>0.098702</td>\n",
       "      <td>0.103598</td>\n",
       "      <td>0.036176</td>\n",
       "      <td>0.097734</td>\n",
       "      <td>0.043603</td>\n",
       "      <td>0.144716</td>\n",
       "      <td>0.078663</td>\n",
       "      <td>1.000000</td>\n",
       "      <td>0.010642</td>\n",
       "      <td>0.014417</td>\n",
       "      <td>-0.062178</td>\n",
       "      <td>-0.050342</td>\n",
       "      <td>0.023231</td>\n",
       "    </tr>\n",
       "    <tr>\n",
       "      <td>YearBuilt</td>\n",
       "      <td>-0.005798</td>\n",
       "      <td>0.082384</td>\n",
       "      <td>0.109747</td>\n",
       "      <td>0.067334</td>\n",
       "      <td>-0.017201</td>\n",
       "      <td>0.003250</td>\n",
       "      <td>0.029162</td>\n",
       "      <td>0.021934</td>\n",
       "      <td>0.038148</td>\n",
       "      <td>0.066478</td>\n",
       "      <td>0.177236</td>\n",
       "      <td>-0.005248</td>\n",
       "      <td>0.080736</td>\n",
       "      <td>0.004775</td>\n",
       "      <td>0.010642</td>\n",
       "      <td>1.000000</td>\n",
       "      <td>-0.007580</td>\n",
       "      <td>0.044180</td>\n",
       "      <td>-0.036083</td>\n",
       "      <td>-0.014270</td>\n",
       "    </tr>\n",
       "    <tr>\n",
       "      <td>YearAlter1</td>\n",
       "      <td>-0.006287</td>\n",
       "      <td>0.085739</td>\n",
       "      <td>0.093119</td>\n",
       "      <td>0.076620</td>\n",
       "      <td>0.048140</td>\n",
       "      <td>0.092772</td>\n",
       "      <td>-0.045596</td>\n",
       "      <td>0.040321</td>\n",
       "      <td>0.008610</td>\n",
       "      <td>0.011212</td>\n",
       "      <td>0.085418</td>\n",
       "      <td>0.014978</td>\n",
       "      <td>0.088169</td>\n",
       "      <td>0.066478</td>\n",
       "      <td>0.014417</td>\n",
       "      <td>-0.007580</td>\n",
       "      <td>1.000000</td>\n",
       "      <td>-0.141659</td>\n",
       "      <td>0.156621</td>\n",
       "      <td>0.879988</td>\n",
       "    </tr>\n",
       "    <tr>\n",
       "      <td>ZipCode</td>\n",
       "      <td>-0.013278</td>\n",
       "      <td>-0.052596</td>\n",
       "      <td>-0.085157</td>\n",
       "      <td>-0.113729</td>\n",
       "      <td>-0.035584</td>\n",
       "      <td>-0.389442</td>\n",
       "      <td>0.010776</td>\n",
       "      <td>0.021403</td>\n",
       "      <td>0.023932</td>\n",
       "      <td>0.036603</td>\n",
       "      <td>-0.121914</td>\n",
       "      <td>-0.019904</td>\n",
       "      <td>-0.050204</td>\n",
       "      <td>-0.448104</td>\n",
       "      <td>-0.062178</td>\n",
       "      <td>0.044180</td>\n",
       "      <td>-0.141659</td>\n",
       "      <td>1.000000</td>\n",
       "      <td>-0.061928</td>\n",
       "      <td>-0.144139</td>\n",
       "    </tr>\n",
       "    <tr>\n",
       "      <td>BldAge</td>\n",
       "      <td>-0.016749</td>\n",
       "      <td>-0.233461</td>\n",
       "      <td>0.050450</td>\n",
       "      <td>0.004089</td>\n",
       "      <td>0.052092</td>\n",
       "      <td>0.069010</td>\n",
       "      <td>-0.220905</td>\n",
       "      <td>-0.190611</td>\n",
       "      <td>-0.173728</td>\n",
       "      <td>-0.051630</td>\n",
       "      <td>-0.298263</td>\n",
       "      <td>-0.037824</td>\n",
       "      <td>-0.217630</td>\n",
       "      <td>0.058460</td>\n",
       "      <td>-0.050342</td>\n",
       "      <td>-0.036083</td>\n",
       "      <td>0.156621</td>\n",
       "      <td>-0.061928</td>\n",
       "      <td>1.000000</td>\n",
       "      <td>0.171464</td>\n",
       "    </tr>\n",
       "    <tr>\n",
       "      <td>RenvAge</td>\n",
       "      <td>-0.007924</td>\n",
       "      <td>0.090100</td>\n",
       "      <td>0.115903</td>\n",
       "      <td>0.074820</td>\n",
       "      <td>0.044448</td>\n",
       "      <td>0.089054</td>\n",
       "      <td>-0.044098</td>\n",
       "      <td>0.034445</td>\n",
       "      <td>0.021961</td>\n",
       "      <td>0.020807</td>\n",
       "      <td>0.066394</td>\n",
       "      <td>0.010520</td>\n",
       "      <td>0.093224</td>\n",
       "      <td>0.065362</td>\n",
       "      <td>0.023231</td>\n",
       "      <td>-0.014270</td>\n",
       "      <td>0.879988</td>\n",
       "      <td>-0.144139</td>\n",
       "      <td>0.171464</td>\n",
       "      <td>1.000000</td>\n",
       "    </tr>\n",
       "  </tbody>\n",
       "</table>\n",
       "</div>"
      ],
      "text/plain": [
       "                Complaint Type  BldgArea  BldgDepth  BuiltFAR   CommFAR  \\\n",
       "Complaint Type        1.000000 -0.009860  -0.023631 -0.012431  0.004921   \n",
       "BldgArea             -0.009860  1.000000   0.398412  0.407002 -0.014423   \n",
       "BldgDepth            -0.023631  0.398412   1.000000  0.157845 -0.024740   \n",
       "BuiltFAR             -0.012431  0.407002   0.157845  1.000000  0.002353   \n",
       "CommFAR               0.004921 -0.014423  -0.024740  0.002353  1.000000   \n",
       "FacilFAR             -0.002066  0.193757   0.218130  0.233140  0.120859   \n",
       "Lot                   0.007687  0.150495  -0.059454  0.112703  0.050419   \n",
       "LotArea              -0.007166  0.715538   0.276162 -0.009456 -0.015441   \n",
       "LotDepth             -0.016218  0.565613   0.532468 -0.027964 -0.022537   \n",
       "NumBldgs             -0.002594  0.407043   0.045406  0.243716  0.007928   \n",
       "NumFloors            -0.013960  0.634931   0.259628  0.322825 -0.005474   \n",
       "OfficeArea           -0.005033  0.131638   0.065057 -0.004585  0.008308   \n",
       "ResArea              -0.009869  0.986428   0.397719  0.417153 -0.022239   \n",
       "ResidFAR             -0.005655  0.175338   0.219689  0.225061  0.004354   \n",
       "RetailArea           -0.006678  0.186937   0.150603  0.107389  0.085839   \n",
       "YearBuilt            -0.005798  0.082384   0.109747  0.067334 -0.017201   \n",
       "YearAlter1           -0.006287  0.085739   0.093119  0.076620  0.048140   \n",
       "ZipCode              -0.013278 -0.052596  -0.085157 -0.113729 -0.035584   \n",
       "BldAge               -0.016749 -0.233461   0.050450  0.004089  0.052092   \n",
       "RenvAge              -0.007924  0.090100   0.115903  0.074820  0.044448   \n",
       "\n",
       "                FacilFAR       Lot   LotArea  LotDepth  NumBldgs  NumFloors  \\\n",
       "Complaint Type -0.002066  0.007687 -0.007166 -0.016218 -0.002594  -0.013960   \n",
       "BldgArea        0.193757  0.150495  0.715538  0.565613  0.407043   0.634931   \n",
       "BldgDepth       0.218130 -0.059454  0.276162  0.532468  0.045406   0.259628   \n",
       "BuiltFAR        0.233140  0.112703 -0.009456 -0.027964  0.243716   0.322825   \n",
       "CommFAR         0.120859  0.050419 -0.015441 -0.022537  0.007928  -0.005474   \n",
       "FacilFAR        1.000000  0.021211  0.051074  0.057212 -0.056492   0.262145   \n",
       "Lot             0.021211  1.000000  0.097245  0.003995  0.122408   0.079608   \n",
       "LotArea         0.051074  0.097245  1.000000  0.601011  0.421076   0.384238   \n",
       "LotDepth        0.057212  0.003995  0.601011  1.000000  0.204672   0.368911   \n",
       "NumBldgs       -0.056492  0.122408  0.421076  0.204672  1.000000   0.031754   \n",
       "NumFloors       0.262145  0.079608  0.384238  0.368911  0.031754   1.000000   \n",
       "OfficeArea      0.017539  0.008754  0.338650  0.101466  0.100986   0.025214   \n",
       "ResArea         0.197443  0.131088  0.686655  0.562351  0.402923   0.624911   \n",
       "ResidFAR        0.846442 -0.012018  0.032177  0.038582 -0.060183   0.214203   \n",
       "RetailArea      0.098455  0.279969  0.098702  0.103598  0.036176   0.097734   \n",
       "YearBuilt       0.003250  0.029162  0.021934  0.038148  0.066478   0.177236   \n",
       "YearAlter1      0.092772 -0.045596  0.040321  0.008610  0.011212   0.085418   \n",
       "ZipCode        -0.389442  0.010776  0.021403  0.023932  0.036603  -0.121914   \n",
       "BldAge          0.069010 -0.220905 -0.190611 -0.173728 -0.051630  -0.298263   \n",
       "RenvAge         0.089054 -0.044098  0.034445  0.021961  0.020807   0.066394   \n",
       "\n",
       "                OfficeArea   ResArea  ResidFAR  RetailArea  YearBuilt  \\\n",
       "Complaint Type   -0.005033 -0.009869 -0.005655   -0.006678  -0.005798   \n",
       "BldgArea          0.131638  0.986428  0.175338    0.186937   0.082384   \n",
       "BldgDepth         0.065057  0.397719  0.219689    0.150603   0.109747   \n",
       "BuiltFAR         -0.004585  0.417153  0.225061    0.107389   0.067334   \n",
       "CommFAR           0.008308 -0.022239  0.004354    0.085839  -0.017201   \n",
       "FacilFAR          0.017539  0.197443  0.846442    0.098455   0.003250   \n",
       "Lot               0.008754  0.131088 -0.012018    0.279969   0.029162   \n",
       "LotArea           0.338650  0.686655  0.032177    0.098702   0.021934   \n",
       "LotDepth          0.101466  0.562351  0.038582    0.103598   0.038148   \n",
       "NumBldgs          0.100986  0.402923 -0.060183    0.036176   0.066478   \n",
       "NumFloors         0.025214  0.624911  0.214203    0.097734   0.177236   \n",
       "OfficeArea        1.000000  0.047390  0.021595    0.043603  -0.005248   \n",
       "ResArea           0.047390  1.000000  0.180635    0.144716   0.080736   \n",
       "ResidFAR          0.021595  0.180635  1.000000    0.078663   0.004775   \n",
       "RetailArea        0.043603  0.144716  0.078663    1.000000   0.010642   \n",
       "YearBuilt        -0.005248  0.080736  0.004775    0.010642   1.000000   \n",
       "YearAlter1        0.014978  0.088169  0.066478    0.014417  -0.007580   \n",
       "ZipCode          -0.019904 -0.050204 -0.448104   -0.062178   0.044180   \n",
       "BldAge           -0.037824 -0.217630  0.058460   -0.050342  -0.036083   \n",
       "RenvAge           0.010520  0.093224  0.065362    0.023231  -0.014270   \n",
       "\n",
       "                YearAlter1   ZipCode    BldAge   RenvAge  \n",
       "Complaint Type   -0.006287 -0.013278 -0.016749 -0.007924  \n",
       "BldgArea          0.085739 -0.052596 -0.233461  0.090100  \n",
       "BldgDepth         0.093119 -0.085157  0.050450  0.115903  \n",
       "BuiltFAR          0.076620 -0.113729  0.004089  0.074820  \n",
       "CommFAR           0.048140 -0.035584  0.052092  0.044448  \n",
       "FacilFAR          0.092772 -0.389442  0.069010  0.089054  \n",
       "Lot              -0.045596  0.010776 -0.220905 -0.044098  \n",
       "LotArea           0.040321  0.021403 -0.190611  0.034445  \n",
       "LotDepth          0.008610  0.023932 -0.173728  0.021961  \n",
       "NumBldgs          0.011212  0.036603 -0.051630  0.020807  \n",
       "NumFloors         0.085418 -0.121914 -0.298263  0.066394  \n",
       "OfficeArea        0.014978 -0.019904 -0.037824  0.010520  \n",
       "ResArea           0.088169 -0.050204 -0.217630  0.093224  \n",
       "ResidFAR          0.066478 -0.448104  0.058460  0.065362  \n",
       "RetailArea        0.014417 -0.062178 -0.050342  0.023231  \n",
       "YearBuilt        -0.007580  0.044180 -0.036083 -0.014270  \n",
       "YearAlter1        1.000000 -0.141659  0.156621  0.879988  \n",
       "ZipCode          -0.141659  1.000000 -0.061928 -0.144139  \n",
       "BldAge            0.156621 -0.061928  1.000000  0.171464  \n",
       "RenvAge           0.879988 -0.144139  0.171464  1.000000  "
      ]
     },
     "execution_count": 5,
     "metadata": {},
     "output_type": "execute_result"
    }
   ],
   "source": [
    "print(df.columns)\n",
    "#df.describe(include=['object'])\n",
    "df.corr()"
   ]
  },
  {
   "cell_type": "code",
   "execution_count": 4,
   "metadata": {},
   "outputs": [
    {
     "data": {
      "text/plain": [
       "1    309832\n",
       "2    168022\n",
       "3    146425\n",
       "4    102982\n",
       "0     95617\n",
       "Name: Complaint Type, dtype: int64"
      ]
     },
     "execution_count": 4,
     "metadata": {},
     "output_type": "execute_result"
    }
   ],
   "source": [
    "df['Complaint Type'].value_counts()"
   ]
  },
  {
   "cell_type": "markdown",
   "metadata": {},
   "source": [
    "<p>\n",
    "\n",
    "select all features for the modeling. Also check the target data type (should be integer, as it is a requirement  by the skitlearn algorithm)</p>\n",
    "<b>FEATURE SETS:BldgArea\tBldgDepth\tBuiltFAR\tCommFAR\tFacilFAR\tLotArea\tLotDepth\tNumBldgs\tNumFloors\tOfficeArea\tResArea\tResidFAR\tRetailArea\tBldAge and\tRenvAge</b>\n"
   ]
  },
  {
   "cell_type": "code",
   "execution_count": 5,
   "metadata": {},
   "outputs": [
    {
     "name": "stdout",
     "output_type": "stream",
     "text": [
      "   BldgDepth  BuiltFAR  LotDepth  NumFloors   ResArea    BldAge\n",
      "0   0.092308  0.017513    0.0165   0.386364  0.009467  0.208333\n",
      "1   0.092308  0.017513    0.0165   0.386364  0.009467  0.208333\n",
      "2   0.092308  0.017513    0.0165   0.386364  0.009467  0.208333\n",
      "3   0.092308  0.017513    0.0165   0.386364  0.009467  0.208333\n",
      "4   0.092308  0.017513    0.0165   0.386364  0.009467  0.208333\n",
      "0     1\n",
      "1     4\n",
      "2     1\n",
      "3     1\n",
      "4     0\n",
      "5     3\n",
      "6     3\n",
      "7     2\n",
      "8     3\n",
      "9     3\n",
      "10    0\n",
      "11    3\n",
      "12    0\n",
      "13    3\n",
      "14    0\n",
      "15    0\n",
      "16    0\n",
      "17    2\n",
      "18    2\n",
      "19    3\n",
      "20    1\n",
      "21    4\n",
      "22    1\n",
      "23    4\n",
      "24    4\n",
      "Name: Complaint Type, dtype: int64\n",
      "Feature Set: (822878, 6)\n",
      "Label set: (822878,)\n"
     ]
    }
   ],
   "source": [
    "feature_cols = ['BldgDepth','BuiltFAR', 'LotDepth', 'NumFloors', 'ResArea', 'BldAge']\n",
    "X=df[feature_cols]\n",
    "y=df['Complaint Type']\n",
    "print(X[0:5])\n",
    "print(y [0:25])\n",
    "print ('Feature Set:', X.shape)\n",
    "print ('Label set:', y.shape)"
   ]
  },
  {
   "cell_type": "markdown",
   "metadata": {},
   "source": [
    "## Train/Test split"
   ]
  },
  {
   "cell_type": "code",
   "execution_count": 7,
   "metadata": {},
   "outputs": [
    {
     "name": "stdout",
     "output_type": "stream",
     "text": [
      "Train set: (814649, 6) (814649,)\n",
      "Test set: (8229, 6) (8229,)\n",
      "(822878,)\n"
     ]
    }
   ],
   "source": [
    "import sklearn\n",
    "from sklearn.model_selection import train_test_split\n",
    "#print('sklearn: {}'.format(sklearn.__version__))\n",
    "# split X and y into training and testing sets\n",
    "#X_train, X_test, y_train, y_test = train_test_split(X, y, random_state=0)\n",
    "X_train, X_test, y_train, y_test = train_test_split( X, y, test_size=0.01, random_state=7)\n",
    "print ('Train set:', X_train.shape,  y_train.shape)\n",
    "print ('Test set:', X_test.shape,  y_test.shape)\n",
    "print(y.shape)"
   ]
  },
  {
   "cell_type": "markdown",
   "metadata": {},
   "source": [
    "<h2 id=\"pattern_visualization\"> XGBoost Multiclass classifier</h2>\n",
    "\n",
    "Decision tree classifier is a systematic approach for multiclass classification. It poses a set of questions to the dataset (related to its attributes/features). The decision tree classification algorithm can be visualized on a binary tree. On the root and each of the internal nodes, a question is posed and the data on that node is further split into separate records that have different characteristics. The leaves of the tree refer to the classes in which the dataset is split. In the following code snippet, I train a decision tree classifier in scikit-learn.Although XGBoost is among many solutions in machine learning problems, one could find it less trivial to implement its booster for multiclass or multilabel classification as it’s not directly implemented to the Python API XGBClassifier.\n",
    "\n",
    "<b>To use XGBoost main module for a multiclass classification problem, it is needed to change the value of two parameters: objective and num_class.</b>\n"
   ]
  },
  {
   "cell_type": "code",
   "execution_count": 16,
   "metadata": {},
   "outputs": [],
   "source": [
    "import xgboost as xgb\n",
    "#Split data for the train and test sets and get our dmatrices.\n",
    "#DMatrix, it is a data interface commonly used as input in XGBoost models, \n",
    "#it works well with Pandas dataframes, Numpy arrays, SciPy arrays, CSV files, etc.\n",
    "\n",
    "dtrain = xgb.DMatrix(data=X_train, label=y_train)\n",
    "dtest = xgb.DMatrix(data=X_test)\n",
    "\n",
    "# from xgboost.sklearn import  XGBClassifier\n",
    "# from sklearn.preprocessing import LabelEncoder\n",
    "# from sklearn import cross_validation, metrics\n",
    "# from sklearn.grid_search import GridSearchCV\n",
    "# n_classes_ = len(np.unique(y_train))\n",
    "# xgb_model = xgb.XGBClassifier(objective='multi:softmax')\n",
    "# xgb_params = [{'num_class': n_classes_}]\n",
    "# xgb_params  = [\n",
    "#     {    \n",
    "#     \"n_estimators\": range(50, 501, 50),\n",
    "#     }\n",
    "# ]\n",
    "# #cv\n",
    "# cv = cross_validation.StratifiedShuffleSplit(y_train, n_iter=5, test_size=0.3, random_state=42)\n",
    "\n",
    "# xgb_grid = grid_search.GridSearchCV(xgb_model, xgb_params,cv=cv, n_jobs=-1, verbose=3)\n",
    "# xgb_grid.fit(X_train, y_train)"
   ]
  },
  {
   "cell_type": "markdown",
   "metadata": {},
   "source": [
    "Time to set our XGBoost parameters to perform multiclass predictions!"
   ]
  },
  {
   "cell_type": "code",
   "execution_count": 17,
   "metadata": {},
   "outputs": [],
   "source": [
    "# xgb_params = [{'num_class': n_classes_}]\n",
    "# xgb_params  = [\n",
    "#     {    \n",
    "#     \"n_estimators\": range(50, 501, 50),\n",
    "#     }\n",
    "# ]\n",
    "\n",
    "params = {\n",
    "    'max_depth': 20,\n",
    "    'objective': 'multi:softmax',  # error evaluation for multiclass training\n",
    "    'num_class': 5,\n",
    "    'n_gpus': 0\n",
    "}"
   ]
  },
  {
   "cell_type": "markdown",
   "metadata": {},
   "source": [
    "<b>Now it’s time to train our model and see how it goes.</b>"
   ]
  },
  {
   "cell_type": "code",
   "execution_count": 19,
   "metadata": {},
   "outputs": [
    {
     "name": "stdout",
     "output_type": "stream",
     "text": [
      "[1. 0. 1. ... 1. 1. 1.]\n"
     ]
    }
   ],
   "source": [
    "xgbst = xgb.train(params, dtrain)\n",
    "y_pred_xgbst = xgbst.predict(dtest)\n",
    "print(y_pred_xgbst)"
   ]
  },
  {
   "cell_type": "code",
   "execution_count": 20,
   "metadata": {},
   "outputs": [
    {
     "name": "stdout",
     "output_type": "stream",
     "text": [
      "              precision    recall  f1-score   support\n",
      "\n",
      "           0       0.39      0.18      0.25       938\n",
      "           1       0.51      0.80      0.62      3133\n",
      "           2       0.48      0.40      0.43      1701\n",
      "           3       0.35      0.29      0.32      1445\n",
      "           4       0.40      0.13      0.20      1012\n",
      "\n",
      "    accuracy                           0.47      8229\n",
      "   macro avg       0.43      0.36      0.36      8229\n",
      "weighted avg       0.45      0.47      0.44      8229\n",
      "\n"
     ]
    }
   ],
   "source": [
    "from sklearn.metrics import classification_report\n",
    "print(classification_report(y_test, y_pred_xgbst))"
   ]
  },
  {
   "cell_type": "code",
   "execution_count": 22,
   "metadata": {},
   "outputs": [
    {
     "name": "stdout",
     "output_type": "stream",
     "text": [
      "0.4722323490096002\n"
     ]
    }
   ],
   "source": [
    "from sklearn import metrics\n",
    "print(metrics.accuracy_score(y_test, y_pred_xgbst))"
   ]
  },
  {
   "cell_type": "markdown",
   "metadata": {},
   "source": [
    "<h2 id=\"pattern_visualization\"> Confusion Matrix for XGBoost classifier</h2>"
   ]
  },
  {
   "cell_type": "code",
   "execution_count": 24,
   "metadata": {},
   "outputs": [
    {
     "name": "stdout",
     "output_type": "stream",
     "text": [
      "[[ 171  366  157  214   30]\n",
      " [  62 2492  268  219   92]\n",
      " [  73  788  673  144   23]\n",
      " [ 105  658  207  417   58]\n",
      " [  26  560  105  188  133]]\n"
     ]
    },
    {
     "data": {
      "image/png": "[encoded data removed]",
      "text/plain": [
       "<Figure size 432x288 with 2 Axes>"
      ]
     },
     "metadata": {},
     "output_type": "display_data"
    }
   ],
   "source": [
    "# creating a confusion matrix \n",
    "cm_xgboost = confusion_matrix(y_test, y_pred_xgbst)\n",
    "print(cm_xgboost)\n",
    "sn.set(font_scale=2.0) # for label size\n",
    "akws = {\"size\": 15,\"ha\": 'center',\"va\": 'center',\"color\":'red'}\n",
    "# font size, Horizontal position ('center', 'right', 'left'), \n",
    "#Vertical position('top', 'bottom', 'center', 'baseline', 'center_baseline')\n",
    "ax=sn.heatmap(cm_xgboost, linewidths=1.0, linecolor=\"red\",cmap=\"YlGnBu\",center=0, annot=True,fmt=\"d\", annot_kws=akws) \n",
    "plt.ylabel('Actual label', fontsize=15,fontweight=\"bold\",color=\"red\")\n",
    "plt.xlabel('Predicted label', fontsize=15, fontweight=\"bold\",color=\"red\")\n",
    "plt.show()"
   ]
  },
  {
   "cell_type": "markdown",
   "metadata": {},
   "source": [
    "<h2 id=\"pattern_visualization\"> Decision tree Multiclass classifier</h2>\n",
    "\n",
    "Decision tree classifier is a systematic approach for multiclass classification. It poses a set of questions to the dataset (related to its attributes/features). The decision tree classification algorithm can be visualized on a binary tree. On the root and each of the internal nodes, a question is posed and the data on that node is further split into separate records that have different characteristics. The leaves of the tree refer to the classes in which the dataset is split. In the following code snippet, I train a decision tree classifier in scikit-learn."
   ]
  },
  {
   "cell_type": "code",
   "execution_count": 33,
   "metadata": {},
   "outputs": [],
   "source": [
    "from sklearn.tree import DecisionTreeClassifier \n",
    "# training a DescisionTreeClassifier \n",
    "dtree_model = DecisionTreeClassifier(max_depth = 2).fit(X_train, y_train) \n",
    "dtree_predictions = dtree_model.predict(X_test) \n",
    " \n",
    "# creating a confusion matrix \n",
    "cm_dtree = confusion_matrix(y_test, dtree_predictions)"
   ]
  },
  {
   "cell_type": "code",
   "execution_count": 34,
   "metadata": {},
   "outputs": [
    {
     "data": {
      "image/png": "[encoded data removed]",
      "text/plain": [
       "<Figure size 432x288 with 2 Axes>"
      ]
     },
     "metadata": {},
     "output_type": "display_data"
    }
   ],
   "source": [
    "sn.set(font_scale=2.0) # for label size\n",
    "akws = {\"size\": 15,\"ha\": 'center',\"va\": 'center',\"color\":'red'}\n",
    "# font size, Horizontal position ('center', 'right', 'left'), \n",
    "#Vertical position('top', 'bottom', 'center', 'baseline', 'center_baseline')\n",
    "ax=sn.heatmap(cm_dtree, linewidths=1.0, linecolor=\"red\",cmap=\"YlGnBu\",center=0, annot=True,fmt=\"d\", annot_kws=akws) \n",
    "plt.ylabel('Actual label', fontsize=15,fontweight=\"bold\",color=\"red\")\n",
    "plt.xlabel('Predicted label', fontsize=15, fontweight=\"bold\",color=\"red\")\n",
    "plt.show()"
   ]
  },
  {
   "cell_type": "code",
   "execution_count": 35,
   "metadata": {},
   "outputs": [
    {
     "name": "stdout",
     "output_type": "stream",
     "text": [
      "              precision    recall  f1-score   support\n",
      "\n",
      "           0       0.00      0.00      0.00      9557\n",
      "           1       0.38      1.00      0.55     31075\n",
      "           2       0.00      0.00      0.00     16787\n",
      "           3       0.00      0.00      0.00     14655\n",
      "           4       0.00      0.00      0.00     10214\n",
      "\n",
      "    accuracy                           0.38     82288\n",
      "   macro avg       0.08      0.20      0.11     82288\n",
      "weighted avg       0.14      0.38      0.21     82288\n",
      "\n"
     ]
    },
    {
     "name": "stderr",
     "output_type": "stream",
     "text": [
      "C:\\Users\\TOPU\\Anaconda3\\lib\\site-packages\\sklearn\\metrics\\classification.py:1437: UndefinedMetricWarning: Precision and F-score are ill-defined and being set to 0.0 in labels with no predicted samples.\n",
      "  'precision', 'predicted', average, warn_for)\n"
     ]
    }
   ],
   "source": [
    "print(classification_report(y_test, dtree_predictions))"
   ]
  },
  {
   "cell_type": "markdown",
   "metadata": {},
   "source": [
    "<h2 id=\"pattern_visualization\"> SVM (Support vector machine) Multiclass classifier</h2>\n",
    "SVM (Support vector machine) is an efficient classification method when the feature vector is high dimensional. In sci-kit learn, we can specify the kernel function (here, linear). To know more about kernel functions and SVM refer – Kernel function | sci-kit learn and SVM."
   ]
  },
  {
   "cell_type": "code",
   "execution_count": null,
   "metadata": {},
   "outputs": [],
   "source": [
    "# training a linear SVM classifier \n",
    "from sklearn.svm import SVC \n",
    "#svm_model_linear = SVC(kernel = 'rbf', C = 1,gamma=0.01).fit(X_train, y_train)\n",
    "svm_model_linear = SVC(kernel = 'linear', C = 1,gamma='auto').fit(X_train, y_train)\n",
    "svm_predictions = svm_model_linear.predict(X_test) \n",
    "  \n",
    "# model accuracy for X_test   \n",
    "accuracy = svm_model_linear.score(X_test, y_test) \n",
    "print(accuracy)  \n",
    "# creating a confusion matrix \n",
    "cm_svm = confusion_matrix(y_test, svm_predictions)"
   ]
  },
  {
   "cell_type": "code",
   "execution_count": null,
   "metadata": {},
   "outputs": [],
   "source": [
    "print(classification_report(y_test, svm_predictions))"
   ]
  },
  {
   "cell_type": "code",
   "execution_count": null,
   "metadata": {},
   "outputs": [],
   "source": [
    "sn.set(font_scale=2.0) # for label size\n",
    "akws = {\"size\": 15,\"ha\": 'center',\"va\": 'center',\"color\":'red'}\n",
    "# font size, Horizontal position ('center', 'right', 'left'), \n",
    "#Vertical position('top', 'bottom', 'center', 'baseline', 'center_baseline')\n",
    "ax=sn.heatmap(cm_svm, linewidths=2.0, linecolor=\"red\",cmap=\"YlGnBu\",center=0, annot=True,fmt=\"d\", annot_kws=akws) \n",
    "plt.ylabel('Actual label', fontsize=15,fontweight=\"bold\",color=\"red\")\n",
    "plt.xlabel('Predicted label', fontsize=15, fontweight=\"bold\",color=\"red\")\n",
    "plt.show()"
   ]
  },
  {
   "cell_type": "markdown",
   "metadata": {},
   "source": [
    "<h2 id=\"pattern_visualization\"> KNN (k-nearest neighbours) classifier</h2>\n",
    "KNN or k-nearest neighbours is the simplest classification algorithm. This classification algorithm does not depend on the structure of the data. Whenever a new example is encountered, its k nearest neighbours from the training data are examined. Distance between two examples can be the euclidean distance between their feature vectors. The majority class among the k nearest neighbours is taken to be the class for the encountered example."
   ]
  },
  {
   "cell_type": "code",
   "execution_count": 8,
   "metadata": {},
   "outputs": [
    {
     "name": "stdout",
     "output_type": "stream",
     "text": [
      "0.42374529104386927\n",
      "[[ 268  284  171  160   55]\n",
      " [ 232 2174  333  240  154]\n",
      " [ 204  676  612  139   70]\n",
      " [ 276  573  204  288  104]\n",
      " [ 139  484   98  146  145]]\n"
     ]
    }
   ],
   "source": [
    "from sklearn.neighbors import KNeighborsClassifier \n",
    "knn = KNeighborsClassifier(n_neighbors = 7).fit(X_train, y_train) \n",
    "  \n",
    "# accuracy on X_test \n",
    "accuracy = knn.score(X_test, y_test) \n",
    "print(accuracy) \n",
    "  \n",
    "# creating a confusion matrix \n",
    "knn_predictions = knn.predict(X_test)  \n",
    "cm_knn = confusion_matrix(y_test, knn_predictions) \n",
    "print(cm_knn)"
   ]
  },
  {
   "cell_type": "code",
   "execution_count": 11,
   "metadata": {},
   "outputs": [
    {
     "name": "stdout",
     "output_type": "stream",
     "text": [
      "              precision    recall  f1-score   support\n",
      "\n",
      "           0       0.24      0.29      0.26       938\n",
      "           1       0.52      0.69      0.59      3133\n",
      "           2       0.43      0.36      0.39      1701\n",
      "           3       0.30      0.20      0.24      1445\n",
      "           4       0.27      0.14      0.19      1012\n",
      "\n",
      "    accuracy                           0.42      8229\n",
      "   macro avg       0.35      0.34      0.33      8229\n",
      "weighted avg       0.40      0.42      0.40      8229\n",
      "\n"
     ]
    }
   ],
   "source": [
    "print(classification_report(y_test, knn_predictions))"
   ]
  },
  {
   "cell_type": "code",
   "execution_count": 12,
   "metadata": {},
   "outputs": [
    {
     "data": {
      "image/png": "[encoded data removed]",
      "text/plain": [
       "<Figure size 432x288 with 2 Axes>"
      ]
     },
     "metadata": {},
     "output_type": "display_data"
    }
   ],
   "source": [
    "sn.set(font_scale=2.0) # for label size\n",
    "akws = {\"size\": 15,\"ha\": 'center',\"va\": 'center',\"color\":'red'}\n",
    "# font size, Horizontal position ('center', 'right', 'left'), \n",
    "#Vertical position('top', 'bottom', 'center', 'baseline', 'center_baseline')\n",
    "ax=sn.heatmap(cm_knn, linewidths=1.0, linecolor=\"red\",cmap=\"YlGnBu\",center=0, annot=True,fmt=\"d\", annot_kws=akws) \n",
    "plt.ylabel('Actual label', fontsize=15,fontweight=\"bold\",color=\"red\")\n",
    "plt.xlabel('Predicted label', fontsize=15, fontweight=\"bold\",color=\"red\")\n",
    "plt.show()"
   ]
  },
  {
   "cell_type": "markdown",
   "metadata": {},
   "source": [
    "<h2 id=\"pattern_visualization\"> Naive Bayes classifier</h2>\n",
    "Naive Bayes classification method is based on Bayes’ theorem. It is termed as ‘Naive’ because it assumes independence between every pair of feature in the data. "
   ]
  },
  {
   "cell_type": "code",
   "execution_count": 13,
   "metadata": {},
   "outputs": [
    {
     "name": "stdout",
     "output_type": "stream",
     "text": [
      "0.2505772268805444\n"
     ]
    }
   ],
   "source": [
    "# training a Naive Bayes classifier \n",
    "from sklearn.naive_bayes import GaussianNB \n",
    "gnb = GaussianNB().fit(X_train, y_train) \n",
    "gnb_predictions = gnb.predict(X_test) \n",
    "  \n",
    "# accuracy on X_test \n",
    "accuracy = gnb.score(X_test, y_test) \n",
    "print(accuracy) \n",
    "  \n",
    "# creating a confusion matrix \n",
    "cm_nb = confusion_matrix(y_test, gnb_predictions) "
   ]
  },
  {
   "cell_type": "code",
   "execution_count": 15,
   "metadata": {},
   "outputs": [
    {
     "name": "stdout",
     "output_type": "stream",
     "text": [
      "              precision    recall  f1-score   support\n",
      "\n",
      "           0       0.12      0.26      0.17       938\n",
      "           1       0.37      0.38      0.38      3133\n",
      "           2       0.21      0.34      0.26      1701\n",
      "           3       0.00      0.00      0.00      1445\n",
      "           4       0.16      0.03      0.05      1012\n",
      "\n",
      "    accuracy                           0.25      8229\n",
      "   macro avg       0.17      0.20      0.17      8229\n",
      "weighted avg       0.22      0.25      0.22      8229\n",
      "\n"
     ]
    }
   ],
   "source": [
    "print(classification_report(y_test, gnb_predictions))"
   ]
  },
  {
   "cell_type": "code",
   "execution_count": 14,
   "metadata": {},
   "outputs": [
    {
     "data": {
      "image/png": "[encoded data removed]",
      "text/plain": [
       "<Figure size 432x288 with 2 Axes>"
      ]
     },
     "metadata": {},
     "output_type": "display_data"
    }
   ],
   "source": [
    "sn.set(font_scale=2.0) # for label size\n",
    "akws = {\"size\": 15,\"ha\": 'center',\"va\": 'center',\"color\":'red'}\n",
    "# font size, Horizontal position ('center', 'right', 'left'), \n",
    "#Vertical position('top', 'bottom', 'center', 'baseline', 'center_baseline')\n",
    "ax=sn.heatmap(cm_nb, linewidths=1.0, linecolor=\"red\",cmap=\"YlGnBu\",center=0, annot=True,fmt=\"d\", annot_kws=akws) \n",
    "plt.ylabel('Actual label', fontsize=15,fontweight=\"bold\",color=\"red\")\n",
    "plt.xlabel('Predicted label', fontsize=15, fontweight=\"bold\",color=\"red\")\n",
    "plt.show()"
   ]
  },
  {
   "cell_type": "markdown",
   "metadata": {},
   "source": [
    "<h2 id=\"pattern_visualization\"> One-Vs-Rest for Multi-Class Classification</h2>"
   ]
  },
  {
   "cell_type": "code",
   "execution_count": null,
   "metadata": {},
   "outputs": [],
   "source": []
  },
  {
   "cell_type": "markdown",
   "metadata": {},
   "source": [
    "<p>This is 5 class classifucation problem can be solved using the LogisticRegression algorithm. The strategy for handling multi-class classification can be set via the “multi_class” argument and can be set to “ovr” for the one-vs-rest strategy.</p>"
   ]
  },
  {
   "cell_type": "code",
   "execution_count": 26,
   "metadata": {
    "jupyter": {
     "outputs_hidden": false
    }
   },
   "outputs": [],
   "source": [
    "# logistic regression for multi-class classification using built-in one-vs-rest\n",
    "from sklearn.datasets import make_classification\n",
    "from sklearn.linear_model import LogisticRegression\n",
    "# define dataset\n",
    "#X, y = make_classification(n_samples=822878, n_features=10, n_informative=5, n_redundant=5, n_classes=5, random_state=1)\n",
    "#X, y = make_classification(n_samples=17000, n_features=10, n_informative=5, n_redundant=5, n_classes=5, random_state=1)\n",
    "# define model\n",
    "LR_model = LogisticRegression(multi_class='ovr',solver='lbfgs')\n",
    "# fit model\n",
    "LR_model.fit(X_train, y_train)\n",
    "# make predictions\n",
    "y_Predict_LGR = LR_model.predict(X_test)"
   ]
  },
  {
   "cell_type": "code",
   "execution_count": 27,
   "metadata": {},
   "outputs": [
    {
     "name": "stdout",
     "output_type": "stream",
     "text": [
      "[1 1 1 ... 1 1 1]\n"
     ]
    }
   ],
   "source": [
    "print(y_Predict_LGR)"
   ]
  },
  {
   "cell_type": "markdown",
   "metadata": {},
   "source": [
    "Classification Accuracy: Percentage of correct predication"
   ]
  },
  {
   "cell_type": "code",
   "execution_count": 29,
   "metadata": {},
   "outputs": [
    {
     "name": "stdout",
     "output_type": "stream",
     "text": [
      "0.38060517681370765\n"
     ]
    }
   ],
   "source": [
    "from sklearn import metrics\n",
    "print(metrics.accuracy_score(y_test, y_Predict_LGR))"
   ]
  },
  {
   "cell_type": "code",
   "execution_count": 30,
   "metadata": {},
   "outputs": [
    {
     "name": "stdout",
     "output_type": "stream",
     "text": [
      "True: 0     1\n",
      "1     4\n",
      "2     1\n",
      "3     1\n",
      "4     0\n",
      "5     3\n",
      "6     3\n",
      "7     2\n",
      "8     3\n",
      "9     3\n",
      "10    0\n",
      "11    3\n",
      "12    0\n",
      "13    3\n",
      "14    0\n",
      "15    0\n",
      "16    0\n",
      "17    2\n",
      "18    2\n",
      "19    3\n",
      "20    1\n",
      "21    4\n",
      "22    1\n",
      "23    4\n",
      "24    4\n",
      "Name: Complaint Type, dtype: int64\n",
      "Pred: [1 1 1 1 1 1 1 1 1 1 1 1 1 1 1 1 1 1 1 1 1 1 1 1 1]\n"
     ]
    }
   ],
   "source": [
    "# print the first 25 true and predicted responses\n",
    "print('True:', y[0:25])\n",
    "print('Pred:', y_Predict_LGR[0:25])"
   ]
  },
  {
   "cell_type": "code",
   "execution_count": 31,
   "metadata": {
    "jupyter": {
     "outputs_hidden": false
    }
   },
   "outputs": [
    {
     "data": {
      "image/png": "[encoded data removed]",
      "text/plain": [
       "<Figure size 432x288 with 2 Axes>"
      ]
     },
     "metadata": {},
     "output_type": "display_data"
    }
   ],
   "source": [
    "from sklearn.metrics import confusion_matrix\n",
    "import matplotlib.pyplot as plt\n",
    "import seaborn as sn\n",
    "%matplotlib inline \n",
    "\n",
    "# Compute confusion matrix\n",
    "cnm_logistic = confusion_matrix(y_test, y_Predict_LGR, labels=[0,1,2,3,4])\n",
    "\n",
    "sn.set(font_scale=2.0) # for label size\n",
    "akws = {\"size\": 15,\"ha\": 'center',\"va\": 'center',\"color\":'red'}\n",
    "# font size, Horizontal position ('center', 'right', 'left'), \n",
    "#Vertical position('top', 'bottom', 'center', 'baseline', 'center_baseline')\n",
    "ax=sn.heatmap(cnm_logistic, linewidths=1.0, linecolor=\"red\",cmap=\"YlGnBu\",center=0, annot=True,fmt=\"d\", annot_kws=akws) \n",
    "plt.ylabel('Actual label', fontsize=15,fontweight=\"bold\",color=\"red\")\n",
    "plt.xlabel('Predicted label', fontsize=15, fontweight=\"bold\",color=\"red\")\n",
    "plt.show()\n",
    "#ax.figure.savefig('BrookLyn_Binary.png')"
   ]
  },
  {
   "cell_type": "markdown",
   "metadata": {},
   "source": [
    "The scikit-learn library also provides a separate OneVsRestClassifier class that allows the one-vs-rest strategy to be used with any classifier.\n",
    "It is very easy to use and requires that a classifier that is to be used for binary classification be provided to the OneVsRestClassifier as an argument.\n",
    "Lets use the OneVsRestClassifier class with a LogisticRegression class used as the binary classification model."
   ]
  },
  {
   "cell_type": "code",
   "execution_count": 32,
   "metadata": {},
   "outputs": [
    {
     "name": "stdout",
     "output_type": "stream",
     "text": [
      "[1 1 1 ... 1 1 1]\n"
     ]
    }
   ],
   "source": [
    "# logistic regression for multi-class classification using a one-vs-rest\n",
    "from sklearn.datasets import make_classification\n",
    "from sklearn.linear_model import LogisticRegression\n",
    "from sklearn.multiclass import OneVsRestClassifier\n",
    "# # define dataset\n",
    "# X, y = make_classification(n_samples=17000, n_features=10, n_informative=5, n_redundant=5, n_classes=5, random_state=1)\n",
    "# define model\n",
    "model = LogisticRegression(solver='lbfgs')\n",
    "# define the ovr strategy\n",
    "ovr = OneVsRestClassifier(model)\n",
    "# fit model\n",
    "ovr.fit(X_train, y_train)\n",
    "# make predictions\n",
    "yhat = ovr.predict(X_test)\n",
    "print(yhat)"
   ]
  },
  {
   "cell_type": "code",
   "execution_count": 33,
   "metadata": {},
   "outputs": [
    {
     "data": {
      "text/plain": [
       "array([1, 1, 1, ..., 1, 1, 1], dtype=int64)"
      ]
     },
     "execution_count": 33,
     "metadata": {},
     "output_type": "execute_result"
    }
   ],
   "source": [
    "#Now we can predict using our test set:\n",
    "yhat"
   ]
  },
  {
   "cell_type": "code",
   "execution_count": 34,
   "metadata": {},
   "outputs": [
    {
     "name": "stdout",
     "output_type": "stream",
     "text": [
      "0.38060517681370765\n"
     ]
    }
   ],
   "source": [
    "print(metrics.accuracy_score(y_test, yhat))"
   ]
  },
  {
   "cell_type": "code",
   "execution_count": 35,
   "metadata": {},
   "outputs": [
    {
     "data": {
      "image/png": "[encoded data removed]",
      "text/plain": [
       "<Figure size 432x288 with 2 Axes>"
      ]
     },
     "metadata": {},
     "output_type": "display_data"
    }
   ],
   "source": [
    "# Compute confusion matrix\n",
    "cnf_matrix1 = confusion_matrix(y_test, yhat, labels=[0,1,2,3,4])\n",
    "\n",
    "sn.set(font_scale=2.0) # for label size\n",
    "akws = {\"size\": 15,\"ha\": 'center',\"va\": 'center',\"color\":'red'}\n",
    "# font size, Horizontal position ('center', 'right', 'left'), \n",
    "#Vertical position('top', 'bottom', 'center', 'baseline', 'center_baseline')\n",
    "ax=sn.heatmap(cnf_matrix1, linewidths=1.0, linecolor=\"red\",cmap=\"YlGnBu\",center=0, annot=True,fmt=\"d\", annot_kws=akws) \n",
    "plt.ylabel('Actual label', fontsize=15,fontweight=\"bold\",color=\"red\")\n",
    "plt.xlabel('Predicted label', fontsize=15, fontweight=\"bold\",color=\"red\")\n",
    "plt.show()"
   ]
  },
  {
   "cell_type": "code",
   "execution_count": null,
   "metadata": {},
   "outputs": [],
   "source": [
    "from sklearn.multiclass import OneVsRestClassifier\n",
    "from sklearn.svm import SVC\n",
    "clf = OneVsRestClassifier(SVC(gamma='auto')).fit(X, y)\n",
    "yhat_svm=clf.predict(X)\n",
    "print(yhat_svm[0:30])"
   ]
  },
  {
   "cell_type": "markdown",
   "metadata": {},
   "source": [
    "<h2 id=\"pattern_visualization\"> One-Vs-One for Multi-Class Classification</h2>\n",
    "The support vector machine implementation in the scikit-learn is provided by the SVC class and supports the one-vs-one method for multi-class classification problems. This can be achieved by setting the “decision_function_shape” argument to ‘ovo‘."
   ]
  },
  {
   "cell_type": "code",
   "execution_count": 8,
   "metadata": {},
   "outputs": [
    {
     "name": "stdout",
     "output_type": "stream",
     "text": [
      "[1 1 1 1 1 1 1 1 1 1 1 1 1 1 1 1 1 1 1 1 1 1 1 1 1 1 1 1 1 1]\n"
     ]
    }
   ],
   "source": [
    "from sklearn.model_selection import train_test_split\n",
    "from sklearn.multiclass import OneVsOneClassifier\n",
    "from sklearn.svm import LinearSVC\n",
    "\n",
    "X_train, X_test, y_train, y_test = train_test_split(X, y, test_size=0.33, shuffle=True, random_state=0)\n",
    "clf = OneVsOneClassifier(LinearSVC(random_state=0)).fit(X_train, y_train)\n",
    "yhat_svm_OvO=clf.predict(X_test)\n",
    "print(yhat[0:30])"
   ]
  },
  {
   "cell_type": "code",
   "execution_count": null,
   "metadata": {},
   "outputs": [],
   "source": [
    "cnf_svmOvO = confusion_matrix(y_test, yhat_svm_OvO, labels=[0,1,2,3,4])\n",
    "\n",
    "sn.set(font_scale=2.0) # for label size\n",
    "akws = {\"size\": 15,\"ha\": 'center',\"va\": 'center',\"color\":'red'}\n",
    "# font size, Horizontal position ('center', 'right', 'left'), \n",
    "#Vertical position('top', 'bottom', 'center', 'baseline', 'center_baseline')\n",
    "ax=sn.heatmap(cnf_svmOvR, linewidths=1.0, linecolor=\"red\",cmap=\"YlGnBu\",center=0, annot=True,fmt=\"d\", annot_kws=akws) \n",
    "plt.ylabel('Actual label', fontsize=15,fontweight=\"bold\",color=\"red\")\n",
    "plt.xlabel('Predicted label', fontsize=15, fontweight=\"bold\",color=\"red\")\n",
    "plt.show()"
   ]
  },
  {
   "cell_type": "markdown",
   "metadata": {},
   "source": [
    "<h2 id=\"pattern_visualization\"> Conclusion</h2>\n",
    "Out of those 7 model XGBoost producesbest results. KNN and SVM also give beteer result (accuracy ~40%)"
   ]
  },
  {
   "cell_type": "markdown",
   "metadata": {},
   "source": [
    "<hr>\n",
    "<p>Copyright &copy; 2020 Mustafizur Rahman <a href=\"https://www.linkedin.com/in/dr-mohammad-rahman-2434b313/\">LinkedIn</a>.</p>"
   ]
  }
 ],
 "metadata": {
  "anaconda-cloud": {},
  "kernelspec": {
   "display_name": "Python 3",
   "language": "python",
   "name": "python3"
  },
  "language_info": {
   "codemirror_mode": {
    "name": "ipython",
    "version": 3
   },
   "file_extension": ".py",
   "mimetype": "text/x-python",
   "name": "python",
   "nbconvert_exporter": "python",
   "pygments_lexer": "ipython3",
   "version": "3.7.4"
  }
 },
 "nbformat": 4,
 "nbformat_minor": 4
}

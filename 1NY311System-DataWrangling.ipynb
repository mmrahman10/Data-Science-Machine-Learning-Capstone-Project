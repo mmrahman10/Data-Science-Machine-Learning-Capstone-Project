{
 "cells": [
  {
   "cell_type": "markdown",
   "metadata": {},
   "source": [
    "<div class=\"alert alert-block alert-info\" style=\"margin-top: 20px\">\n",
    "    <a href=\"https://cocl.us/corsera_da0101en_notebook_top\">\n",
    "         <img src=\"https://s3-api.us-geo.objectstorage.softlayer.net/cf-courses-data/CognitiveClass/DA0101EN/Images/TopAd.png\" width=\"750\" align=\"center\">\n",
    "    </a>\n",
    "</div>"
   ]
  },
  {
   "cell_type": "markdown",
   "metadata": {},
   "source": [
    "<h1 align=center><font size=5>Data Science and Machine Learning Capstone Project</font></h1>"
   ]
  },
  {
   "cell_type": "markdown",
   "metadata": {},
   "source": [
    "<h1>New Yorker 311 system Data Wrangling</h1>"
   ]
  },
  {
   "cell_type": "markdown",
   "metadata": {},
   "source": [
    "<h2>What is the purpose of Data Wrangling?</h2>"
   ]
  },
  {
   "cell_type": "markdown",
   "metadata": {},
   "source": [
    "Data Wrangling is the process of converting data from the initial format to a format that may be better for analysis."
   ]
  },
  {
   "cell_type": "markdown",
   "metadata": {},
   "source": [
    "<h3>Import data</h3>\n"
   ]
  },
  {
   "cell_type": "markdown",
   "metadata": {},
   "source": [
    "<h4>Import pandas</h4> "
   ]
  },
  {
   "cell_type": "code",
   "execution_count": 1,
   "metadata": {},
   "outputs": [],
   "source": [
    "import pandas as pd\n",
    "import matplotlib.pylab as plt"
   ]
  },
  {
   "cell_type": "markdown",
   "metadata": {},
   "source": [
    "<h2>Reading the data set from Computer storage folder.</h2>"
   ]
  },
  {
   "cell_type": "code",
   "execution_count": 2,
   "metadata": {},
   "outputs": [],
   "source": [
    "filename = 'E:\\\\1.IPCOS BACKUP\\\\3. MMR_PSNL\\\\2020 Data Science and Analytics Courses\\\\3. Python Data Science Certificate\\\\5. Data Science and Machine Learning Capstone Project\\\\311_Service_Requests_from_2010_to_Present_min.csv'"
   ]
  },
  {
   "cell_type": "markdown",
   "metadata": {},
   "source": [
    "Use the Pandas method <b>read_csv()</b> to load the data from local drive."
   ]
  },
  {
   "cell_type": "code",
   "execution_count": 22,
   "metadata": {
    "jupyter": {
     "outputs_hidden": false
    }
   },
   "outputs": [
    {
     "name": "stdout",
     "output_type": "stream",
     "text": [
      "(6019843, 16)\n"
     ]
    },
    {
     "data": {
      "text/html": [
       "<div>\n",
       "<style scoped>\n",
       "    .dataframe tbody tr th:only-of-type {\n",
       "        vertical-align: middle;\n",
       "    }\n",
       "\n",
       "    .dataframe tbody tr th {\n",
       "        vertical-align: top;\n",
       "    }\n",
       "\n",
       "    .dataframe thead th {\n",
       "        text-align: right;\n",
       "    }\n",
       "</style>\n",
       "<table border=\"1\" class=\"dataframe\">\n",
       "  <thead>\n",
       "    <tr style=\"text-align: right;\">\n",
       "      <th></th>\n",
       "      <th>Unnamed: 0</th>\n",
       "      <th>Unique Key</th>\n",
       "      <th>Created Date</th>\n",
       "      <th>Closed Date</th>\n",
       "      <th>Complaint Type</th>\n",
       "      <th>Location Type</th>\n",
       "      <th>Incident Zip</th>\n",
       "      <th>Incident Address</th>\n",
       "      <th>Street Name</th>\n",
       "      <th>Address Type</th>\n",
       "      <th>City</th>\n",
       "      <th>Status</th>\n",
       "      <th>Resolution Description</th>\n",
       "      <th>Borough</th>\n",
       "      <th>Latitude</th>\n",
       "      <th>Longitude</th>\n",
       "    </tr>\n",
       "  </thead>\n",
       "  <tbody>\n",
       "    <tr>\n",
       "      <td>6019833</td>\n",
       "      <td>6019833</td>\n",
       "      <td>44063661</td>\n",
       "      <td>10/15/2019 10:13:11 PM</td>\n",
       "      <td>10/16/2019 02:07:21 AM</td>\n",
       "      <td>HEAT/HOT WATER</td>\n",
       "      <td>RESIDENTIAL BUILDING</td>\n",
       "      <td>10452.0</td>\n",
       "      <td>957 WOODYCREST AVENUE</td>\n",
       "      <td>WOODYCREST AVENUE</td>\n",
       "      <td>ADDRESS</td>\n",
       "      <td>BRONX</td>\n",
       "      <td>Closed</td>\n",
       "      <td>The complaint you filed is a duplicate of a co...</td>\n",
       "      <td>BRONX</td>\n",
       "      <td>40.831527</td>\n",
       "      <td>-73.928863</td>\n",
       "    </tr>\n",
       "    <tr>\n",
       "      <td>6019834</td>\n",
       "      <td>6019834</td>\n",
       "      <td>44063670</td>\n",
       "      <td>10/15/2019 08:25:25 AM</td>\n",
       "      <td>10/16/2019 09:55:24 PM</td>\n",
       "      <td>HEAT/HOT WATER</td>\n",
       "      <td>RESIDENTIAL BUILDING</td>\n",
       "      <td>10470.0</td>\n",
       "      <td>707 EAST  242 STREET</td>\n",
       "      <td>EAST  242 STREET</td>\n",
       "      <td>ADDRESS</td>\n",
       "      <td>BRONX</td>\n",
       "      <td>Closed</td>\n",
       "      <td>The Department of Housing Preservation and Dev...</td>\n",
       "      <td>BRONX</td>\n",
       "      <td>40.905645</td>\n",
       "      <td>-73.849026</td>\n",
       "    </tr>\n",
       "    <tr>\n",
       "      <td>6019835</td>\n",
       "      <td>6019835</td>\n",
       "      <td>44063671</td>\n",
       "      <td>10/15/2019 09:32:54 AM</td>\n",
       "      <td>10/16/2019 07:02:48 PM</td>\n",
       "      <td>HEAT/HOT WATER</td>\n",
       "      <td>RESIDENTIAL BUILDING</td>\n",
       "      <td>10458.0</td>\n",
       "      <td>2786 BAINBRIDGE AVENUE</td>\n",
       "      <td>BAINBRIDGE AVENUE</td>\n",
       "      <td>ADDRESS</td>\n",
       "      <td>BRONX</td>\n",
       "      <td>Closed</td>\n",
       "      <td>The Department of Housing Preservation and Dev...</td>\n",
       "      <td>BRONX</td>\n",
       "      <td>40.868017</td>\n",
       "      <td>-73.888941</td>\n",
       "    </tr>\n",
       "    <tr>\n",
       "      <td>6019836</td>\n",
       "      <td>6019836</td>\n",
       "      <td>44063680</td>\n",
       "      <td>10/15/2019 06:43:56 PM</td>\n",
       "      <td>10/16/2019 05:55:02 PM</td>\n",
       "      <td>HEAT/HOT WATER</td>\n",
       "      <td>RESIDENTIAL BUILDING</td>\n",
       "      <td>10029.0</td>\n",
       "      <td>327 EAST  108 STREET</td>\n",
       "      <td>EAST  108 STREET</td>\n",
       "      <td>ADDRESS</td>\n",
       "      <td>NEW YORK</td>\n",
       "      <td>Closed</td>\n",
       "      <td>The complaint you filed is a duplicate of a co...</td>\n",
       "      <td>MANHATTAN</td>\n",
       "      <td>40.791359</td>\n",
       "      <td>-73.940184</td>\n",
       "    </tr>\n",
       "    <tr>\n",
       "      <td>6019837</td>\n",
       "      <td>6019837</td>\n",
       "      <td>44063681</td>\n",
       "      <td>10/15/2019 11:35:19 AM</td>\n",
       "      <td>NaN</td>\n",
       "      <td>UNSANITARY CONDITION</td>\n",
       "      <td>RESIDENTIAL BUILDING</td>\n",
       "      <td>10472.0</td>\n",
       "      <td>1630 EAST  174 STREET</td>\n",
       "      <td>EAST  174 STREET</td>\n",
       "      <td>ADDRESS</td>\n",
       "      <td>BRONX</td>\n",
       "      <td>Open</td>\n",
       "      <td>The following complaint conditions are still o...</td>\n",
       "      <td>BRONX</td>\n",
       "      <td>40.834029</td>\n",
       "      <td>-73.875432</td>\n",
       "    </tr>\n",
       "    <tr>\n",
       "      <td>6019838</td>\n",
       "      <td>6019838</td>\n",
       "      <td>44063685</td>\n",
       "      <td>10/15/2019 10:35:45 AM</td>\n",
       "      <td>10/16/2019 05:55:02 PM</td>\n",
       "      <td>HEAT/HOT WATER</td>\n",
       "      <td>RESIDENTIAL BUILDING</td>\n",
       "      <td>10029.0</td>\n",
       "      <td>327 EAST  108 STREET</td>\n",
       "      <td>EAST  108 STREET</td>\n",
       "      <td>ADDRESS</td>\n",
       "      <td>NEW YORK</td>\n",
       "      <td>Closed</td>\n",
       "      <td>The complaint you filed is a duplicate of a co...</td>\n",
       "      <td>MANHATTAN</td>\n",
       "      <td>40.791359</td>\n",
       "      <td>-73.940184</td>\n",
       "    </tr>\n",
       "    <tr>\n",
       "      <td>6019839</td>\n",
       "      <td>6019839</td>\n",
       "      <td>44063692</td>\n",
       "      <td>10/15/2019 06:09:28 AM</td>\n",
       "      <td>10/15/2019 04:12:58 PM</td>\n",
       "      <td>HEAT/HOT WATER</td>\n",
       "      <td>RESIDENTIAL BUILDING</td>\n",
       "      <td>10461.0</td>\n",
       "      <td>3555 BRUCKNER BOULEVARD</td>\n",
       "      <td>BRUCKNER BOULEVARD</td>\n",
       "      <td>ADDRESS</td>\n",
       "      <td>BRONX</td>\n",
       "      <td>Closed</td>\n",
       "      <td>The Department of Housing Preservation and Dev...</td>\n",
       "      <td>BRONX</td>\n",
       "      <td>40.847809</td>\n",
       "      <td>-73.827481</td>\n",
       "    </tr>\n",
       "    <tr>\n",
       "      <td>6019840</td>\n",
       "      <td>6019840</td>\n",
       "      <td>44063724</td>\n",
       "      <td>10/15/2019 10:54:45 AM</td>\n",
       "      <td>10/16/2019 06:14:29 PM</td>\n",
       "      <td>HEAT/HOT WATER</td>\n",
       "      <td>RESIDENTIAL BUILDING</td>\n",
       "      <td>10034.0</td>\n",
       "      <td>165 SHERMAN AVENUE</td>\n",
       "      <td>SHERMAN AVENUE</td>\n",
       "      <td>ADDRESS</td>\n",
       "      <td>NEW YORK</td>\n",
       "      <td>Closed</td>\n",
       "      <td>The complaint you filed is a duplicate of a co...</td>\n",
       "      <td>MANHATTAN</td>\n",
       "      <td>40.864764</td>\n",
       "      <td>-73.922764</td>\n",
       "    </tr>\n",
       "    <tr>\n",
       "      <td>6019841</td>\n",
       "      <td>6019841</td>\n",
       "      <td>44063726</td>\n",
       "      <td>10/15/2019 02:07:34 PM</td>\n",
       "      <td>10/16/2019 07:10:19 PM</td>\n",
       "      <td>HEAT/HOT WATER</td>\n",
       "      <td>RESIDENTIAL BUILDING</td>\n",
       "      <td>10467.0</td>\n",
       "      <td>66 WEST GUN HILL ROAD</td>\n",
       "      <td>WEST GUN HILL ROAD</td>\n",
       "      <td>ADDRESS</td>\n",
       "      <td>BRONX</td>\n",
       "      <td>Closed</td>\n",
       "      <td>The Department of Housing Preservation and Dev...</td>\n",
       "      <td>BRONX</td>\n",
       "      <td>40.883207</td>\n",
       "      <td>-73.884279</td>\n",
       "    </tr>\n",
       "    <tr>\n",
       "      <td>6019842</td>\n",
       "      <td>6019842</td>\n",
       "      <td>44063737</td>\n",
       "      <td>10/15/2019 11:29:01 AM</td>\n",
       "      <td>10/15/2019 09:19:45 PM</td>\n",
       "      <td>PAINT/PLASTER</td>\n",
       "      <td>RESIDENTIAL BUILDING</td>\n",
       "      <td>10009.0</td>\n",
       "      <td>143 AVENUE D</td>\n",
       "      <td>AVENUE D</td>\n",
       "      <td>ADDRESS</td>\n",
       "      <td>NEW YORK</td>\n",
       "      <td>Closed</td>\n",
       "      <td>The Department of Housing Preservation and Dev...</td>\n",
       "      <td>MANHATTAN</td>\n",
       "      <td>40.724749</td>\n",
       "      <td>-73.975269</td>\n",
       "    </tr>\n",
       "  </tbody>\n",
       "</table>\n",
       "</div>"
      ],
      "text/plain": [
       "         Unnamed: 0  Unique Key            Created Date  \\\n",
       "6019833     6019833    44063661  10/15/2019 10:13:11 PM   \n",
       "6019834     6019834    44063670  10/15/2019 08:25:25 AM   \n",
       "6019835     6019835    44063671  10/15/2019 09:32:54 AM   \n",
       "6019836     6019836    44063680  10/15/2019 06:43:56 PM   \n",
       "6019837     6019837    44063681  10/15/2019 11:35:19 AM   \n",
       "6019838     6019838    44063685  10/15/2019 10:35:45 AM   \n",
       "6019839     6019839    44063692  10/15/2019 06:09:28 AM   \n",
       "6019840     6019840    44063724  10/15/2019 10:54:45 AM   \n",
       "6019841     6019841    44063726  10/15/2019 02:07:34 PM   \n",
       "6019842     6019842    44063737  10/15/2019 11:29:01 AM   \n",
       "\n",
       "                    Closed Date        Complaint Type         Location Type  \\\n",
       "6019833  10/16/2019 02:07:21 AM        HEAT/HOT WATER  RESIDENTIAL BUILDING   \n",
       "6019834  10/16/2019 09:55:24 PM        HEAT/HOT WATER  RESIDENTIAL BUILDING   \n",
       "6019835  10/16/2019 07:02:48 PM        HEAT/HOT WATER  RESIDENTIAL BUILDING   \n",
       "6019836  10/16/2019 05:55:02 PM        HEAT/HOT WATER  RESIDENTIAL BUILDING   \n",
       "6019837                     NaN  UNSANITARY CONDITION  RESIDENTIAL BUILDING   \n",
       "6019838  10/16/2019 05:55:02 PM        HEAT/HOT WATER  RESIDENTIAL BUILDING   \n",
       "6019839  10/15/2019 04:12:58 PM        HEAT/HOT WATER  RESIDENTIAL BUILDING   \n",
       "6019840  10/16/2019 06:14:29 PM        HEAT/HOT WATER  RESIDENTIAL BUILDING   \n",
       "6019841  10/16/2019 07:10:19 PM        HEAT/HOT WATER  RESIDENTIAL BUILDING   \n",
       "6019842  10/15/2019 09:19:45 PM         PAINT/PLASTER  RESIDENTIAL BUILDING   \n",
       "\n",
       "         Incident Zip         Incident Address         Street Name  \\\n",
       "6019833       10452.0    957 WOODYCREST AVENUE   WOODYCREST AVENUE   \n",
       "6019834       10470.0     707 EAST  242 STREET    EAST  242 STREET   \n",
       "6019835       10458.0   2786 BAINBRIDGE AVENUE   BAINBRIDGE AVENUE   \n",
       "6019836       10029.0     327 EAST  108 STREET    EAST  108 STREET   \n",
       "6019837       10472.0    1630 EAST  174 STREET    EAST  174 STREET   \n",
       "6019838       10029.0     327 EAST  108 STREET    EAST  108 STREET   \n",
       "6019839       10461.0  3555 BRUCKNER BOULEVARD  BRUCKNER BOULEVARD   \n",
       "6019840       10034.0       165 SHERMAN AVENUE      SHERMAN AVENUE   \n",
       "6019841       10467.0    66 WEST GUN HILL ROAD  WEST GUN HILL ROAD   \n",
       "6019842       10009.0             143 AVENUE D            AVENUE D   \n",
       "\n",
       "        Address Type      City  Status  \\\n",
       "6019833      ADDRESS     BRONX  Closed   \n",
       "6019834      ADDRESS     BRONX  Closed   \n",
       "6019835      ADDRESS     BRONX  Closed   \n",
       "6019836      ADDRESS  NEW YORK  Closed   \n",
       "6019837      ADDRESS     BRONX    Open   \n",
       "6019838      ADDRESS  NEW YORK  Closed   \n",
       "6019839      ADDRESS     BRONX  Closed   \n",
       "6019840      ADDRESS  NEW YORK  Closed   \n",
       "6019841      ADDRESS     BRONX  Closed   \n",
       "6019842      ADDRESS  NEW YORK  Closed   \n",
       "\n",
       "                                    Resolution Description    Borough  \\\n",
       "6019833  The complaint you filed is a duplicate of a co...      BRONX   \n",
       "6019834  The Department of Housing Preservation and Dev...      BRONX   \n",
       "6019835  The Department of Housing Preservation and Dev...      BRONX   \n",
       "6019836  The complaint you filed is a duplicate of a co...  MANHATTAN   \n",
       "6019837  The following complaint conditions are still o...      BRONX   \n",
       "6019838  The complaint you filed is a duplicate of a co...  MANHATTAN   \n",
       "6019839  The Department of Housing Preservation and Dev...      BRONX   \n",
       "6019840  The complaint you filed is a duplicate of a co...  MANHATTAN   \n",
       "6019841  The Department of Housing Preservation and Dev...      BRONX   \n",
       "6019842  The Department of Housing Preservation and Dev...  MANHATTAN   \n",
       "\n",
       "          Latitude  Longitude  \n",
       "6019833  40.831527 -73.928863  \n",
       "6019834  40.905645 -73.849026  \n",
       "6019835  40.868017 -73.888941  \n",
       "6019836  40.791359 -73.940184  \n",
       "6019837  40.834029 -73.875432  \n",
       "6019838  40.791359 -73.940184  \n",
       "6019839  40.847809 -73.827481  \n",
       "6019840  40.864764 -73.922764  \n",
       "6019841  40.883207 -73.884279  \n",
       "6019842  40.724749 -73.975269  "
      ]
     },
     "execution_count": 22,
     "metadata": {},
     "output_type": "execute_result"
    }
   ],
   "source": [
    "#df = pd.read_csv(filename, names = headers)\n",
    "df = pd.read_csv(filename)\n",
    "print(df.shape)\n",
    "#df.size\n",
    "df.tail(10)"
   ]
  },
  {
   "cell_type": "markdown",
   "metadata": {},
   "source": [
    "<b>Date Time Sort!</b>\n",
    "\n",
    "For quiz 1 Question 1 and 2.\n",
    "Q#1:The dataset contains complaints logged since what date? '01/01/2010'\n",
    "Q#2: The dataset contains complaints logged till what date? '02/02/2020'"
   ]
  },
  {
   "cell_type": "code",
   "execution_count": 25,
   "metadata": {},
   "outputs": [
    {
     "data": {
      "text/html": [
       "<div>\n",
       "<style scoped>\n",
       "    .dataframe tbody tr th:only-of-type {\n",
       "        vertical-align: middle;\n",
       "    }\n",
       "\n",
       "    .dataframe tbody tr th {\n",
       "        vertical-align: top;\n",
       "    }\n",
       "\n",
       "    .dataframe thead th {\n",
       "        text-align: right;\n",
       "    }\n",
       "</style>\n",
       "<table border=\"1\" class=\"dataframe\">\n",
       "  <thead>\n",
       "    <tr style=\"text-align: right;\">\n",
       "      <th></th>\n",
       "      <th>Created Date</th>\n",
       "    </tr>\n",
       "  </thead>\n",
       "  <tbody>\n",
       "    <tr>\n",
       "      <td>0</td>\n",
       "      <td>02/02/2020 06:09:17 AM</td>\n",
       "    </tr>\n",
       "    <tr>\n",
       "      <td>1</td>\n",
       "      <td>02/02/2020 02:15:24 PM</td>\n",
       "    </tr>\n",
       "    <tr>\n",
       "      <td>2</td>\n",
       "      <td>02/02/2020 02:27:41 AM</td>\n",
       "    </tr>\n",
       "    <tr>\n",
       "      <td>3</td>\n",
       "      <td>02/02/2020 12:13:18 PM</td>\n",
       "    </tr>\n",
       "    <tr>\n",
       "      <td>4</td>\n",
       "      <td>02/02/2020 01:59:44 PM</td>\n",
       "    </tr>\n",
       "    <tr>\n",
       "      <td>5</td>\n",
       "      <td>02/02/2020 07:52:08 AM</td>\n",
       "    </tr>\n",
       "    <tr>\n",
       "      <td>6</td>\n",
       "      <td>02/02/2020 11:13:42 PM</td>\n",
       "    </tr>\n",
       "    <tr>\n",
       "      <td>7</td>\n",
       "      <td>02/02/2020 09:00:54 AM</td>\n",
       "    </tr>\n",
       "    <tr>\n",
       "      <td>8</td>\n",
       "      <td>02/02/2020 11:38:34 AM</td>\n",
       "    </tr>\n",
       "    <tr>\n",
       "      <td>9</td>\n",
       "      <td>02/02/2020 10:59:58 AM</td>\n",
       "    </tr>\n",
       "    <tr>\n",
       "      <td>10</td>\n",
       "      <td>02/02/2020 05:38:39 AM</td>\n",
       "    </tr>\n",
       "    <tr>\n",
       "      <td>11</td>\n",
       "      <td>02/02/2020 10:13:57 AM</td>\n",
       "    </tr>\n",
       "    <tr>\n",
       "      <td>12</td>\n",
       "      <td>02/02/2020 09:12:29 AM</td>\n",
       "    </tr>\n",
       "    <tr>\n",
       "      <td>13</td>\n",
       "      <td>02/02/2020 01:53:34 PM</td>\n",
       "    </tr>\n",
       "    <tr>\n",
       "      <td>14</td>\n",
       "      <td>02/02/2020 04:09:57 PM</td>\n",
       "    </tr>\n",
       "    <tr>\n",
       "      <td>15</td>\n",
       "      <td>02/02/2020 03:50:43 PM</td>\n",
       "    </tr>\n",
       "    <tr>\n",
       "      <td>16</td>\n",
       "      <td>02/02/2020 04:11:19 AM</td>\n",
       "    </tr>\n",
       "    <tr>\n",
       "      <td>17</td>\n",
       "      <td>02/02/2020 04:32:03 AM</td>\n",
       "    </tr>\n",
       "    <tr>\n",
       "      <td>18</td>\n",
       "      <td>02/02/2020 11:10:08 AM</td>\n",
       "    </tr>\n",
       "    <tr>\n",
       "      <td>19</td>\n",
       "      <td>02/02/2020 01:38:25 PM</td>\n",
       "    </tr>\n",
       "  </tbody>\n",
       "</table>\n",
       "</div>"
      ],
      "text/plain": [
       "              Created Date\n",
       "0   02/02/2020 06:09:17 AM\n",
       "1   02/02/2020 02:15:24 PM\n",
       "2   02/02/2020 02:27:41 AM\n",
       "3   02/02/2020 12:13:18 PM\n",
       "4   02/02/2020 01:59:44 PM\n",
       "5   02/02/2020 07:52:08 AM\n",
       "6   02/02/2020 11:13:42 PM\n",
       "7   02/02/2020 09:00:54 AM\n",
       "8   02/02/2020 11:38:34 AM\n",
       "9   02/02/2020 10:59:58 AM\n",
       "10  02/02/2020 05:38:39 AM\n",
       "11  02/02/2020 10:13:57 AM\n",
       "12  02/02/2020 09:12:29 AM\n",
       "13  02/02/2020 01:53:34 PM\n",
       "14  02/02/2020 04:09:57 PM\n",
       "15  02/02/2020 03:50:43 PM\n",
       "16  02/02/2020 04:11:19 AM\n",
       "17  02/02/2020 04:32:03 AM\n",
       "18  02/02/2020 11:10:08 AM\n",
       "19  02/02/2020 01:38:25 PM"
      ]
     },
     "execution_count": 25,
     "metadata": {},
     "output_type": "execute_result"
    }
   ],
   "source": [
    "#df_CreatedDate = pd.to_datetime(df['Created Date'],dayfirst=True)\n",
    "#df_CreatedDate = pd.to_datetime(df['Created Date'],infer_datetime_format=True)\n",
    "#df_CreatedDate.sort_values()\n",
    "df_CreatedDate=df[['Created Date']]\n",
    "#df.sort_values(by=['col1'])\n",
    "df_CreatedDate.sort_values(by=['Created Date'])\n",
    "df_CreatedDate.head(20)"
   ]
  },
  {
   "cell_type": "markdown",
   "metadata": {},
   "source": [
    " Check data Types and <b> Cardinality<b>. "
   ]
  },
  {
   "cell_type": "code",
   "execution_count": 4,
   "metadata": {},
   "outputs": [
    {
     "data": {
      "text/plain": [
       "Unnamed: 0                6019843\n",
       "Unique Key                6019843\n",
       "Created Date              1675132\n",
       "Closed Date                757706\n",
       "Complaint Type                 30\n",
       "Location Type                   5\n",
       "Incident Zip                  202\n",
       "Incident Address           182600\n",
       "Street Name                  6825\n",
       "Address Type                    1\n",
       "City                           89\n",
       "Status                          5\n",
       "Resolution Description        340\n",
       "Borough                         6\n",
       "Latitude                   180072\n",
       "Longitude                  180072\n",
       "dtype: int64"
      ]
     },
     "execution_count": 4,
     "metadata": {},
     "output_type": "execute_result"
    }
   ],
   "source": [
    "#print(df.shape)\n",
    "#df.head(10)\n",
    "#df.columns\n",
    "#df.dtypes\n",
    "df.apply(pd.Series.nunique)"
   ]
  },
  {
   "cell_type": "markdown",
   "metadata": {},
   "source": [
    "Identify_missing_values\n",
    "\n",
    "<h4>Evaluating for Missing Data</h4>\n",
    "\n",
    "The missing values are converted to Python's default. We use Python's built-in functions to identify these missing values. There are two methods to detect missing data:\n",
    "<ol>\n",
    "    <li><b>.isnull()</b></li>\n",
    "    <li><b>.notnull()</b></li>\n",
    "</ol>\n",
    "The output is a boolean value indicating whether the value that is passed into the argument is in fact missing data."
   ]
  },
  {
   "cell_type": "code",
   "execution_count": 5,
   "metadata": {
    "jupyter": {
     "outputs_hidden": false
    }
   },
   "outputs": [
    {
     "data": {
      "text/html": [
       "<div>\n",
       "<style scoped>\n",
       "    .dataframe tbody tr th:only-of-type {\n",
       "        vertical-align: middle;\n",
       "    }\n",
       "\n",
       "    .dataframe tbody tr th {\n",
       "        vertical-align: top;\n",
       "    }\n",
       "\n",
       "    .dataframe thead th {\n",
       "        text-align: right;\n",
       "    }\n",
       "</style>\n",
       "<table border=\"1\" class=\"dataframe\">\n",
       "  <thead>\n",
       "    <tr style=\"text-align: right;\">\n",
       "      <th></th>\n",
       "      <th>Unnamed: 0</th>\n",
       "      <th>Unique Key</th>\n",
       "      <th>Created Date</th>\n",
       "      <th>Closed Date</th>\n",
       "      <th>Complaint Type</th>\n",
       "      <th>Location Type</th>\n",
       "      <th>Incident Zip</th>\n",
       "      <th>Incident Address</th>\n",
       "      <th>Street Name</th>\n",
       "      <th>Address Type</th>\n",
       "      <th>City</th>\n",
       "      <th>Status</th>\n",
       "      <th>Resolution Description</th>\n",
       "      <th>Borough</th>\n",
       "      <th>Latitude</th>\n",
       "      <th>Longitude</th>\n",
       "    </tr>\n",
       "  </thead>\n",
       "  <tbody>\n",
       "    <tr>\n",
       "      <td>0</td>\n",
       "      <td>False</td>\n",
       "      <td>False</td>\n",
       "      <td>False</td>\n",
       "      <td>True</td>\n",
       "      <td>False</td>\n",
       "      <td>False</td>\n",
       "      <td>False</td>\n",
       "      <td>False</td>\n",
       "      <td>False</td>\n",
       "      <td>False</td>\n",
       "      <td>False</td>\n",
       "      <td>False</td>\n",
       "      <td>False</td>\n",
       "      <td>False</td>\n",
       "      <td>False</td>\n",
       "      <td>False</td>\n",
       "    </tr>\n",
       "    <tr>\n",
       "      <td>1</td>\n",
       "      <td>False</td>\n",
       "      <td>False</td>\n",
       "      <td>False</td>\n",
       "      <td>True</td>\n",
       "      <td>False</td>\n",
       "      <td>False</td>\n",
       "      <td>False</td>\n",
       "      <td>False</td>\n",
       "      <td>False</td>\n",
       "      <td>False</td>\n",
       "      <td>False</td>\n",
       "      <td>False</td>\n",
       "      <td>False</td>\n",
       "      <td>False</td>\n",
       "      <td>False</td>\n",
       "      <td>False</td>\n",
       "    </tr>\n",
       "    <tr>\n",
       "      <td>2</td>\n",
       "      <td>False</td>\n",
       "      <td>False</td>\n",
       "      <td>False</td>\n",
       "      <td>True</td>\n",
       "      <td>False</td>\n",
       "      <td>False</td>\n",
       "      <td>False</td>\n",
       "      <td>False</td>\n",
       "      <td>False</td>\n",
       "      <td>False</td>\n",
       "      <td>False</td>\n",
       "      <td>False</td>\n",
       "      <td>False</td>\n",
       "      <td>False</td>\n",
       "      <td>False</td>\n",
       "      <td>False</td>\n",
       "    </tr>\n",
       "    <tr>\n",
       "      <td>3</td>\n",
       "      <td>False</td>\n",
       "      <td>False</td>\n",
       "      <td>False</td>\n",
       "      <td>True</td>\n",
       "      <td>False</td>\n",
       "      <td>False</td>\n",
       "      <td>False</td>\n",
       "      <td>False</td>\n",
       "      <td>False</td>\n",
       "      <td>False</td>\n",
       "      <td>False</td>\n",
       "      <td>False</td>\n",
       "      <td>False</td>\n",
       "      <td>False</td>\n",
       "      <td>False</td>\n",
       "      <td>False</td>\n",
       "    </tr>\n",
       "    <tr>\n",
       "      <td>4</td>\n",
       "      <td>False</td>\n",
       "      <td>False</td>\n",
       "      <td>False</td>\n",
       "      <td>True</td>\n",
       "      <td>False</td>\n",
       "      <td>False</td>\n",
       "      <td>False</td>\n",
       "      <td>False</td>\n",
       "      <td>False</td>\n",
       "      <td>False</td>\n",
       "      <td>False</td>\n",
       "      <td>False</td>\n",
       "      <td>False</td>\n",
       "      <td>False</td>\n",
       "      <td>False</td>\n",
       "      <td>False</td>\n",
       "    </tr>\n",
       "    <tr>\n",
       "      <td>5</td>\n",
       "      <td>False</td>\n",
       "      <td>False</td>\n",
       "      <td>False</td>\n",
       "      <td>True</td>\n",
       "      <td>False</td>\n",
       "      <td>False</td>\n",
       "      <td>False</td>\n",
       "      <td>False</td>\n",
       "      <td>False</td>\n",
       "      <td>False</td>\n",
       "      <td>False</td>\n",
       "      <td>False</td>\n",
       "      <td>False</td>\n",
       "      <td>False</td>\n",
       "      <td>False</td>\n",
       "      <td>False</td>\n",
       "    </tr>\n",
       "    <tr>\n",
       "      <td>6</td>\n",
       "      <td>False</td>\n",
       "      <td>False</td>\n",
       "      <td>False</td>\n",
       "      <td>True</td>\n",
       "      <td>False</td>\n",
       "      <td>False</td>\n",
       "      <td>False</td>\n",
       "      <td>False</td>\n",
       "      <td>False</td>\n",
       "      <td>False</td>\n",
       "      <td>False</td>\n",
       "      <td>False</td>\n",
       "      <td>False</td>\n",
       "      <td>False</td>\n",
       "      <td>False</td>\n",
       "      <td>False</td>\n",
       "    </tr>\n",
       "    <tr>\n",
       "      <td>7</td>\n",
       "      <td>False</td>\n",
       "      <td>False</td>\n",
       "      <td>False</td>\n",
       "      <td>True</td>\n",
       "      <td>False</td>\n",
       "      <td>False</td>\n",
       "      <td>False</td>\n",
       "      <td>False</td>\n",
       "      <td>False</td>\n",
       "      <td>False</td>\n",
       "      <td>False</td>\n",
       "      <td>False</td>\n",
       "      <td>False</td>\n",
       "      <td>False</td>\n",
       "      <td>False</td>\n",
       "      <td>False</td>\n",
       "    </tr>\n",
       "    <tr>\n",
       "      <td>8</td>\n",
       "      <td>False</td>\n",
       "      <td>False</td>\n",
       "      <td>False</td>\n",
       "      <td>True</td>\n",
       "      <td>False</td>\n",
       "      <td>False</td>\n",
       "      <td>False</td>\n",
       "      <td>False</td>\n",
       "      <td>False</td>\n",
       "      <td>False</td>\n",
       "      <td>False</td>\n",
       "      <td>False</td>\n",
       "      <td>False</td>\n",
       "      <td>False</td>\n",
       "      <td>False</td>\n",
       "      <td>False</td>\n",
       "    </tr>\n",
       "    <tr>\n",
       "      <td>9</td>\n",
       "      <td>False</td>\n",
       "      <td>False</td>\n",
       "      <td>False</td>\n",
       "      <td>True</td>\n",
       "      <td>False</td>\n",
       "      <td>False</td>\n",
       "      <td>False</td>\n",
       "      <td>False</td>\n",
       "      <td>False</td>\n",
       "      <td>False</td>\n",
       "      <td>False</td>\n",
       "      <td>False</td>\n",
       "      <td>False</td>\n",
       "      <td>False</td>\n",
       "      <td>False</td>\n",
       "      <td>False</td>\n",
       "    </tr>\n",
       "  </tbody>\n",
       "</table>\n",
       "</div>"
      ],
      "text/plain": [
       "   Unnamed: 0  Unique Key  Created Date  Closed Date  Complaint Type  \\\n",
       "0       False       False         False         True           False   \n",
       "1       False       False         False         True           False   \n",
       "2       False       False         False         True           False   \n",
       "3       False       False         False         True           False   \n",
       "4       False       False         False         True           False   \n",
       "5       False       False         False         True           False   \n",
       "6       False       False         False         True           False   \n",
       "7       False       False         False         True           False   \n",
       "8       False       False         False         True           False   \n",
       "9       False       False         False         True           False   \n",
       "\n",
       "   Location Type  Incident Zip  Incident Address  Street Name  Address Type  \\\n",
       "0          False         False             False        False         False   \n",
       "1          False         False             False        False         False   \n",
       "2          False         False             False        False         False   \n",
       "3          False         False             False        False         False   \n",
       "4          False         False             False        False         False   \n",
       "5          False         False             False        False         False   \n",
       "6          False         False             False        False         False   \n",
       "7          False         False             False        False         False   \n",
       "8          False         False             False        False         False   \n",
       "9          False         False             False        False         False   \n",
       "\n",
       "    City  Status  Resolution Description  Borough  Latitude  Longitude  \n",
       "0  False   False                   False    False     False      False  \n",
       "1  False   False                   False    False     False      False  \n",
       "2  False   False                   False    False     False      False  \n",
       "3  False   False                   False    False     False      False  \n",
       "4  False   False                   False    False     False      False  \n",
       "5  False   False                   False    False     False      False  \n",
       "6  False   False                   False    False     False      False  \n",
       "7  False   False                   False    False     False      False  \n",
       "8  False   False                   False    False     False      False  \n",
       "9  False   False                   False    False     False      False  "
      ]
     },
     "execution_count": 5,
     "metadata": {},
     "output_type": "execute_result"
    }
   ],
   "source": [
    "missing_data = df.isnull()\n",
    "missing_data.head(10)"
   ]
  },
  {
   "cell_type": "markdown",
   "metadata": {},
   "source": [
    "<b>\"True\" stands for missing value</b>, while \"False\" stands for not missing value."
   ]
  },
  {
   "cell_type": "markdown",
   "metadata": {},
   "source": [
    "<h4>Count missing values in each column</h4>\n",
    "<p>\n",
    "Using a for loop in Python, we can quickly figure out the number of missing values in each column. As mentioned above, \"True\" represents a missing value, \"False\"  means the value is present in the dataset.  In the body of the for loop the method  \".value_counts()\"  counts the number of \"True\" values. \n",
    "</p>"
   ]
  },
  {
   "cell_type": "code",
   "execution_count": 6,
   "metadata": {
    "jupyter": {
     "outputs_hidden": false
    }
   },
   "outputs": [
    {
     "name": "stdout",
     "output_type": "stream",
     "text": [
      "Unnamed: 0\n",
      "False    6019843\n",
      "Name: Unnamed: 0, dtype: int64\n",
      "\n",
      "Unique Key\n",
      "False    6019843\n",
      "Name: Unique Key, dtype: int64\n",
      "\n",
      "Created Date\n",
      "False    6019843\n",
      "Name: Created Date, dtype: int64\n",
      "\n",
      "Closed Date\n",
      "False    5893186\n",
      "True      126657\n",
      "Name: Closed Date, dtype: int64\n",
      "\n",
      "Complaint Type\n",
      "False    6019843\n",
      "Name: Complaint Type, dtype: int64\n",
      "\n",
      "Location Type\n",
      "False    5967019\n",
      "True       52824\n",
      "Name: Location Type, dtype: int64\n",
      "\n",
      "Incident Zip\n",
      "False    5939146\n",
      "True       80697\n",
      "Name: Incident Zip, dtype: int64\n",
      "\n",
      "Incident Address\n",
      "False    5967018\n",
      "True       52825\n",
      "Name: Incident Address, dtype: int64\n",
      "\n",
      "Street Name\n",
      "False    5967018\n",
      "True       52825\n",
      "Name: Street Name, dtype: int64\n",
      "\n",
      "Address Type\n",
      "False    5935078\n",
      "True       84765\n",
      "Name: Address Type, dtype: int64\n",
      "\n",
      "City\n",
      "False    5939569\n",
      "True       80274\n",
      "Name: City, dtype: int64\n",
      "\n",
      "Status\n",
      "False    6019843\n",
      "Name: Status, dtype: int64\n",
      "\n",
      "Resolution Description\n",
      "False    6012017\n",
      "True        7826\n",
      "Name: Resolution Description, dtype: int64\n",
      "\n",
      "Borough\n",
      "False    6019843\n",
      "Name: Borough, dtype: int64\n",
      "\n",
      "Latitude\n",
      "False    5939172\n",
      "True       80671\n",
      "Name: Latitude, dtype: int64\n",
      "\n",
      "Longitude\n",
      "False    5939172\n",
      "True       80671\n",
      "Name: Longitude, dtype: int64\n",
      "\n"
     ]
    }
   ],
   "source": [
    "for column in missing_data.columns.values.tolist():\n",
    "    print(column)\n",
    "    print (missing_data[column].value_counts())\n",
    "    print(\"\") \n",
    "#for i in missing_data.columns.values.tolist():\n",
    "    #print(i)\n",
    "    #print (missing_data[i].value_counts())\n",
    "    #print(\"\")"
   ]
  },
  {
   "cell_type": "markdown",
   "metadata": {},
   "source": [
    "Based on the summary above, each column has 6019843 rows of data, ten columns containing missing data:\n",
    "<ol>\n",
    "    <li>\"Closed Date\": 126657 missing data</li>\n",
    "    <li>\"Location Type\": 52824 missing data</li>\n",
    "    <li>\"Incident Zip\": 80697 missing data</li>\n",
    "    <li>\"Incident Address\" : 52825 missing data</li>\n",
    "    <li>\"Street Name\": 52825 missing data</li>\n",
    "    <li>\"Address Type\": 84765 missing data</li>\n",
    "    <li>\"City\": 80274 missing data</li>\n",
    "    <li>\"Resolution Description\": 7826 missing data</li>\n",
    "    <li>\"Latitude\": 80671 missing data</li>\n",
    "    <li>\"Longitude\": 80671 missing data</li>\n",
    "\n",
    "</ol>"
   ]
  },
  {
   "cell_type": "markdown",
   "metadata": {},
   "source": [
    "<h3 id=\"deal_missing_values\">Deal with missing data</h3>\n",
    "<b>How to deal with missing data?</b>\n",
    "\n",
    "<ol>\n",
    "    <li>drop data<br>\n",
    "        a. drop the whole row<br>\n",
    "        b. drop the whole column\n",
    "    </li>\n",
    "    <li>replace data<br>\n",
    "        a. replace it by mean<br>\n",
    "        b. replace it by frequency<br>\n",
    "        c. replace it based on other functions\n",
    "    </li>\n",
    "</ol>"
   ]
  },
  {
   "cell_type": "markdown",
   "metadata": {},
   "source": [
    "Whole columns should be dropped only if most entries in the column are empty. In our dataset, none of the columns are empty enough to drop entirely.\n",
    "We have some freedom in choosing which method to replace data; however, some methods may seem more reasonable than others. We will apply each method to many different columns:\n",
    "We are not replacing any data in this case."
   ]
  },
  {
   "cell_type": "markdown",
   "metadata": {},
   "source": [
    "<h3 id=\"correct_data_format\">Correct data format</h3>\n",
    "<b>We are almost there!</b>\n",
    "<p>The last step in data cleaning is checking and making sure that all data is in the correct format (int, float, text or other).</p>\n",
    "\n",
    "In Pandas, we use \n",
    "<p><b>.dtype()</b> to check the data type</p>\n",
    "<p><b>.astype()</b> to change the data type</p>"
   ]
  },
  {
   "cell_type": "markdown",
   "metadata": {},
   "source": [
    "<h4>Lets list the data types for each column</h4>"
   ]
  },
  {
   "cell_type": "code",
   "execution_count": 14,
   "metadata": {
    "jupyter": {
     "outputs_hidden": false
    }
   },
   "outputs": [
    {
     "data": {
      "text/plain": [
       "Unnamed: 0                  int64\n",
       "Unique Key                  int64\n",
       "Created Date               object\n",
       "Closed Date                object\n",
       "Complaint Type             object\n",
       "Location Type              object\n",
       "Incident Zip              float64\n",
       "Incident Address           object\n",
       "Street Name                object\n",
       "Address Type               object\n",
       "City                       object\n",
       "Status                     object\n",
       "Resolution Description     object\n",
       "Borough                    object\n",
       "Latitude                  float64\n",
       "Longitude                 float64\n",
       "dtype: object"
      ]
     },
     "execution_count": 14,
     "metadata": {},
     "output_type": "execute_result"
    }
   ],
   "source": [
    "df.dtypes"
   ]
  },
  {
   "cell_type": "markdown",
   "metadata": {},
   "source": [
    "<p>As we can see above, some columns are not of the correct data type. <b>Numerical variables should have type 'float' or 'int', and variables with strings should have type 'object'</b>. For example, 'Created Date' and 'Closed Date' variables are date time , so we should expect them to be of the type 'date-time' ; however, they are shown as type 'object'. We have to convert data types into a proper format for each column using the \"astype()\" method.</p> "
   ]
  },
  {
   "cell_type": "markdown",
   "metadata": {},
   "source": [
    "<h4>Convert data types to proper format</h4>"
   ]
  },
  {
   "cell_type": "code",
   "execution_count": 21,
   "metadata": {
    "jupyter": {
     "outputs_hidden": false
    }
   },
   "outputs": [],
   "source": [
    "#df[[\"Incident Zip\"]] = df[[\"Incident Zip\"]].astype(\"int\") we cant change it integer as we have missing data \"NaN\""
   ]
  },
  {
   "cell_type": "markdown",
   "metadata": {},
   "source": [
    "<div class=\"alert alert-danger alertdanger\" style=\"margin-top: 20px\">\n",
    "<h1> Question  #1: </h1>\n",
    "\n",
    "<b>Which type of complaint should the Department of Housing Preservation and\n",
    "Development of New York City focus on .</b>\n",
    "</div>"
   ]
  },
  {
   "cell_type": "code",
   "execution_count": 23,
   "metadata": {
    "jupyter": {
     "outputs_hidden": false
    }
   },
   "outputs": [
    {
     "data": {
      "text/html": [
       "<div>\n",
       "<style scoped>\n",
       "    .dataframe tbody tr th:only-of-type {\n",
       "        vertical-align: middle;\n",
       "    }\n",
       "\n",
       "    .dataframe tbody tr th {\n",
       "        vertical-align: top;\n",
       "    }\n",
       "\n",
       "    .dataframe thead th {\n",
       "        text-align: right;\n",
       "    }\n",
       "</style>\n",
       "<table border=\"1\" class=\"dataframe\">\n",
       "  <thead>\n",
       "    <tr style=\"text-align: right;\">\n",
       "      <th></th>\n",
       "      <th>Created Date</th>\n",
       "      <th>Closed Date</th>\n",
       "      <th>Complaint Type</th>\n",
       "      <th>Location Type</th>\n",
       "      <th>Incident Address</th>\n",
       "      <th>Street Name</th>\n",
       "      <th>Address Type</th>\n",
       "      <th>City</th>\n",
       "      <th>Status</th>\n",
       "      <th>Resolution Description</th>\n",
       "      <th>Borough</th>\n",
       "    </tr>\n",
       "  </thead>\n",
       "  <tbody>\n",
       "    <tr>\n",
       "      <td>count</td>\n",
       "      <td>6019843</td>\n",
       "      <td>5893186</td>\n",
       "      <td>6019843</td>\n",
       "      <td>5967019</td>\n",
       "      <td>5967018</td>\n",
       "      <td>5967018</td>\n",
       "      <td>5935078</td>\n",
       "      <td>5939569</td>\n",
       "      <td>6019843</td>\n",
       "      <td>6012017</td>\n",
       "      <td>6019843</td>\n",
       "    </tr>\n",
       "    <tr>\n",
       "      <td>unique</td>\n",
       "      <td>1675132</td>\n",
       "      <td>757706</td>\n",
       "      <td>30</td>\n",
       "      <td>5</td>\n",
       "      <td>182600</td>\n",
       "      <td>6825</td>\n",
       "      <td>1</td>\n",
       "      <td>89</td>\n",
       "      <td>5</td>\n",
       "      <td>340</td>\n",
       "      <td>6</td>\n",
       "    </tr>\n",
       "    <tr>\n",
       "      <td>top</td>\n",
       "      <td>01/24/2013 12:00:00 AM</td>\n",
       "      <td>11/07/2012 12:00:00 AM</td>\n",
       "      <td>HEAT/HOT WATER</td>\n",
       "      <td>RESIDENTIAL BUILDING</td>\n",
       "      <td>34 ARDEN STREET</td>\n",
       "      <td>GRAND CONCOURSE</td>\n",
       "      <td>ADDRESS</td>\n",
       "      <td>BROOKLYN</td>\n",
       "      <td>Closed</td>\n",
       "      <td>The Department of Housing Preservation and Dev...</td>\n",
       "      <td>BROOKLYN</td>\n",
       "    </tr>\n",
       "    <tr>\n",
       "      <td>freq</td>\n",
       "      <td>7581</td>\n",
       "      <td>7296</td>\n",
       "      <td>1261574</td>\n",
       "      <td>5959910</td>\n",
       "      <td>14298</td>\n",
       "      <td>92450</td>\n",
       "      <td>5935078</td>\n",
       "      <td>2026580</td>\n",
       "      <td>5886253</td>\n",
       "      <td>1698990</td>\n",
       "      <td>1739886</td>\n",
       "    </tr>\n",
       "  </tbody>\n",
       "</table>\n",
       "</div>"
      ],
      "text/plain": [
       "                  Created Date             Closed Date  Complaint Type  \\\n",
       "count                  6019843                 5893186         6019843   \n",
       "unique                 1675132                  757706              30   \n",
       "top     01/24/2013 12:00:00 AM  11/07/2012 12:00:00 AM  HEAT/HOT WATER   \n",
       "freq                      7581                    7296         1261574   \n",
       "\n",
       "               Location Type Incident Address      Street Name Address Type  \\\n",
       "count                5967019          5967018          5967018      5935078   \n",
       "unique                     5           182600             6825            1   \n",
       "top     RESIDENTIAL BUILDING  34 ARDEN STREET  GRAND CONCOURSE      ADDRESS   \n",
       "freq                 5959910            14298            92450      5935078   \n",
       "\n",
       "            City   Status                             Resolution Description  \\\n",
       "count    5939569  6019843                                            6012017   \n",
       "unique        89        5                                                340   \n",
       "top     BROOKLYN   Closed  The Department of Housing Preservation and Dev...   \n",
       "freq     2026580  5886253                                            1698990   \n",
       "\n",
       "         Borough  \n",
       "count    6019843  \n",
       "unique         6  \n",
       "top     BROOKLYN  \n",
       "freq     1739886  "
      ]
     },
     "execution_count": 23,
     "metadata": {},
     "output_type": "execute_result"
    }
   ],
   "source": [
    "#df.dtypes\n",
    "df.describe(include=['object'])"
   ]
  },
  {
   "cell_type": "markdown",
   "metadata": {},
   "source": [
    "<b>Wonderful!</b>\n",
    "\n",
    "Now, we can see that we have 30 unique complaint type. Out of those \"HEAT/HOT WATER\" is maximum 1261574 complaint!. So the New York City should focus on <b>\"HEAT/HOT WATER\"</b> complaint type. Lets see how many other complaint type exist. "
   ]
  },
  {
   "cell_type": "code",
   "execution_count": 6,
   "metadata": {},
   "outputs": [
    {
     "data": {
      "text/plain": [
       "HEAT/HOT WATER            1261574\n",
       "HEATING                    887850\n",
       "PLUMBING                   711130\n",
       "GENERAL CONSTRUCTION       500863\n",
       "UNSANITARY CONDITION       451643\n",
       "PAINT - PLASTER            361257\n",
       "PAINT/PLASTER              346438\n",
       "ELECTRIC                   307310\n",
       "NONCONST                   260890\n",
       "DOOR/WINDOW                205278\n",
       "WATER LEAK                 193631\n",
       "GENERAL                    151308\n",
       "FLOORING/STAIRS            137402\n",
       "APPLIANCE                  112831\n",
       "HPD Literature Request      52824\n",
       "SAFETY                      51529\n",
       "OUTSIDE BUILDING             7142\n",
       "ELEVATOR                     6725\n",
       "Unsanitary Condition         5499\n",
       "CONSTRUCTION                 5078\n",
       "General                      1163\n",
       "Safety                        424\n",
       "STRUCTURAL                     16\n",
       "Plumbing                       11\n",
       "AGENCY                          9\n",
       "VACANT APARTMENT                6\n",
       "Outside Building                6\n",
       "Appliance                       4\n",
       "Mold                            1\n",
       "Electric                        1\n",
       "Name: Complaint Type, dtype: int64"
      ]
     },
     "execution_count": 6,
     "metadata": {},
     "output_type": "execute_result"
    }
   ],
   "source": [
    "df['Complaint Type'].value_counts()"
   ]
  },
  {
   "cell_type": "markdown",
   "metadata": {},
   "source": [
    "<div class=\"alert alert-danger alertdanger\" style=\"margin-top: 20px\">\n",
    "<h1> Question  #2: </h1>\n",
    "\n",
    "<b>Should the Department of Housing Preservation and Development of New York City\n",
    "focus on any particular set of boroughs, ZIP codes, or street (where the complaints\n",
    "are severe) for the specic type of complaint you identified in question 1.</b>\n",
    "</div>"
   ]
  },
  {
   "cell_type": "markdown",
   "metadata": {},
   "source": [
    "<b>making the group based on top Complaint Type, boroughs,ZIP codes , and street. and Finally with top Complaint Type=HEAT/HOTWATER with boroughs,ZIP codes , and street.\n",
    "\n",
    "Hint: if you would like to select those columns use the following syntax: df[['Complaint Type','boroughs' ,'Incident Zip-Incident Address']].</b>\n"
   ]
  },
  {
   "cell_type": "code",
   "execution_count": 24,
   "metadata": {
    "scrolled": true
   },
   "outputs": [
    {
     "name": "stdout",
     "output_type": "stream",
     "text": [
      "30099215\n",
      "6019843\n"
     ]
    },
    {
     "data": {
      "text/plain": [
       "BROOKLYN         2026580\n",
       "BRONX            1860522\n",
       "NEW YORK         1204417\n",
       "STATEN ISLAND     101553\n",
       "Jamaica            65977\n",
       "                  ...   \n",
       "Floral Park          208\n",
       "New Hyde Park         90\n",
       "FLORAL PARK           79\n",
       "BREEZY POINT          53\n",
       "NEW HYDE PARK         22\n",
       "Name: City, Length: 89, dtype: int64"
      ]
     },
     "execution_count": 24,
     "metadata": {},
     "output_type": "execute_result"
    }
   ],
   "source": [
    "df_ComplType =df[['Complaint Type','Incident Zip','Incident Address','City','Borough']]\n",
    "df_ComplType.head(20)\n",
    "print(df_ComplType.size)\n",
    "print(df_ComplType['City'].size)\n",
    "df_ComplType['City'].value_counts()"
   ]
  },
  {
   "cell_type": "code",
   "execution_count": 5,
   "metadata": {},
   "outputs": [
    {
     "name": "stdout",
     "output_type": "stream",
     "text": [
      "1261574\n"
     ]
    },
    {
     "data": {
      "text/plain": [
       "BRONX                  408970\n",
       "BROOKLYN               382351\n",
       "NEW YORK               283610\n",
       "Elmhurst                17585\n",
       "Jamaica                 17211\n",
       "Flushing                15478\n",
       "Astoria                 15324\n",
       "STATEN ISLAND           12291\n",
       "Woodside                 9161\n",
       "Far Rockaway             9154\n",
       "Ridgewood                8923\n",
       "Corona                   8113\n",
       "Jackson Heights          7782\n",
       "Forest Hills             5911\n",
       "Rego Park                4837\n",
       "Sunnyside                4490\n",
       "Kew Gardens              3792\n",
       "Queens Village           2786\n",
       "Long Island City         2664\n",
       "South Richmond Hill      2635\n",
       "Rockaway Park            2590\n",
       "Richmond Hill            2493\n",
       "Ozone Park               2464\n",
       "South Ozone Park         2417\n",
       "Hollis                   2271\n",
       "East Elmhurst            2207\n",
       "Saint Albans             2037\n",
       "Springfield Gardens      1904\n",
       "Woodhaven                1707\n",
       "Arverne                  1533\n",
       "Rosedale                 1488\n",
       "Fresh Meadows            1283\n",
       "Maspeth                  1179\n",
       "Oakland Gardens          1028\n",
       "Bayside                   947\n",
       "Middle Village            796\n",
       "Howard Beach              647\n",
       "College Point             625\n",
       "Whitestone                453\n",
       "Cambria Heights           417\n",
       "Little Neck               388\n",
       "Bellerose                 201\n",
       "QUEENS                    152\n",
       "Glen Oaks                 136\n",
       "Floral Park                74\n",
       "Breezy Point               47\n",
       "New Hyde Park              46\n",
       "Name: City, dtype: int64"
      ]
     },
     "execution_count": 5,
     "metadata": {},
     "output_type": "execute_result"
    }
   ],
   "source": [
    "is_heat_hot =  df_ComplType['Complaint Type']=='HEAT/HOT WATER'\n",
    "df_ComplType_top1 =df_ComplType[is_heat_hot]#Data Frame with top complaint 'Heat/HOTWATER'\n",
    "df_ComplType_top1.head(20)\n",
    "print(df_ComplType_top1['City'].size)\n",
    "df_ComplType_top1['City'].value_counts()"
   ]
  },
  {
   "cell_type": "code",
   "execution_count": 6,
   "metadata": {},
   "outputs": [
    {
     "name": "stdout",
     "output_type": "stream",
     "text": [
      "1261574\n"
     ]
    },
    {
     "data": {
      "text/plain": [
       "BRONX            410853\n",
       "BROOKLYN         384523\n",
       "MANHATTAN        285526\n",
       "QUEENS           168318\n",
       "STATEN ISLAND     12353\n",
       "Unspecified           1\n",
       "Name: Borough, dtype: int64"
      ]
     },
     "execution_count": 6,
     "metadata": {},
     "output_type": "execute_result"
    }
   ],
   "source": [
    "print(df_ComplType_top1['Borough'].size)\n",
    "df_ComplType_top1['Borough'].value_counts()"
   ]
  },
  {
   "cell_type": "code",
   "execution_count": 7,
   "metadata": {},
   "outputs": [
    {
     "name": "stdout",
     "output_type": "stream",
     "text": [
      "1261574\n"
     ]
    },
    {
     "data": {
      "text/plain": [
       "12345.0        1\n",
       "10103.0        1\n",
       "10112.0        1\n",
       "10129.0        1\n",
       "10045.0        1\n",
       "           ...  \n",
       "10453.0    34241\n",
       "10468.0    34507\n",
       "10467.0    38110\n",
       "10458.0    38864\n",
       "11226.0    41786\n",
       "Name: Incident Zip, Length: 191, dtype: int64"
      ]
     },
     "execution_count": 7,
     "metadata": {},
     "output_type": "execute_result"
    }
   ],
   "source": [
    "print(df_ComplType_top1['Incident Zip'].size)\n",
    "df_Comp_zip=df_ComplType_top1['Incident Zip'].value_counts()\n",
    "df_Comp_zip=df_Comp_zip.sort_values()\n",
    "df_Comp_zip"
   ]
  },
  {
   "cell_type": "code",
   "execution_count": 8,
   "metadata": {},
   "outputs": [
    {
     "name": "stdout",
     "output_type": "stream",
     "text": [
      "1261574\n"
     ]
    },
    {
     "data": {
      "text/plain": [
       "229 WEST 111 STREET             1\n",
       "4241 BYRON AVENUE               1\n",
       "151 WEST   21 STREET            1\n",
       "333 59 STREET                   1\n",
       "200 EDGECOMBE AVENUE            1\n",
       "                            ...  \n",
       "2090 EAST TREMONT AVENUE     3615\n",
       "9511 SHORE ROAD              4587\n",
       "34 ARDEN STREET              4965\n",
       "1025 BOYNTON AVENUE          5220\n",
       "89-21 ELMHURST AVENUE       10896\n",
       "Name: Incident Address, Length: 97979, dtype: int64"
      ]
     },
     "execution_count": 8,
     "metadata": {},
     "output_type": "execute_result"
    }
   ],
   "source": [
    "print(df_ComplType_top1['Incident Address'].size)\n",
    "df_Comp_Adrr=df_ComplType_top1['Incident Address'].value_counts()\n",
    "df_Comp_Adrr=df_Comp_Adrr.sort_values()\n",
    "df_Comp_Adrr"
   ]
  },
  {
   "cell_type": "markdown",
   "metadata": {},
   "source": [
    "<p>Based on the analysis of top complaint type HEAT/HOTWATER, Department of Housing Preservation and Development of New York City should focus on BRONX boroughs <b>(# of complaints 410853) </b>BRONX city <b>(# of complaints 410853) </b>. ZIP codes, and  <b>89-21 ELMHURST AVENUE(where the complaints are severe =10896)</b> for the HEAT/HOTWATER type of complaint .</p>\n"
   ]
  },
  {
   "cell_type": "markdown",
   "metadata": {},
   "source": [
    "<div class=\"alert alert-danger alertdanger\" style=\"margin-top: 20px\">\n",
    "<h1> Questiont #3: </h1>\n",
    "\n",
    "<b>Does the Complaint Type that you identified in response to question 1 have an\n",
    "obvious relationship with any particular characteristic or characteristics of the houses or buildings?.</b>\n",
    "</div>"
   ]
  },
  {
   "cell_type": "markdown",
   "metadata": {},
   "source": [
    "<div class=\"alert alert-danger alertdanger\" style=\"margin-top: 20px\">\n",
    "<h1> Question  #4: </h1>\n",
    "\n",
    "<b>Can a predictive model be built for a future prediction of the possibility of complaints\n",
    "of the type that you have identi.</b>\n",
    "</div>"
   ]
  },
  {
   "cell_type": "markdown",
   "metadata": {},
   "source": [
    "<div class=\"alert alert-danger alertdanger\" style=\"margin-top: 20px\">\n",
    "<h1> Quiz  #3: </h1>\n",
    "\n",
    "<b>Quiz on Affected Areas.</b>\n",
    "<p>For the complaint types that you selected in the previous module that had at least 80,000 complaints logged (HEAT/HOTWATER and HEATING), which borough had the highest number of complaints submitted</p>\n",
    "</div>"
   ]
  },
  {
   "cell_type": "code",
   "execution_count": 20,
   "metadata": {
    "jupyter": {
     "outputs_hidden": false
    }
   },
   "outputs": [
    {
     "name": "stdout",
     "output_type": "stream",
     "text": [
      "10747120\n"
     ]
    },
    {
     "data": {
      "text/html": [
       "<div>\n",
       "<style scoped>\n",
       "    .dataframe tbody tr th:only-of-type {\n",
       "        vertical-align: middle;\n",
       "    }\n",
       "\n",
       "    .dataframe tbody tr th {\n",
       "        vertical-align: top;\n",
       "    }\n",
       "\n",
       "    .dataframe thead th {\n",
       "        text-align: right;\n",
       "    }\n",
       "</style>\n",
       "<table border=\"1\" class=\"dataframe\">\n",
       "  <thead>\n",
       "    <tr style=\"text-align: right;\">\n",
       "      <th></th>\n",
       "      <th>Complaint Type</th>\n",
       "      <th>Incident Zip</th>\n",
       "      <th>Incident Address</th>\n",
       "      <th>City</th>\n",
       "      <th>Borough</th>\n",
       "    </tr>\n",
       "  </thead>\n",
       "  <tbody>\n",
       "    <tr>\n",
       "      <td>0</td>\n",
       "      <td>HEAT/HOT WATER</td>\n",
       "      <td>10019.0</td>\n",
       "      <td>426 WEST   52 STREET</td>\n",
       "      <td>NEW YORK</td>\n",
       "      <td>MANHATTAN</td>\n",
       "    </tr>\n",
       "    <tr>\n",
       "      <td>2</td>\n",
       "      <td>HEAT/HOT WATER</td>\n",
       "      <td>11372.0</td>\n",
       "      <td>87-15 37 AVENUE</td>\n",
       "      <td>Jackson Heights</td>\n",
       "      <td>QUEENS</td>\n",
       "    </tr>\n",
       "    <tr>\n",
       "      <td>3</td>\n",
       "      <td>HEAT/HOT WATER</td>\n",
       "      <td>10458.0</td>\n",
       "      <td>2405 SOUTHERN BOULEVARD</td>\n",
       "      <td>BRONX</td>\n",
       "      <td>BRONX</td>\n",
       "    </tr>\n",
       "    <tr>\n",
       "      <td>5</td>\n",
       "      <td>HEAT/HOT WATER</td>\n",
       "      <td>10456.0</td>\n",
       "      <td>1131 MORRIS AVENUE</td>\n",
       "      <td>BRONX</td>\n",
       "      <td>BRONX</td>\n",
       "    </tr>\n",
       "    <tr>\n",
       "      <td>7</td>\n",
       "      <td>HEAT/HOT WATER</td>\n",
       "      <td>11372.0</td>\n",
       "      <td>37-20 81 STREET</td>\n",
       "      <td>Jackson Heights</td>\n",
       "      <td>QUEENS</td>\n",
       "    </tr>\n",
       "    <tr>\n",
       "      <td>9</td>\n",
       "      <td>HEAT/HOT WATER</td>\n",
       "      <td>11207.0</td>\n",
       "      <td>303 WYONA STREET</td>\n",
       "      <td>BROOKLYN</td>\n",
       "      <td>BROOKLYN</td>\n",
       "    </tr>\n",
       "    <tr>\n",
       "      <td>10</td>\n",
       "      <td>HEAT/HOT WATER</td>\n",
       "      <td>10459.0</td>\n",
       "      <td>1032 ALDUS STREET</td>\n",
       "      <td>BRONX</td>\n",
       "      <td>BRONX</td>\n",
       "    </tr>\n",
       "    <tr>\n",
       "      <td>11</td>\n",
       "      <td>HEAT/HOT WATER</td>\n",
       "      <td>10039.0</td>\n",
       "      <td>2819 FREDERICK DOUGLASS BOULEVARD</td>\n",
       "      <td>NEW YORK</td>\n",
       "      <td>MANHATTAN</td>\n",
       "    </tr>\n",
       "    <tr>\n",
       "      <td>14</td>\n",
       "      <td>HEAT/HOT WATER</td>\n",
       "      <td>11226.0</td>\n",
       "      <td>297 LENOX ROAD</td>\n",
       "      <td>BROOKLYN</td>\n",
       "      <td>BROOKLYN</td>\n",
       "    </tr>\n",
       "    <tr>\n",
       "      <td>15</td>\n",
       "      <td>HEAT/HOT WATER</td>\n",
       "      <td>10011.0</td>\n",
       "      <td>334 WEST   22 STREET</td>\n",
       "      <td>NEW YORK</td>\n",
       "      <td>MANHATTAN</td>\n",
       "    </tr>\n",
       "    <tr>\n",
       "      <td>17</td>\n",
       "      <td>HEAT/HOT WATER</td>\n",
       "      <td>10026.0</td>\n",
       "      <td>225 CENTRAL PARK NORTH</td>\n",
       "      <td>NEW YORK</td>\n",
       "      <td>MANHATTAN</td>\n",
       "    </tr>\n",
       "    <tr>\n",
       "      <td>18</td>\n",
       "      <td>HEAT/HOT WATER</td>\n",
       "      <td>10031.0</td>\n",
       "      <td>529 WEST  151 STREET</td>\n",
       "      <td>NEW YORK</td>\n",
       "      <td>MANHATTAN</td>\n",
       "    </tr>\n",
       "    <tr>\n",
       "      <td>19</td>\n",
       "      <td>HEAT/HOT WATER</td>\n",
       "      <td>10473.0</td>\n",
       "      <td>880 BOYNTON AVENUE</td>\n",
       "      <td>BRONX</td>\n",
       "      <td>BRONX</td>\n",
       "    </tr>\n",
       "    <tr>\n",
       "      <td>20</td>\n",
       "      <td>HEAT/HOT WATER</td>\n",
       "      <td>11204.0</td>\n",
       "      <td>2270 64 STREET</td>\n",
       "      <td>BROOKLYN</td>\n",
       "      <td>BROOKLYN</td>\n",
       "    </tr>\n",
       "    <tr>\n",
       "      <td>21</td>\n",
       "      <td>HEAT/HOT WATER</td>\n",
       "      <td>11210.0</td>\n",
       "      <td>1655 FLATBUSH AVENUE</td>\n",
       "      <td>BROOKLYN</td>\n",
       "      <td>BROOKLYN</td>\n",
       "    </tr>\n",
       "    <tr>\n",
       "      <td>25</td>\n",
       "      <td>HEAT/HOT WATER</td>\n",
       "      <td>10034.0</td>\n",
       "      <td>502 WEST  213 STREET</td>\n",
       "      <td>NEW YORK</td>\n",
       "      <td>MANHATTAN</td>\n",
       "    </tr>\n",
       "    <tr>\n",
       "      <td>26</td>\n",
       "      <td>HEAT/HOT WATER</td>\n",
       "      <td>11238.0</td>\n",
       "      <td>500 ST JOHNS PLACE</td>\n",
       "      <td>BROOKLYN</td>\n",
       "      <td>BROOKLYN</td>\n",
       "    </tr>\n",
       "    <tr>\n",
       "      <td>28</td>\n",
       "      <td>HEAT/HOT WATER</td>\n",
       "      <td>11203.0</td>\n",
       "      <td>249 EAST   37 STREET</td>\n",
       "      <td>BROOKLYN</td>\n",
       "      <td>BROOKLYN</td>\n",
       "    </tr>\n",
       "    <tr>\n",
       "      <td>29</td>\n",
       "      <td>HEAT/HOT WATER</td>\n",
       "      <td>10463.0</td>\n",
       "      <td>3110 KINGSBRIDGE TERRACE</td>\n",
       "      <td>BRONX</td>\n",
       "      <td>BRONX</td>\n",
       "    </tr>\n",
       "    <tr>\n",
       "      <td>30</td>\n",
       "      <td>HEAT/HOT WATER</td>\n",
       "      <td>10462.0</td>\n",
       "      <td>2040 BRONXDALE AVENUE</td>\n",
       "      <td>BRONX</td>\n",
       "      <td>BRONX</td>\n",
       "    </tr>\n",
       "  </tbody>\n",
       "</table>\n",
       "</div>"
      ],
      "text/plain": [
       "    Complaint Type  Incident Zip                   Incident Address  \\\n",
       "0   HEAT/HOT WATER       10019.0               426 WEST   52 STREET   \n",
       "2   HEAT/HOT WATER       11372.0                    87-15 37 AVENUE   \n",
       "3   HEAT/HOT WATER       10458.0            2405 SOUTHERN BOULEVARD   \n",
       "5   HEAT/HOT WATER       10456.0                 1131 MORRIS AVENUE   \n",
       "7   HEAT/HOT WATER       11372.0                    37-20 81 STREET   \n",
       "9   HEAT/HOT WATER       11207.0                   303 WYONA STREET   \n",
       "10  HEAT/HOT WATER       10459.0                  1032 ALDUS STREET   \n",
       "11  HEAT/HOT WATER       10039.0  2819 FREDERICK DOUGLASS BOULEVARD   \n",
       "14  HEAT/HOT WATER       11226.0                     297 LENOX ROAD   \n",
       "15  HEAT/HOT WATER       10011.0               334 WEST   22 STREET   \n",
       "17  HEAT/HOT WATER       10026.0             225 CENTRAL PARK NORTH   \n",
       "18  HEAT/HOT WATER       10031.0               529 WEST  151 STREET   \n",
       "19  HEAT/HOT WATER       10473.0                 880 BOYNTON AVENUE   \n",
       "20  HEAT/HOT WATER       11204.0                     2270 64 STREET   \n",
       "21  HEAT/HOT WATER       11210.0               1655 FLATBUSH AVENUE   \n",
       "25  HEAT/HOT WATER       10034.0               502 WEST  213 STREET   \n",
       "26  HEAT/HOT WATER       11238.0                 500 ST JOHNS PLACE   \n",
       "28  HEAT/HOT WATER       11203.0               249 EAST   37 STREET   \n",
       "29  HEAT/HOT WATER       10463.0           3110 KINGSBRIDGE TERRACE   \n",
       "30  HEAT/HOT WATER       10462.0              2040 BRONXDALE AVENUE   \n",
       "\n",
       "               City    Borough  \n",
       "0          NEW YORK  MANHATTAN  \n",
       "2   Jackson Heights     QUEENS  \n",
       "3             BRONX      BRONX  \n",
       "5             BRONX      BRONX  \n",
       "7   Jackson Heights     QUEENS  \n",
       "9          BROOKLYN   BROOKLYN  \n",
       "10            BRONX      BRONX  \n",
       "11         NEW YORK  MANHATTAN  \n",
       "14         BROOKLYN   BROOKLYN  \n",
       "15         NEW YORK  MANHATTAN  \n",
       "17         NEW YORK  MANHATTAN  \n",
       "18         NEW YORK  MANHATTAN  \n",
       "19            BRONX      BRONX  \n",
       "20         BROOKLYN   BROOKLYN  \n",
       "21         BROOKLYN   BROOKLYN  \n",
       "25         NEW YORK  MANHATTAN  \n",
       "26         BROOKLYN   BROOKLYN  \n",
       "28         BROOKLYN   BROOKLYN  \n",
       "29            BRONX      BRONX  \n",
       "30            BRONX      BRONX  "
      ]
     },
     "execution_count": 20,
     "metadata": {},
     "output_type": "execute_result"
    }
   ],
   "source": [
    "#Data Frame with top two complaint 'Heat/HOTWATER' and 'HEATING'\n",
    "\n",
    "df_ComplType_top2 =df_ComplType[(df_ComplType['Complaint Type']=='HEAT/HOT WATER') |(df_ComplType['Complaint Type']=='HEATING')]\n",
    "print(df_ComplType_top2.size)\n",
    "df_ComplType_top2.head(20)\n"
   ]
  },
  {
   "cell_type": "code",
   "execution_count": 13,
   "metadata": {},
   "outputs": [
    {
     "name": "stdout",
     "output_type": "stream",
     "text": [
      "2149424\n"
     ]
    },
    {
     "data": {
      "text/plain": [
       "BRONX            606133\n",
       "BROOKLYN         574845\n",
       "MANHATTAN        423039\n",
       "Unspecified      282917\n",
       "QUEENS           244122\n",
       "STATEN ISLAND     18368\n",
       "Name: Borough, dtype: int64"
      ]
     },
     "execution_count": 13,
     "metadata": {},
     "output_type": "execute_result"
    }
   ],
   "source": [
    "print(df_ComplType_top2['Borough'].size)\n",
    "df_ComplType_top2['Borough'].value_counts()"
   ]
  },
  {
   "cell_type": "code",
   "execution_count": 14,
   "metadata": {},
   "outputs": [
    {
     "name": "stdout",
     "output_type": "stream",
     "text": [
      "2149424\n"
     ]
    },
    {
     "data": {
      "text/plain": [
       "12345.0        1\n",
       "10103.0        1\n",
       "10112.0        1\n",
       "10129.0        1\n",
       "10045.0        1\n",
       "           ...  \n",
       "10453.0    34241\n",
       "10468.0    34507\n",
       "10467.0    38110\n",
       "10458.0    38864\n",
       "11226.0    41786\n",
       "Name: Incident Zip, Length: 191, dtype: int64"
      ]
     },
     "execution_count": 14,
     "metadata": {},
     "output_type": "execute_result"
    }
   ],
   "source": [
    "print(df_ComplType_top2['Incident Zip'].size)\n",
    "df_Comp_zip2=df_ComplType_top2['Incident Zip'].value_counts()\n",
    "df_Comp_zip2=df_Comp_zip.sort_values()\n",
    "df_Comp_zip2"
   ]
  },
  {
   "cell_type": "code",
   "execution_count": 15,
   "metadata": {},
   "outputs": [
    {
     "name": "stdout",
     "output_type": "stream",
     "text": [
      "2149424\n"
     ]
    },
    {
     "data": {
      "text/plain": [
       "81-46 261 STREET             1\n",
       "404 JEFFERSON AVENUE         1\n",
       "51 ADRIAN AVENUE             1\n",
       "111-04 JAMAICA AVENUE        1\n",
       "463 SENECA AVENUE            1\n",
       "                         ...  \n",
       "9511 SHORE ROAD           5006\n",
       "1025 BOYNTON AVENUE       5785\n",
       "3810 BAILEY AVENUE        7115\n",
       "89-21 ELMHURST AVENUE    11548\n",
       "34 ARDEN STREET          13858\n",
       "Name: Incident Address, Length: 136949, dtype: int64"
      ]
     },
     "execution_count": 15,
     "metadata": {},
     "output_type": "execute_result"
    }
   ],
   "source": [
    "print(df_ComplType_top2['Incident Address'].size)\n",
    "df_Comp_Adrr2=df_ComplType_top2['Incident Address'].value_counts()\n",
    "df_Comp_Adrr2=df_Comp_Adrr2.sort_values()\n",
    "df_Comp_Adrr2"
   ]
  },
  {
   "cell_type": "markdown",
   "metadata": {},
   "source": [
    "<div class=\"alert alert-danger alertdanger\" style=\"margin-top: 20px\">\n",
    "<h1> Quiz  #3: </h1>\n",
    "\n",
    "<b>Quiz on Affected Areas, Question #5.</b>\n",
    "<p>For the complaint types that you selected in the previous module that had at least 80,000 complaints logged, how many of the submitted tickets were closed</p>\n",
    "</div>"
   ]
  },
  {
   "cell_type": "code",
   "execution_count": 6,
   "metadata": {},
   "outputs": [
    {
     "name": "stdout",
     "output_type": "stream",
     "text": [
      "12896544\n"
     ]
    }
   ],
   "source": [
    "df_ComplType_WithStat =df[['Complaint Type','Incident Zip','Incident Address','City','Borough','Status']]\n",
    "#df_ComplType_WithStat =df[['Complaint Type','Status']]\n",
    "#df_ComplType_Stat.head(20)\n",
    "df_top2_stat =df_ComplType_WithStat[(df_ComplType_WithStat['Complaint Type']=='HEAT/HOT WATER') |(df_ComplType_WithStat['Complaint Type']=='HEATING')]\n",
    "df_top2_stat.head(20)\n",
    "print(df_top2_stat.size)"
   ]
  },
  {
   "cell_type": "code",
   "execution_count": 11,
   "metadata": {},
   "outputs": [
    {
     "name": "stdout",
     "output_type": "stream",
     "text": [
      "2149424\n"
     ]
    },
    {
     "data": {
      "text/plain": [
       "Closed     2133331\n",
       "Open         16091\n",
       "Pending          2\n",
       "Name: Status, dtype: int64"
      ]
     },
     "execution_count": 11,
     "metadata": {},
     "output_type": "execute_result"
    }
   ],
   "source": [
    "#is_Closed =  df_ComplType_top2_stat['Status']=='Open'\n",
    "#df_ComplType_top2_stat_close =df_ComplType_top2_stat[is_Closed]\n",
    "#df_top2_stat_close =df_top2_stat[(df_top2_stat['Status']=='Closed')]\n",
    "print(df_top2_stat['Status'].size)\n",
    "df_Comp_Close=df_top2_stat['Status'].value_counts()\n",
    "#df_Comp_Adrr2=df_Comp_Adrr2.sort_values()\n",
    "df_Comp_Close"
   ]
  },
  {
   "cell_type": "code",
   "execution_count": null,
   "metadata": {},
   "outputs": [],
   "source": [
    "#The dataset contains complaints logged since what date?"
   ]
  }
 ],
 "metadata": {
  "anaconda-cloud": {},
  "kernelspec": {
   "display_name": "Python 3",
   "language": "python",
   "name": "python3"
  },
  "language_info": {
   "codemirror_mode": {
    "name": "ipython",
    "version": 3
   },
   "file_extension": ".py",
   "mimetype": "text/x-python",
   "name": "python",
   "nbconvert_exporter": "python",
   "pygments_lexer": "ipython3",
   "version": "3.7.4"
  }
 },
 "nbformat": 4,
 "nbformat_minor": 4
}
